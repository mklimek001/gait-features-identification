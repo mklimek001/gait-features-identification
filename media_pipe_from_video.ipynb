{
 "cells": [
  {
   "cell_type": "code",
   "execution_count": 1,
   "id": "f9e52ca0-ded2-4f39-b479-4d9e17c8fd2a",
   "metadata": {},
   "outputs": [],
   "source": [
    "import cv2\n",
    "from math import inf\n",
    "import mediapipe as mp\n",
    "from mediapipe.tasks import python\n",
    "from mediapipe.tasks.python import vision"
   ]
  },
  {
   "cell_type": "code",
   "execution_count": 2,
   "id": "7c06c47e-44d9-4fc0-aacc-54b88da1660e",
   "metadata": {},
   "outputs": [],
   "source": [
    "model_path = '.\\\\mediapipe_models\\\\pose_landmarker_heavy.task'"
   ]
  },
  {
   "cell_type": "code",
   "execution_count": 3,
   "id": "9e5209a6-823b-479b-8e52-7e592e9ea906",
   "metadata": {},
   "outputs": [
    {
     "name": "stdout",
     "output_type": "stream",
     "text": [
      ".\\gait3d\\Sequences\\p7s1\\Images\\c1_0090.avi\n"
     ]
    }
   ],
   "source": [
    "key_name = 'p7s1'\n",
    "camera_num = 1\n",
    "file_name = f'c{camera_num}_0090'\n",
    "frames_per_sec = 25\n",
    "sample_avi_path = f'.\\\\gait3d\\\\Sequences\\\\{key_name}\\\\Images\\\\{file_name}.avi'\n",
    "frame_size = (540, 960, 3)\n",
    "print(sample_avi_path)"
   ]
  },
  {
   "cell_type": "code",
   "execution_count": 4,
   "id": "8c025422-efc4-4272-b6a1-a33ed57fe111",
   "metadata": {},
   "outputs": [
    {
     "name": "stdout",
     "output_type": "stream",
     "text": [
      "{\n",
      "    \"start_frame\": 90,\n",
      "    \"number_of_frames\": 120,\n",
      "    \"frame_offset\": 0,\n",
      "    \"MoCap_data\": true\n",
      "}\n"
     ]
    }
   ],
   "source": [
    "import json\n",
    "from scripts.parsers import parse_sequences\n",
    "file_path = 'gait3d\\\\ListOfSequences.txt'\n",
    "sequences = parse_sequences(file_path)\n",
    "print(json.dumps(sequences[key_name], indent=4))"
   ]
  },
  {
   "cell_type": "code",
   "execution_count": 5,
   "id": "6c00b98f-361a-48cd-8a11-2469e1ee2a14",
   "metadata": {},
   "outputs": [],
   "source": [
    "def video_frame_iterator(video_path, frames_n=inf):\n",
    "    frame_duration_ms = 1000/frames_per_sec\n",
    "    cap = cv2.VideoCapture(video_path)\n",
    "    if not cap.isOpened():\n",
    "        raise ValueError(\"Error: Could not open video.\")\n",
    "        \n",
    "    iteration = 0\n",
    "    while True and iteration < frames_n:\n",
    "        ret, frame = cap.read()\n",
    "        if not ret:\n",
    "            break\n",
    "            \n",
    "        timestamp = int(frame_duration_ms*iteration)\n",
    "        iteration += 1\n",
    "        yield timestamp, frame\n",
    "        \n",
    "    cap.release()\n"
   ]
  },
  {
   "cell_type": "code",
   "execution_count": 6,
   "id": "3bbc49dc-799d-4407-b78a-195d09e4660f",
   "metadata": {},
   "outputs": [
    {
     "name": "stdout",
     "output_type": "stream",
     "text": [
      "0\n",
      "<class 'numpy.ndarray'>\n",
      "(540, 960, 3)\n"
     ]
    }
   ],
   "source": [
    "for ts, frame in video_frame_iterator(sample_avi_path, 1):\n",
    "    print(ts)\n",
    "    print(type(frame))\n",
    "    print(frame.shape)"
   ]
  },
  {
   "cell_type": "code",
   "execution_count": 7,
   "id": "b550f1b1-ecc7-4e25-b0a7-6321112d99af",
   "metadata": {},
   "outputs": [],
   "source": [
    "BaseOptions = mp.tasks.BaseOptions\n",
    "PoseLandmarker = mp.tasks.vision.PoseLandmarker\n",
    "PoseLandmarkerOptions = mp.tasks.vision.PoseLandmarkerOptions\n",
    "VisionRunningMode = mp.tasks.vision.RunningMode\n",
    "\n",
    "options = PoseLandmarkerOptions(\n",
    "    base_options=BaseOptions(model_asset_path=model_path),\n",
    "    running_mode=VisionRunningMode.VIDEO)\n"
   ]
  },
  {
   "cell_type": "code",
   "execution_count": 8,
   "id": "7f6712e6-becc-4f21-9efd-58cd58ff71de",
   "metadata": {},
   "outputs": [],
   "source": [
    "def estimate_poses_for_video(video_path):\n",
    "    frames_landmarks = []\n",
    "    with PoseLandmarker.create_from_options(options) as landmarker:\n",
    "        for frame_ts_ms, frame in video_frame_iterator(video_path):\n",
    "            mp_image = mp.Image(image_format=mp.ImageFormat.SRGB, data=frame)\n",
    "            pose_landmarker_result = landmarker.detect_for_video(mp_image, frame_ts_ms)\n",
    "            frames_landmarks.append(pose_landmarker_result)\n",
    "\n",
    "    return frames_landmarks\n"
   ]
  },
  {
   "cell_type": "code",
   "execution_count": 9,
   "id": "9978d396-85d0-40d5-966d-09c5c90501b7",
   "metadata": {},
   "outputs": [
    {
     "name": "stderr",
     "output_type": "stream",
     "text": [
      "C:\\Users\\Miko7\\Studia\\magisterka\\gait-features-identification\\venv\\lib\\site-packages\\google\\protobuf\\symbol_database.py:55: UserWarning: SymbolDatabase.GetPrototype() is deprecated. Please use message_factory.GetMessageClass() instead. SymbolDatabase.GetPrototype() will be removed soon.\n",
      "  warnings.warn('SymbolDatabase.GetPrototype() is deprecated. Please '\n"
     ]
    }
   ],
   "source": [
    "sample_landmarks = estimate_poses_for_video(sample_avi_path)"
   ]
  },
  {
   "cell_type": "code",
   "execution_count": 10,
   "id": "6c6783d9-c09d-4e7a-9b39-395f085e4e61",
   "metadata": {},
   "outputs": [
    {
     "data": {
      "text/plain": [
       "[[NormalizedLandmark(x=0.8448679447174072, y=0.2409970611333847, z=-0.07556842267513275, visibility=0.9982926249504089, presence=0.999614953994751),\n",
       "  NormalizedLandmark(x=0.8467260599136353, y=0.2308843731880188, z=-0.08980179578065872, visibility=0.997923731803894, presence=0.9996803998947144),\n",
       "  NormalizedLandmark(x=0.8479593396186829, y=0.23035624623298645, z=-0.0899634063243866, visibility=0.9982097148895264, presence=0.9997988343238831),\n",
       "  NormalizedLandmark(x=0.849114716053009, y=0.22977221012115479, z=-0.0899328738451004, visibility=0.9989669322967529, presence=0.9998242259025574),\n",
       "  NormalizedLandmark(x=0.8459903001785278, y=0.23061716556549072, z=-0.07058962434530258, visibility=0.9973806738853455, presence=0.9992572665214539),\n",
       "  NormalizedLandmark(x=0.8466466665267944, y=0.2299623191356659, z=-0.07076970487833023, visibility=0.9974954724311829, presence=0.9993405938148499),\n",
       "  NormalizedLandmark(x=0.8472632765769958, y=0.2291942834854126, z=-0.07086167484521866, visibility=0.9979945421218872, presence=0.9992222785949707),\n",
       "  NormalizedLandmark(x=0.8587758541107178, y=0.22670824825763702, z=-0.12053126841783524, visibility=0.9994223117828369, presence=0.999935507774353),\n",
       "  NormalizedLandmark(x=0.8556139469146729, y=0.2280610054731369, z=-0.0327364020049572, visibility=0.9956895709037781, presence=0.999394416809082),\n",
       "  NormalizedLandmark(x=0.8505422472953796, y=0.2506522536277771, z=-0.08237557858228683, visibility=0.999279797077179, presence=0.9999514818191528),\n",
       "  NormalizedLandmark(x=0.8494491577148438, y=0.2503798007965088, z=-0.058078840374946594, visibility=0.9981830716133118, presence=0.9997343420982361),\n",
       "  NormalizedLandmark(x=0.8935875296592712, y=0.2854614853858948, z=-0.15015092492103577, visibility=0.999996542930603, presence=0.9999991655349731),\n",
       "  NormalizedLandmark(x=0.8557350635528564, y=0.28280109167099, z=0.03511275723576546, visibility=0.9997667670249939, presence=0.9999357461929321),\n",
       "  NormalizedLandmark(x=0.8973052501678467, y=0.37135857343673706, z=-0.1682092398405075, visibility=0.9894326329231262, presence=0.9999899864196777),\n",
       "  NormalizedLandmark(x=0.8501441478729248, y=0.3674367666244507, z=0.06385214626789093, visibility=0.01469199825078249, presence=0.9998805522918701),\n",
       "  NormalizedLandmark(x=0.8877127170562744, y=0.45211657881736755, z=-0.1657039076089859, visibility=0.9691943526268005, presence=0.9999942779541016),\n",
       "  NormalizedLandmark(x=0.8439985513687134, y=0.4283653199672699, z=0.029491577297449112, visibility=0.023069342598319054, presence=0.9999374151229858),\n",
       "  NormalizedLandmark(x=0.887445867061615, y=0.474098265171051, z=-0.1817929446697235, visibility=0.932542622089386, presence=0.9999743700027466),\n",
       "  NormalizedLandmark(x=0.8410310745239258, y=0.4477486312389374, z=0.02406819351017475, visibility=0.026760995388031006, presence=0.9998854398727417),\n",
       "  NormalizedLandmark(x=0.8803190588951111, y=0.4718851149082184, z=-0.18470081686973572, visibility=0.9326288104057312, presence=0.9999691247940063),\n",
       "  NormalizedLandmark(x=0.8404601812362671, y=0.44890058040618896, z=0.007601631805300713, visibility=0.029434647411108017, presence=0.999853253364563),\n",
       "  NormalizedLandmark(x=0.8793847560882568, y=0.4647877514362335, z=-0.16525845229625702, visibility=0.8785902261734009, presence=0.999984860420227),\n",
       "  NormalizedLandmark(x=0.8413307666778564, y=0.4445207118988037, z=0.020321255549788475, visibility=0.030399642884731293, presence=0.9999183416366577),\n",
       "  NormalizedLandmark(x=0.8749555945396423, y=0.4372316896915436, z=-0.05596111714839935, visibility=0.9999841451644897, presence=0.9999995231628418),\n",
       "  NormalizedLandmark(x=0.8515905141830444, y=0.43195831775665283, z=0.05597255006432533, visibility=0.9999566078186035, presence=0.9999990463256836),\n",
       "  NormalizedLandmark(x=0.859756588935852, y=0.5503280758857727, z=0.001798716257326305, visibility=0.6501790881156921, presence=0.9999920129776001),\n",
       "  NormalizedLandmark(x=0.84532630443573, y=0.5398313403129578, z=0.08625097572803497, visibility=0.1565500646829605, presence=0.9999889135360718),\n",
       "  NormalizedLandmark(x=0.852583110332489, y=0.6511006951332092, z=0.06795937567949295, visibility=0.8511161208152771, presence=0.9999110698699951),\n",
       "  NormalizedLandmark(x=0.8394988775253296, y=0.6409867405891418, z=0.14379049837589264, visibility=0.359605997800827, presence=0.9999549388885498),\n",
       "  NormalizedLandmark(x=0.8562908172607422, y=0.672130823135376, z=0.07051189988851547, visibility=0.5109115839004517, presence=0.9996839761734009),\n",
       "  NormalizedLandmark(x=0.8444334268569946, y=0.6619126200675964, z=0.14750222861766815, visibility=0.36747631430625916, presence=0.9999182224273682),\n",
       "  NormalizedLandmark(x=0.8233193159103394, y=0.663465142250061, z=0.010453665629029274, visibility=0.8439636826515198, presence=0.9996055960655212),\n",
       "  NormalizedLandmark(x=0.8127117156982422, y=0.6477928757667542, z=0.10674791783094406, visibility=0.5787726640701294, presence=0.9997654557228088)]]"
      ]
     },
     "execution_count": 10,
     "metadata": {},
     "output_type": "execute_result"
    }
   ],
   "source": [
    "sample_landmarks[0].pose_landmarks"
   ]
  },
  {
   "cell_type": "code",
   "execution_count": 11,
   "id": "5818aa70-de11-4d9f-818e-cedb3b1a7065",
   "metadata": {},
   "outputs": [
    {
     "data": {
      "text/plain": [
       "[[Landmark(x=-0.12908835709095, y=-0.5846834778785706, z=-0.232228085398674, visibility=0.9982312321662903, presence=0.9992340803146362),\n",
       "  Landmark(x=-0.10052894800901413, y=-0.6064781546592712, z=-0.26950162649154663, visibility=0.9978970289230347, presence=0.9994838237762451),\n",
       "  Landmark(x=-0.10004984587430954, y=-0.6037401556968689, z=-0.2569354176521301, visibility=0.9982000589370728, presence=0.9996994733810425),\n",
       "  Landmark(x=-0.10015092045068741, y=-0.6065137386322021, z=-0.2605850398540497, visibility=0.998955249786377, presence=0.9997479319572449),\n",
       "  Landmark(x=-0.09401948004961014, y=-0.6191688179969788, z=-0.24496141076087952, visibility=0.997322678565979, presence=0.9986916184425354),\n",
       "  Landmark(x=-0.09364727139472961, y=-0.6184149384498596, z=-0.25805068016052246, visibility=0.9974457621574402, presence=0.9988263249397278),\n",
       "  Landmark(x=-0.08856268972158432, y=-0.602739691734314, z=-0.23649674654006958, visibility=0.9979446530342102, presence=0.9985631108283997),\n",
       "  Landmark(x=0.02601007930934429, y=-0.5938696265220642, z=-0.3200414180755615, visibility=0.9994259476661682, presence=0.9999159574508667),\n",
       "  Landmark(x=0.01687665656208992, y=-0.5611740350723267, z=-0.15617206692695618, visibility=0.9955776333808899, presence=0.9989593029022217),\n",
       "  Landmark(x=-0.06523708999156952, y=-0.5710631608963013, z=-0.23467287421226501, visibility=0.9992679953575134, presence=0.9999319314956665),\n",
       "  Landmark(x=-0.06903050094842911, y=-0.5423606634140015, z=-0.2132692188024521, visibility=0.9981383085250854, presence=0.9995478987693787),\n",
       "  Landmark(x=0.15040066838264465, y=-0.43284642696380615, z=-0.26668643951416016, visibility=0.9999964833259583, presence=0.9999991655349731),\n",
       "  Landmark(x=0.034133438020944595, y=-0.5209087133407593, z=0.07001697272062302, visibility=0.9997507333755493, presence=0.9998782873153687),\n",
       "  Landmark(x=0.19191688299179077, y=-0.22512173652648926, z=-0.29855912923812866, visibility=0.9899566173553467, presence=0.9999877214431763),\n",
       "  Landmark(x=0.015455150045454502, y=-0.2165493220090866, z=0.10077104717493057, visibility=0.013658526353538036, presence=0.9996761083602905),\n",
       "  Landmark(x=0.14208810031414032, y=0.01838817447423935, z=-0.21562980115413666, visibility=0.9704347848892212, presence=0.9999879598617554),\n",
       "  Landmark(x=-0.09317120909690857, y=-0.03358301520347595, z=0.06418129801750183, visibility=0.021448256447911263, presence=0.9997871518135071),\n",
       "  Landmark(x=0.13307689130306244, y=0.05986838415265083, z=-0.22045594453811646, visibility=0.9351260662078857, presence=0.9999563694000244),\n",
       "  Landmark(x=-0.08496660739183426, y=0.005296737886965275, z=0.04578746110200882, visibility=0.025081893429160118, presence=0.9997550845146179),\n",
       "  Landmark(x=0.08628648519515991, y=0.06861352175474167, z=-0.2199314385652542, visibility=0.9353165626525879, presence=0.9999397993087769),\n",
       "  Landmark(x=-0.08769547194242477, y=-0.01992092654109001, z=0.020562361925840378, visibility=0.02761293575167656, presence=0.9996439218521118),\n",
       "  Landmark(x=0.13088154792785645, y=0.050113290548324585, z=-0.2134556621313095, visibility=0.882797360420227, presence=0.9999691247940063),\n",
       "  Landmark(x=-0.0943065956234932, y=-0.030613111332058907, z=0.044618893414735794, visibility=0.028545048087835312, presence=0.9997708201408386),\n",
       "  Landmark(x=0.04805740714073181, y=0.013061637058854103, z=-0.06502743065357208, visibility=0.9999837279319763, presence=0.9999994039535522),\n",
       "  Landmark(x=-0.045617859810590744, y=-0.01648900844156742, z=0.06501138210296631, visibility=0.9999545812606812, presence=0.9999980926513672),\n",
       "  Landmark(x=-0.0007702087750658393, y=0.4143696427345276, z=0.03428630158305168, visibility=0.6592844724655151, presence=0.9999803304672241),\n",
       "  Landmark(x=-0.05375533550977707, y=0.32102352380752563, z=0.1685979664325714, visibility=0.16183045506477356, presence=0.9999710321426392),\n",
       "  Landmark(x=-0.025847751647233963, y=0.7388300895690918, z=0.2382465898990631, visibility=0.8506852388381958, presence=0.9997724890708923),\n",
       "  Landmark(x=-0.1000361293554306, y=0.6969548463821411, z=0.345811128616333, visibility=0.3637957274913788, presence=0.9998952150344849),\n",
       "  Landmark(x=-0.054886456578969955, y=0.7701034545898438, z=0.2575683295726776, visibility=0.5073046684265137, presence=0.9992581009864807),\n",
       "  Landmark(x=-0.1096244752407074, y=0.7280524373054504, z=0.3239685893058777, visibility=0.37553197145462036, presence=0.9998152852058411),\n",
       "  Landmark(x=-0.18314169347286224, y=0.7541185617446899, z=0.1899479627609253, visibility=0.8415574431419373, presence=0.999213695526123),\n",
       "  Landmark(x=-0.22092968225479126, y=0.7009511590003967, z=0.2945009469985962, visibility=0.5809690356254578, presence=0.9995243549346924)]]"
      ]
     },
     "execution_count": 11,
     "metadata": {},
     "output_type": "execute_result"
    }
   ],
   "source": [
    "sample_landmarks[1].pose_world_landmarks"
   ]
  },
  {
   "cell_type": "code",
   "execution_count": 12,
   "id": "b3bb36a1-cf37-41cf-afa2-06e4200bfe09",
   "metadata": {},
   "outputs": [
    {
     "data": {
      "text/plain": [
       "120"
      ]
     },
     "execution_count": 12,
     "metadata": {},
     "output_type": "execute_result"
    }
   ],
   "source": [
    "len(sample_landmarks)"
   ]
  },
  {
   "cell_type": "code",
   "execution_count": 13,
   "id": "5469d797-3d80-4386-b5b1-4fb3b86cff2c",
   "metadata": {},
   "outputs": [
    {
     "name": "stdout",
     "output_type": "stream",
     "text": [
      "{0: 'NOSE', 1: 'LEFT_EYE_INNER', 2: 'LEFT_EYE', 3: 'LEFT_EYE_OUTER', 4: 'RIGHT_EYE_INNER', 5: 'RIGHT_EYE', 6: 'RIGHT_EYE_OUTER', 7: 'LEFT_EAR', 8: 'RIGHT_EAR', 9: 'MOUTH_LEFT', 10: 'MOUTH_RIGHT', 11: 'LEFT_SHOULDER', 12: 'RIGHT_SHOULDER', 13: 'LEFT_ELBOW', 14: 'RIGHT_ELBOW', 15: 'LEFT_WRIST', 16: 'RIGHT_WRIST', 17: 'LEFT_PINKY', 18: 'RIGHT_PINKY', 19: 'LEFT_INDEX', 20: 'RIGHT_INDEX', 21: 'LEFT_THUMB', 22: 'RIGHT_THUMB', 23: 'LEFT_HIP', 24: 'RIGHT_HIP', 25: 'LEFT_KNEE', 26: 'RIGHT_KNEE', 27: 'LEFT_ANKLE', 28: 'RIGHT_ANKLE', 29: 'LEFT_HEEL', 30: 'RIGHT_HEEL', 31: 'LEFT_FOOT_INDEX', 32: 'RIGHT_FOOT_INDEX'}\n",
      "[(15, 21), (16, 20), (18, 20), (3, 7), (14, 16), (23, 25), (28, 30), (11, 23), (27, 31), (6, 8), (15, 17), (24, 26), (16, 22), (4, 5), (5, 6), (29, 31), (12, 24), (23, 24), (0, 1), (9, 10), (1, 2), (0, 4), (11, 13), (30, 32), (28, 32), (15, 19), (16, 18), (25, 27), (26, 28), (12, 14), (17, 19), (2, 3), (11, 12), (27, 29), (13, 15)]\n"
     ]
    }
   ],
   "source": [
    "mp_pose = mp.solutions.pose\n",
    "\n",
    "landmarks_num = 33\n",
    "pose_landmark_names = {i: mp_pose.PoseLandmark(i).name for i in range(landmarks_num)}\n",
    "connections = list(mp_pose.POSE_CONNECTIONS)\n",
    "\n",
    "print(pose_landmark_names)\n",
    "print(connections)"
   ]
  },
  {
   "cell_type": "code",
   "execution_count": 14,
   "id": "379c9440-c827-4b7d-a5b4-54f1d6c4abad",
   "metadata": {},
   "outputs": [],
   "source": [
    "def simplify_fames_for_presentation(frames, use_normalized_landmarks=True):\n",
    "    n = len(frames)\n",
    "    landmarks_num = 33\n",
    "\n",
    "    simplified_frames = []\n",
    "\n",
    "    if use_normalized_landmarks:\n",
    "        for frame in frames:\n",
    "            xs = [frame.pose_landmarks[0][i].x for i in range(landmarks_num)]\n",
    "            ys = [-frame.pose_landmarks[0][i].y for i in range(landmarks_num)]\n",
    "            zs = [frame.pose_landmarks[0][i].z for i in range(landmarks_num)]\n",
    "    \n",
    "            simplified_frames.append((xs, ys, zs))\n",
    "            \n",
    "    else: \n",
    "        for frame in frames:\n",
    "            xs = [frame.pose_world_landmarks[0][i].x for i in range(landmarks_num)]\n",
    "            ys = [-frame.pose_world_landmarks[0][i].y for i in range(landmarks_num)]\n",
    "            zs = [frame.pose_world_landmarks[0][i].z for i in range(landmarks_num)]\n",
    "    \n",
    "            simplified_frames.append((xs, ys, zs))\n",
    "\n",
    "    return simplified_frames\n",
    "    "
   ]
  },
  {
   "cell_type": "code",
   "execution_count": 15,
   "id": "549eaa2d-3264-4cac-9f77-980403ae02eb",
   "metadata": {},
   "outputs": [],
   "source": [
    "sample_frames_simple = simplify_fames_for_presentation(sample_landmarks)"
   ]
  },
  {
   "cell_type": "code",
   "execution_count": 16,
   "id": "b8f7bf30-8cf6-4fba-b336-b1456617661f",
   "metadata": {},
   "outputs": [
    {
     "name": "stdout",
     "output_type": "stream",
     "text": [
      "x: [0.8448679447174072, 0.8467260599136353, 0.8479593396186829, 0.849114716053009, 0.8459903001785278, 0.8466466665267944, 0.8472632765769958, 0.8587758541107178, 0.8556139469146729, 0.8505422472953796, 0.8494491577148438, 0.8935875296592712, 0.8557350635528564, 0.8973052501678467, 0.8501441478729248, 0.8877127170562744, 0.8439985513687134, 0.887445867061615, 0.8410310745239258, 0.8803190588951111, 0.8404601812362671, 0.8793847560882568, 0.8413307666778564, 0.8749555945396423, 0.8515905141830444, 0.859756588935852, 0.84532630443573, 0.852583110332489, 0.8394988775253296, 0.8562908172607422, 0.8444334268569946, 0.8233193159103394, 0.8127117156982422]\n",
      "y: [-0.2409970611333847, -0.2308843731880188, -0.23035624623298645, -0.22977221012115479, -0.23061716556549072, -0.2299623191356659, -0.2291942834854126, -0.22670824825763702, -0.2280610054731369, -0.2506522536277771, -0.2503798007965088, -0.2854614853858948, -0.28280109167099, -0.37135857343673706, -0.3674367666244507, -0.45211657881736755, -0.4283653199672699, -0.474098265171051, -0.4477486312389374, -0.4718851149082184, -0.44890058040618896, -0.4647877514362335, -0.4445207118988037, -0.4372316896915436, -0.43195831775665283, -0.5503280758857727, -0.5398313403129578, -0.6511006951332092, -0.6409867405891418, -0.672130823135376, -0.6619126200675964, -0.663465142250061, -0.6477928757667542]\n",
      "z: [-0.07556842267513275, -0.08980179578065872, -0.0899634063243866, -0.0899328738451004, -0.07058962434530258, -0.07076970487833023, -0.07086167484521866, -0.12053126841783524, -0.0327364020049572, -0.08237557858228683, -0.058078840374946594, -0.15015092492103577, 0.03511275723576546, -0.1682092398405075, 0.06385214626789093, -0.1657039076089859, 0.029491577297449112, -0.1817929446697235, 0.02406819351017475, -0.18470081686973572, 0.007601631805300713, -0.16525845229625702, 0.020321255549788475, -0.05596111714839935, 0.05597255006432533, 0.001798716257326305, 0.08625097572803497, 0.06795937567949295, 0.14379049837589264, 0.07051189988851547, 0.14750222861766815, 0.010453665629029274, 0.10674791783094406]\n"
     ]
    }
   ],
   "source": [
    "for i, dim in enumerate(['x', 'y', 'z']):\n",
    "    print(f\"{dim}: {sample_frames_simple[0][i]}\")"
   ]
  },
  {
   "cell_type": "code",
   "execution_count": 17,
   "id": "55fd76c7-bb7d-4ce8-a6a9-8ac944864c50",
   "metadata": {},
   "outputs": [
    {
     "name": "stdout",
     "output_type": "stream",
     "text": [
      "x: [-0.15692061185836792, -0.12569093704223633, -0.12493042647838593, -0.12525318562984467, -0.12168724089860916, -0.12140507251024246, -0.11402137577533722, -0.0028038211166858673, -0.006440863013267517, -0.09645050764083862, -0.09553977847099304, 0.11644488573074341, -0.01560862548649311, 0.17244552075862885, -0.02632991038262844, 0.12602777779102325, -0.12073709815740585, 0.11751867085695267, -0.10651946812868118, 0.07016800343990326, -0.10645344108343124, 0.11771393567323685, -0.1193004623055458, 0.04817624017596245, -0.045751556754112244, -0.021540919318795204, -0.07037673145532608, -0.0497204028069973, -0.13453400135040283, -0.07994624972343445, -0.14694863557815552, -0.21399933099746704, -0.2586224377155304]\n",
      "y: [0.588268518447876, 0.6119582056999207, 0.609531044960022, 0.6120685935020447, 0.6266337633132935, 0.6255468726158142, 0.6104570031166077, 0.6042420268058777, 0.5726945996284485, 0.5775109529495239, 0.5484743118286133, 0.44942206144332886, 0.5214458703994751, 0.23070725798606873, 0.2182617336511612, -0.02050177752971649, 0.024443425238132477, -0.06988949328660965, -0.01897151954472065, -0.08500942587852478, 0.004537272732704878, -0.05338876321911812, 0.020480506122112274, -0.010763178579509258, 0.014523979276418686, -0.41210827231407166, -0.3229668140411377, -0.7393176555633545, -0.704818606376648, -0.7725140452384949, -0.7369582056999207, -0.7646684050559998, -0.7233524322509766]\n",
      "z: [-0.2089141458272934, -0.24402117729187012, -0.2319875806570053, -0.2360912263393402, -0.22155527770519257, -0.23377028107643127, -0.213556170463562, -0.292796790599823, -0.13445816934108734, -0.20942829549312592, -0.19044150412082672, -0.2544492185115814, 0.0871553048491478, -0.29720360040664673, 0.10836239904165268, -0.21187765896320343, 0.07073100656270981, -0.21259364485740662, 0.05248885229229927, -0.2111244648694992, 0.02915010042488575, -0.20858965814113617, 0.05160129442811012, -0.06538713723421097, 0.06531387567520142, -0.0011556135723367333, 0.1391746550798416, 0.15613476932048798, 0.2797996997833252, 0.1716023087501526, 0.2546592950820923, 0.10132099688053131, 0.2180507332086563]\n"
     ]
    }
   ],
   "source": [
    "sample_frames_simple_not_normalized = simplify_fames_for_presentation(sample_landmarks, False)\n",
    "for i, dim in enumerate(['x', 'y', 'z']):\n",
    "    print(f\"{dim}: {sample_frames_simple_not_normalized[0][i]}\")"
   ]
  },
  {
   "cell_type": "code",
   "execution_count": 18,
   "id": "28337198-e03d-4ece-80d5-55bdd4809b94",
   "metadata": {},
   "outputs": [],
   "source": [
    "import plotly.io as pio\n",
    "import plotly.graph_objects as go\n",
    "import mediapipe as mp\n",
    "\n",
    "pio.renderers.default = 'iframe'\n",
    "\n",
    "mp_pose = mp.solutions.pose\n",
    "connections = list(mp_pose.POSE_CONNECTIONS)\n",
    "\n",
    "def show_landmarks_from_mediapipe(frames_landmarks, frames_per_sec=25, frame_size=(540, 960)):\n",
    "    marker_size = 4\n",
    "    marker_color = 'blue'\n",
    "    line_color = 'blue'\n",
    "\n",
    "    fig = go.Figure()\n",
    "\n",
    "    fig.add_trace(go.Scatter(\n",
    "        x=frames_landmarks[0][0],\n",
    "        y=frames_landmarks[0][1], \n",
    "        mode='markers',\n",
    "        marker=dict(size=marker_size, color=marker_color),\n",
    "        showlegend=False\n",
    "    ))\n",
    "\n",
    "    for connection in connections:\n",
    "        fig.add_trace(go.Scatter(\n",
    "            x=[frames_landmarks[0][0][connection[0]], frames_landmarks[0][0][connection[1]]],\n",
    "            y=[frames_landmarks[0][1][connection[0]], frames_landmarks[0][1][connection[1]]],\n",
    "            mode='lines',\n",
    "            line=dict(color=line_color, width=2),\n",
    "            showlegend=False\n",
    "        ))\n",
    "\n",
    "    frames = []\n",
    "    for i, curr_frame in enumerate(frames_landmarks):\n",
    "        frame_data = []\n",
    "\n",
    "        frame_data.append(go.Scatter(\n",
    "            x=curr_frame[0],\n",
    "            y=curr_frame[1],\n",
    "            mode='markers',\n",
    "            marker=dict(size=marker_size, color=marker_color)\n",
    "        ))\n",
    "\n",
    "        for connection in connections:\n",
    "            frame_data.append(go.Scatter(\n",
    "                x=[curr_frame[0][connection[0]], curr_frame[0][connection[1]]],\n",
    "                y=[curr_frame[1][connection[0]], curr_frame[1][connection[1]]],\n",
    "                mode='lines',\n",
    "                line=dict(color=line_color, width=2),\n",
    "                \n",
    "            ))\n",
    "\n",
    "        frames.append(go.Frame(data=frame_data, \n",
    "                                name=f'frame {i}',\n",
    "                                layout=go.Layout(\n",
    "                                annotations=[dict(\n",
    "                                    text=f'Frame {i+1}',\n",
    "                                    x=0.05, y=0.95, xref='paper', yref='paper',\n",
    "                                    showarrow=False, font=dict(size=16, color=\"black\"))]\n",
    "        )))\n",
    "\n",
    "    fig.frames = frames\n",
    "\n",
    "    fig.update_layout(\n",
    "        xaxis_title='X',\n",
    "        yaxis_title='Y',\n",
    "        xaxis=dict(range=[0, 1]),\n",
    "        yaxis=dict(range=[-1, 0]),\n",
    "        title='2D Gait Animation - Mediapipe Processed',\n",
    "        width=frame_size[1],\n",
    "        height=frame_size[0],\n",
    "        annotations=[dict(\n",
    "            text='Frame 1',\n",
    "            x=0.05, y=0.95, xref='paper', yref='paper',\n",
    "            showarrow=False, font=dict(size=16, color=\"black\")\n",
    "        )],\n",
    "        updatemenus=[dict(\n",
    "            type=\"buttons\",\n",
    "            showactive=False,\n",
    "            buttons=[\n",
    "                dict(\n",
    "                    label=\"Play\",\n",
    "                    method=\"animate\",\n",
    "                    args=[None, dict(frame=dict(duration=1000/frames_per_sec, redraw=True), fromcurrent=True)]\n",
    "                ),\n",
    "                dict(\n",
    "                    label=\"Pause\",\n",
    "                    method=\"animate\",\n",
    "                    args=[[None], dict(frame=dict(duration=0, redraw=False), mode=\"immediate\", fromcurrent=True)]\n",
    "                )\n",
    "            ]\n",
    "        )]\n",
    "    )\n",
    "\n",
    "    fig.show()"
   ]
  },
  {
   "cell_type": "code",
   "execution_count": 19,
   "id": "9f19d3f5-6695-4f06-94a6-39edfff9bb5e",
   "metadata": {},
   "outputs": [
    {
     "data": {
      "text/html": [
       "<iframe\n",
       "    scrolling=\"no\"\n",
       "    width=\"980px\"\n",
       "    height=\"560\"\n",
       "    src=\"iframe_figures/figure_19.html\"\n",
       "    frameborder=\"0\"\n",
       "    allowfullscreen\n",
       "></iframe>\n"
      ]
     },
     "metadata": {},
     "output_type": "display_data"
    }
   ],
   "source": [
    "show_landmarks_from_mediapipe(sample_frames_simple)"
   ]
  },
  {
   "cell_type": "code",
   "execution_count": 20,
   "id": "da817728-a993-4912-8ea5-9d388e952834",
   "metadata": {},
   "outputs": [
    {
     "name": "stderr",
     "output_type": "stream",
     "text": [
      "C:\\Users\\Miko7\\Studia\\magisterka\\gait-features-identification\\venv\\lib\\site-packages\\google\\protobuf\\symbol_database.py:55: UserWarning:\n",
      "\n",
      "SymbolDatabase.GetPrototype() is deprecated. Please use message_factory.GetMessageClass() instead. SymbolDatabase.GetPrototype() will be removed soon.\n",
      "\n"
     ]
    },
    {
     "data": {
      "text/html": [
       "<iframe\n",
       "    scrolling=\"no\"\n",
       "    width=\"980px\"\n",
       "    height=\"560\"\n",
       "    src=\"iframe_figures/figure_20.html\"\n",
       "    frameborder=\"0\"\n",
       "    allowfullscreen\n",
       "></iframe>\n"
      ]
     },
     "metadata": {},
     "output_type": "display_data"
    }
   ],
   "source": [
    "key_name = 'p7s1'\n",
    "camera_num = 2 # other camera\n",
    "file_name = f'c{camera_num}_0090'\n",
    "frames_per_sec = 25\n",
    "sample_avi_path = f'.\\\\gait3d\\\\Sequences\\\\{key_name}\\\\Images\\\\{file_name}.avi'\n",
    "\n",
    "sample_landmarks = estimate_poses_for_video(sample_avi_path)\n",
    "sample_frames_simple = simplify_fames_for_presentation(sample_landmarks)\n",
    "show_landmarks_from_mediapipe(sample_frames_simple)"
   ]
  },
  {
   "cell_type": "code",
   "execution_count": 21,
   "id": "3f00a546-845f-48f2-8b3b-015d275306c9",
   "metadata": {},
   "outputs": [
    {
     "data": {
      "text/plain": [
       "['.\\\\gait3d\\\\Sequences\\\\p2s1\\\\Images\\\\c1_0130.avi',\n",
       " '.\\\\gait3d\\\\Sequences\\\\p2s1\\\\Images\\\\c2_0130.avi',\n",
       " '.\\\\gait3d\\\\Sequences\\\\p2s1\\\\Images\\\\c3_0130.avi',\n",
       " '.\\\\gait3d\\\\Sequences\\\\p2s1\\\\Images\\\\c4_0130.avi']"
      ]
     },
     "execution_count": 21,
     "metadata": {},
     "output_type": "execute_result"
    }
   ],
   "source": [
    "import json\n",
    "from scripts.parsers import parse_sequences\n",
    "\n",
    "sequences = parse_sequences(file_path)\n",
    "base_avi_path = '.\\\\gait3d\\\\Sequences\\\\{}\\\\Images\\\\{}.avi'\n",
    "key_name = 'p2s1'\n",
    "file_name = 'c{}_{}'\n",
    "\n",
    "sf_str = str(sequences[key_name][\"start_frame\"])\n",
    "f_ending = (4 - len(sf_str)) * \"0\" + sf_str           \n",
    "\n",
    "avi_paths = [base_avi_path.format(key_name, file_name.format(i, f_ending)) for i in range(1, 5)]\n",
    "avi_paths"
   ]
  },
  {
   "cell_type": "code",
   "execution_count": 22,
   "id": "e548f65e-f670-484a-b1c1-e82e643a248f",
   "metadata": {},
   "outputs": [],
   "source": [
    "processed_landmarks = []\n",
    "\n",
    "for camera_avi_path in avi_paths:\n",
    "    landmarks = estimate_poses_for_video(camera_avi_path)\n",
    "    processed_landmarks.append(simplify_fames_for_presentation(landmarks))\n"
   ]
  },
  {
   "cell_type": "code",
   "execution_count": 23,
   "id": "0b953bd9-520e-4164-b5ce-57eb1a175e0d",
   "metadata": {},
   "outputs": [],
   "source": [
    "def adjust_processed_landmarks(processed_landmarks):\n",
    "    adjusted_processed_landmarks = []\n",
    "\n",
    "    changes = [(-1, 1, 0), (0, 1, 0), (-1, 0, 0), (0, 0, 0)]\n",
    "    \n",
    "    \n",
    "    for camera in range(4):\n",
    "        new_camera_frames = []\n",
    "        for frame in processed_landmarks[camera]:\n",
    "            new_frame = []\n",
    "            for i, dim_coords in enumerate(frame):\n",
    "                new_dim_coords = [item + changes[camera][i] for item in dim_coords]\n",
    "                new_frame.append(new_dim_coords)\n",
    "            new_camera_frames.append(new_frame)\n",
    "        adjusted_processed_landmarks.append(new_camera_frames)\n",
    "\n",
    "    return adjusted_processed_landmarks\n",
    "    "
   ]
  },
  {
   "cell_type": "code",
   "execution_count": 24,
   "id": "8f894459-c9a3-4c21-a43a-9e73b5b7822e",
   "metadata": {},
   "outputs": [],
   "source": [
    "import plotly.io as pio\n",
    "import plotly.graph_objects as go\n",
    "import mediapipe as mp\n",
    "\n",
    "pio.renderers.default = 'iframe'\n",
    "\n",
    "mp_pose = mp.solutions.pose\n",
    "connections = list(mp_pose.POSE_CONNECTIONS)\n",
    "\n",
    "def show_landmarks_from_mediapipe_all_cameras(processed_frames_landmarks, seqence_key='', frames_per_sec=25, frame_size=(540, 960)):\n",
    "    frames_landmarks_all_cameras = adjust_processed_landmarks(processed_frames_landmarks)\n",
    "    marker_size = 4\n",
    "    line_width = 2\n",
    "    colors = ['red', 'green', 'blue', 'orange']\n",
    "\n",
    "    fig = go.Figure()\n",
    "\n",
    "    for camera in range(4):\n",
    "        fig.add_trace(go.Scatter(\n",
    "            x=frames_landmarks_all_cameras[camera][0][0],\n",
    "            y=frames_landmarks_all_cameras[camera][0][1],\n",
    "            mode='markers',\n",
    "            marker=dict(size=marker_size, color=colors[camera]),\n",
    "            showlegend=False,\n",
    "            name=f'c{camera+1} landmarks'\n",
    "        ))\n",
    "\n",
    "        for connection in connections:\n",
    "            fig.add_trace(go.Scatter(\n",
    "                x=[frames_landmarks_all_cameras[camera][0][0][connection[0]], frames_landmarks_all_cameras[camera][0][0][connection[1]]],\n",
    "                y=[frames_landmarks_all_cameras[camera][0][1][connection[0]], frames_landmarks_all_cameras[camera][0][1][connection[1]]],\n",
    "                mode='lines',\n",
    "                line=dict(color=colors[camera], width=line_width),\n",
    "                showlegend=False,\n",
    "                name=f'c{camera+1} bones'\n",
    "            ))\n",
    "\n",
    "    num_frames = len(frames_landmarks_all_cameras[0])\n",
    "    frames = []\n",
    "    for i in range(num_frames):\n",
    "        frame_data = []\n",
    "\n",
    "        for camera in range(4):\n",
    "            curr_frame = frames_landmarks_all_cameras[camera][i]\n",
    "\n",
    "            frame_data.append(go.Scatter(\n",
    "                x=curr_frame[0],\n",
    "                y=curr_frame[1],\n",
    "                mode='markers',\n",
    "                marker=dict(size=marker_size, color=colors[camera]),\n",
    "                showlegend=False\n",
    "            ))\n",
    "\n",
    "            for connection in connections:\n",
    "                frame_data.append(go.Scatter(\n",
    "                    x=[curr_frame[0][connection[0]], curr_frame[0][connection[1]]],\n",
    "                    y=[curr_frame[1][connection[0]], curr_frame[1][connection[1]]],\n",
    "                    mode='lines',\n",
    "                    line=dict(color=colors[camera], width=line_width),\n",
    "                    showlegend=False\n",
    "                ))\n",
    "\n",
    "        frames.append(go.Frame(\n",
    "            data=frame_data,\n",
    "            name=f'frame {i}',\n",
    "            layout=go.Layout(\n",
    "                annotations=[dict(\n",
    "                    text=f'Frame {i+1}',\n",
    "                    x=0.5, y=0.5, xref='paper', yref='paper',\n",
    "                    showarrow=False, font=dict(size=16, color=\"black\")\n",
    "                )]\n",
    "            )\n",
    "        ))\n",
    "\n",
    "    fig.frames = frames\n",
    "    camera_desc_positions = [(0.01, 0.99), (0.99, 0.99), (0.01, 0.01), (0.99, 0.01)]\n",
    "\n",
    "    fig.update_layout(\n",
    "        xaxis_title='X',\n",
    "        yaxis_title='Y',\n",
    "        xaxis=dict(range=[-1, 1]),\n",
    "        yaxis=dict(range=[-1, 1]),\n",
    "        title=f'2D mediapipe results from 4 cameras {seqence_key}',\n",
    "        width=int(frame_size[1] * 1.5),\n",
    "        height=int(frame_size[0] * 1.5),\n",
    "        annotations = [\n",
    "            dict(\n",
    "                text='Frame 1',\n",
    "                x=0.5, y=0.5, xref='paper', yref='paper',\n",
    "                showarrow=False, font=dict(size=16, color=\"black\")\n",
    "            )\n",
    "        ] + [\n",
    "            dict(\n",
    "                text=f\"Camera {i+1}\",\n",
    "                x=camera_desc_positions[i][0], y=camera_desc_positions[i][1],\n",
    "                xref='paper', yref='paper',\n",
    "                showarrow=False, font=dict(size=12, color=colors[i])\n",
    "            ) for i in range(4)\n",
    "        ],\n",
    "        updatemenus=[dict(\n",
    "            type=\"buttons\",\n",
    "            showactive=False,\n",
    "            buttons=[\n",
    "                dict(\n",
    "                    label=\"Play\",\n",
    "                    method=\"animate\",\n",
    "                    args=[None, dict(frame=dict(duration=1000/frames_per_sec, redraw=True), fromcurrent=True)]\n",
    "                ),\n",
    "                dict(\n",
    "                    label=\"Pause\",\n",
    "                    method=\"animate\",\n",
    "                    args=[[None], dict(frame=dict(duration=0, redraw=False), mode=\"immediate\", fromcurrent=True)]\n",
    "                )\n",
    "            ]\n",
    "        )]\n",
    "    )\n",
    "\n",
    "    fig.show()\n"
   ]
  },
  {
   "cell_type": "code",
   "execution_count": 25,
   "id": "6841080a-6449-44ed-b26d-47cb8cba4043",
   "metadata": {},
   "outputs": [
    {
     "data": {
      "text/html": [
       "<iframe\n",
       "    scrolling=\"no\"\n",
       "    width=\"1460px\"\n",
       "    height=\"830\"\n",
       "    src=\"iframe_figures/figure_25.html\"\n",
       "    frameborder=\"0\"\n",
       "    allowfullscreen\n",
       "></iframe>\n"
      ]
     },
     "metadata": {},
     "output_type": "display_data"
    }
   ],
   "source": [
    "show_landmarks_from_mediapipe_all_cameras(processed_landmarks, key_name)"
   ]
  },
  {
   "cell_type": "code",
   "execution_count": 26,
   "id": "c9c6825f-3e32-48a4-84d9-e88f85369bdf",
   "metadata": {},
   "outputs": [],
   "source": [
    "# PyQT\n",
    "# OpenPose 3D\n",
    "# Vicon"
   ]
  },
  {
   "cell_type": "code",
   "execution_count": 27,
   "id": "754dd5fa-20b0-41b0-9be0-d49c0a880216",
   "metadata": {},
   "outputs": [
    {
     "data": {
      "text/plain": [
       "4"
      ]
     },
     "execution_count": 27,
     "metadata": {},
     "output_type": "execute_result"
    }
   ],
   "source": [
    "len(processed_landmarks)"
   ]
  },
  {
   "cell_type": "code",
   "execution_count": 28,
   "id": "7b5ad8b9-9319-43a8-ae8e-1f11e7978126",
   "metadata": {},
   "outputs": [
    {
     "data": {
      "text/plain": [
       "155"
      ]
     },
     "execution_count": 28,
     "metadata": {},
     "output_type": "execute_result"
    }
   ],
   "source": [
    "len(processed_landmarks[0])"
   ]
  },
  {
   "cell_type": "code",
   "execution_count": 29,
   "id": "ce121a45-0e19-4156-ba45-33d9f1fb5043",
   "metadata": {},
   "outputs": [
    {
     "data": {
      "text/plain": [
       "155"
      ]
     },
     "execution_count": 29,
     "metadata": {},
     "output_type": "execute_result"
    }
   ],
   "source": [
    "len(processed_landmarks[1])"
   ]
  },
  {
   "cell_type": "code",
   "execution_count": 30,
   "id": "88a777dd-30e2-4e47-8cfc-8581a219ef97",
   "metadata": {},
   "outputs": [
    {
     "data": {
      "text/plain": [
       "([0.7655511498451233,\n",
       "  0.770289421081543,\n",
       "  0.7722682356834412,\n",
       "  0.7739561200141907,\n",
       "  0.768341064453125,\n",
       "  0.7686821818351746,\n",
       "  0.768936276435852,\n",
       "  0.7815371155738831,\n",
       "  0.7745682597160339,\n",
       "  0.7703903317451477,\n",
       "  0.7682839035987854,\n",
       "  0.8011458516120911,\n",
       "  0.7750867009162903,\n",
       "  0.8049696087837219,\n",
       "  0.779549777507782,\n",
       "  0.7916091084480286,\n",
       "  0.771781325340271,\n",
       "  0.7928096652030945,\n",
       "  0.7702409625053406,\n",
       "  0.7864230275154114,\n",
       "  0.7692295908927917,\n",
       "  0.7856025099754333,\n",
       "  0.769853949546814,\n",
       "  0.7904582619667053,\n",
       "  0.7707071900367737,\n",
       "  0.7822328209877014,\n",
       "  0.7714799046516418,\n",
       "  0.7803554534912109,\n",
       "  0.7740541696548462,\n",
       "  0.7854081988334656,\n",
       "  0.7771303057670593,\n",
       "  0.7512503266334534,\n",
       "  0.7462013363838196],\n",
       " [-0.24960125982761383,\n",
       "  -0.241102397441864,\n",
       "  -0.24078038334846497,\n",
       "  -0.24052542448043823,\n",
       "  -0.24122698605060577,\n",
       "  -0.2411120980978012,\n",
       "  -0.24078702926635742,\n",
       "  -0.24514776468276978,\n",
       "  -0.24516236782073975,\n",
       "  -0.2601003348827362,\n",
       "  -0.2595994770526886,\n",
       "  -0.3002524673938751,\n",
       "  -0.3047086000442505,\n",
       "  -0.380946546792984,\n",
       "  -0.37834516167640686,\n",
       "  -0.4507291913032532,\n",
       "  -0.4319223463535309,\n",
       "  -0.4730759263038635,\n",
       "  -0.4521828293800354,\n",
       "  -0.4730225205421448,\n",
       "  -0.45281511545181274,\n",
       "  -0.46545839309692383,\n",
       "  -0.44639119505882263,\n",
       "  -0.44411158561706543,\n",
       "  -0.4417290985584259,\n",
       "  -0.5540717244148254,\n",
       "  -0.5480855107307434,\n",
       "  -0.6563185453414917,\n",
       "  -0.6443294882774353,\n",
       "  -0.6729600429534912,\n",
       "  -0.6610644459724426,\n",
       "  -0.667580246925354,\n",
       "  -0.6538317203521729],\n",
       " [-0.10747704654932022,\n",
       "  -0.1156289279460907,\n",
       "  -0.11578104645013809,\n",
       "  -0.11576210707426071,\n",
       "  -0.09578535705804825,\n",
       "  -0.09592194855213165,\n",
       "  -0.0959930270910263,\n",
       "  -0.12272000312805176,\n",
       "  -0.03224611282348633,\n",
       "  -0.10653114318847656,\n",
       "  -0.08146919310092926,\n",
       "  -0.15083321928977966,\n",
       "  0.05273359268903732,\n",
       "  -0.1726878434419632,\n",
       "  0.0752500593662262,\n",
       "  -0.1836002916097641,\n",
       "  0.01095877680927515,\n",
       "  -0.20547792315483093,\n",
       "  0.00013159154332242906,\n",
       "  -0.20810285210609436,\n",
       "  -0.01813846454024315,\n",
       "  -0.1834009438753128,\n",
       "  0.0002510727208573371,\n",
       "  -0.06268016248941422,\n",
       "  0.06268761307001114,\n",
       "  -0.02524147368967533,\n",
       "  0.08935370296239853,\n",
       "  0.04951450973749161,\n",
       "  0.1628415286540985,\n",
       "  0.05226081982254982,\n",
       "  0.16749732196331024,\n",
       "  -0.024185890331864357,\n",
       "  0.11557025462388992])"
      ]
     },
     "execution_count": 30,
     "metadata": {},
     "output_type": "execute_result"
    }
   ],
   "source": [
    "processed_landmarks[0][0]"
   ]
  },
  {
   "cell_type": "code",
   "execution_count": 31,
   "id": "1f93d051-a6e2-4d0a-8271-ded09036688b",
   "metadata": {},
   "outputs": [
    {
     "data": {
      "text/plain": [
       "{0: 'NOSE',\n",
       " 1: 'LEFT_EYE_INNER',\n",
       " 2: 'LEFT_EYE',\n",
       " 3: 'LEFT_EYE_OUTER',\n",
       " 4: 'RIGHT_EYE_INNER',\n",
       " 5: 'RIGHT_EYE',\n",
       " 6: 'RIGHT_EYE_OUTER',\n",
       " 7: 'LEFT_EAR',\n",
       " 8: 'RIGHT_EAR',\n",
       " 9: 'MOUTH_LEFT',\n",
       " 10: 'MOUTH_RIGHT',\n",
       " 11: 'LEFT_SHOULDER',\n",
       " 12: 'RIGHT_SHOULDER',\n",
       " 13: 'LEFT_ELBOW',\n",
       " 14: 'RIGHT_ELBOW',\n",
       " 15: 'LEFT_WRIST',\n",
       " 16: 'RIGHT_WRIST',\n",
       " 17: 'LEFT_PINKY',\n",
       " 18: 'RIGHT_PINKY',\n",
       " 19: 'LEFT_INDEX',\n",
       " 20: 'RIGHT_INDEX',\n",
       " 21: 'LEFT_THUMB',\n",
       " 22: 'RIGHT_THUMB',\n",
       " 23: 'LEFT_HIP',\n",
       " 24: 'RIGHT_HIP',\n",
       " 25: 'LEFT_KNEE',\n",
       " 26: 'RIGHT_KNEE',\n",
       " 27: 'LEFT_ANKLE',\n",
       " 28: 'RIGHT_ANKLE',\n",
       " 29: 'LEFT_HEEL',\n",
       " 30: 'RIGHT_HEEL',\n",
       " 31: 'LEFT_FOOT_INDEX',\n",
       " 32: 'RIGHT_FOOT_INDEX'}"
      ]
     },
     "execution_count": 31,
     "metadata": {},
     "output_type": "execute_result"
    }
   ],
   "source": [
    "pose_landmark_names"
   ]
  },
  {
   "cell_type": "code",
   "execution_count": 32,
   "id": "9da47e19-7bdf-4cd4-8896-7dc643247c9b",
   "metadata": {},
   "outputs": [
    {
     "name": "stdout",
     "output_type": "stream",
     "text": [
      "NOSE\n",
      "0.061611711978912354 -0.26035618782043457\n",
      "0.511327862739563 -0.3373311460018158\n",
      "0.07451176643371582 -0.25774693489074707\n",
      "0.5003542304039001 -0.27752894163131714\n",
      "3D COORDS:\n",
      "0.5058410465717316 0.06806173920631409 -0.28324080258607864\n"
     ]
    }
   ],
   "source": [
    "import numpy as np\n",
    "\n",
    "landmark_i = 0\n",
    "frame_i = 120\n",
    "print(pose_landmark_names[landmark_i])\n",
    "\n",
    "x_cord = 0\n",
    "y_cord = 0\n",
    "z_cord = 0\n",
    "\n",
    "horizontal_coords_cumulated = []\n",
    "vertical_coords_cumulated = []\n",
    "\n",
    "for camera_i in range(4):\n",
    "    horizontal_coords = np.array(processed_landmarks[camera_i][frame_i][0])\n",
    "    if camera_i > 1:\n",
    "        horizontal_coords = np.ones(horizontal_coords.shape) - horizontal_coords\n",
    "\n",
    "    vertical_coords = np.array(processed_landmarks[camera_i][frame_i][1])\n",
    "    print(horizontal_coords[landmark_i], vertical_coords[landmark_i])\n",
    "\n",
    "    horizontal_coords_cumulated.append(horizontal_coords)\n",
    "    vertical_coords_cumulated.append(vertical_coords)\n",
    "    \n",
    "new_x = (horizontal_coords_cumulated[1] + horizontal_coords_cumulated[3])/2\n",
    "new_y = (horizontal_coords_cumulated[0] + horizontal_coords_cumulated[2])/2\n",
    "new_z = (vertical_coords_cumulated[0] + vertical_coords_cumulated[1] + vertical_coords_cumulated[2] + vertical_coords_cumulated[3])/4\n",
    "\n",
    "print('3D COORDS:')\n",
    "print(new_x[0], new_y[0], new_z[0])\n",
    "        "
   ]
  },
  {
   "cell_type": "code",
   "execution_count": 33,
   "id": "69b272ea-5b38-4263-ab13-83a4b8f39853",
   "metadata": {},
   "outputs": [],
   "source": [
    "def get_frame_new_coordinates(processed_landmarks, frame_i):\n",
    "    horizontal_coords_cumulated = []\n",
    "    vertical_coords_cumulated = []\n",
    "    \n",
    "    for camera_i in range(4):\n",
    "        horizontal_coords = np.array(processed_landmarks[camera_i][frame_i][0])\n",
    "        if camera_i > 1:\n",
    "            horizontal_coords = np.ones(horizontal_coords.shape) - horizontal_coords\n",
    "        vertical_coords = np.array(processed_landmarks[camera_i][frame_i][1])\n",
    "        \n",
    "        if np.all(horizontal_coords == 0) or np.all(vertical_coords == 0):\n",
    "            return (np.zeros(horizontal_coords.shape), np.zeros(horizontal_coords.shape), np.zeros(horizontal_coords.shape))\n",
    "        \n",
    "        horizontal_coords_cumulated.append(horizontal_coords)\n",
    "        vertical_coords_cumulated.append(vertical_coords)\n",
    "        \n",
    "    new_x = (horizontal_coords_cumulated[1] + horizontal_coords_cumulated[3])/2\n",
    "    new_y = (horizontal_coords_cumulated[0] + horizontal_coords_cumulated[2])/2\n",
    "    new_z = (vertical_coords_cumulated[0] + vertical_coords_cumulated[1] + vertical_coords_cumulated[2] + vertical_coords_cumulated[3])/4\n",
    "\n",
    "    return (new_x, new_y, new_z)\n"
   ]
  },
  {
   "cell_type": "code",
   "execution_count": 34,
   "id": "3ab060a6-c858-4ee7-85d9-7c20d4b42698",
   "metadata": {},
   "outputs": [
    {
     "name": "stdout",
     "output_type": "stream",
     "text": [
      "[(15, 21), (16, 20), (18, 20), (3, 7), (14, 16), (23, 25), (28, 30), (11, 23), (27, 31), (6, 8), (15, 17), (24, 26), (16, 22), (4, 5), (5, 6), (29, 31), (12, 24), (23, 24), (0, 1), (9, 10), (1, 2), (0, 4), (11, 13), (30, 32), (28, 32), (15, 19), (16, 18), (25, 27), (26, 28), (12, 14), (17, 19), (2, 3), (11, 12), (27, 29), (13, 15)]\n"
     ]
    }
   ],
   "source": [
    "connections = list(mp_pose.POSE_CONNECTIONS)\n",
    "\n",
    "print(connections)"
   ]
  },
  {
   "cell_type": "code",
   "execution_count": 35,
   "id": "0838005a-e1ee-4688-86be-49d3593e3d9b",
   "metadata": {},
   "outputs": [
    {
     "data": {
      "text/html": [
       "<iframe\n",
       "    scrolling=\"no\"\n",
       "    width=\"820px\"\n",
       "    height=\"820\"\n",
       "    src=\"iframe_figures/figure_35.html\"\n",
       "    frameborder=\"0\"\n",
       "    allowfullscreen\n",
       "></iframe>\n"
      ]
     },
     "metadata": {},
     "output_type": "display_data"
    }
   ],
   "source": [
    "import plotly.graph_objects as go\n",
    "import plotly.io as pio\n",
    "pio.renderers.default = 'iframe'\n",
    "\n",
    "x, y, z = get_frame_new_coordinates(processed_landmarks, 0)\n",
    "labels = list(pose_landmark_names.values())\n",
    "\n",
    "x_lines = []\n",
    "y_lines = []\n",
    "z_lines = []\n",
    "\n",
    "for i, j in connections:\n",
    "    x_lines += [x[i], x[j], None]\n",
    "    y_lines += [y[i], y[j], None]\n",
    "    z_lines += [z[i], z[j], None]\n",
    "    \n",
    "fig = go.Figure(\n",
    "    data=[\n",
    "        go.Scatter3d(\n",
    "            x=x, y=y, z=z,\n",
    "            mode='markers',\n",
    "            marker=dict(size=3, color='blue'),\n",
    "            text=labels,\n",
    "            hoverinfo='text',\n",
    "            name='Joints'),\n",
    "        go.Scatter3d(\n",
    "            x=x_lines, y=y_lines, z=z_lines,\n",
    "            mode='lines',\n",
    "            line=dict(color='royalblue', width=2),\n",
    "            name='Bones'),\n",
    "        ]\n",
    ")\n",
    "\n",
    "fig.update_layout(scene=dict(\n",
    "    xaxis_title='X',\n",
    "    yaxis_title='Y',\n",
    "    zaxis_title='Z',\n",
    "    xaxis=dict(range=[-1, 1]),\n",
    "    yaxis=dict(range=[-1, 1]),\n",
    "    zaxis=dict(range=[-1, 1]),\n",
    "    aspectmode='cube', \n",
    "),\n",
    "title='3D joints plot from mediapipe approximations',\n",
    "width=800,\n",
    "height=800\n",
    ")\n",
    "\n",
    "fig.show()"
   ]
  },
  {
   "cell_type": "code",
   "execution_count": 36,
   "id": "48017a66-c71d-48f6-8b6f-47f6994f5c5a",
   "metadata": {},
   "outputs": [
    {
     "data": {
      "text/plain": [
       "(177.92926443969301, 3.105451500124307)"
      ]
     },
     "execution_count": 36,
     "metadata": {},
     "output_type": "execute_result"
    }
   ],
   "source": [
    "import numpy as np\n",
    "\n",
    "def calc_angle_from_points(points):\n",
    "    p1, p2, p3 = points\n",
    "    vec1 = p1 - p2 \n",
    "    vec2 = p3 - p2\n",
    "\n",
    "    dot_product = np.dot(vec1, vec2)\n",
    "    norm_vec1 = np.linalg.norm(vec1)\n",
    "    norm_vec2 = np.linalg.norm(vec2)\n",
    "\n",
    "    if norm_vec1 == 0 or norm_vec2 == 0:\n",
    "        return 0, 0\n",
    "\n",
    "    angle_rad = np.arccos(dot_product / (norm_vec1 * norm_vec2))\n",
    "    angle_deg = np.degrees(angle_rad)\n",
    "\n",
    "    return angle_deg, angle_rad\n",
    "\n",
    "def calc_joint_angle(joint_i, connections, x, y, z):\n",
    "    parents = [parent for parent, child in connections if child == joint_i]\n",
    "    childs = [child for parent, child in connections if parent == joint_i]\n",
    "    lever_idx = (parents[0], joint_i, childs[0])\n",
    "    lever_points = tuple([np.array((x[idx], y[idx], z[idx])) for idx in lever_idx])\n",
    "    return calc_angle_from_points(lever_points)\n",
    "\n",
    "calc_joint_angle(26, connections, x, y, z)"
   ]
  },
  {
   "cell_type": "code",
   "execution_count": 37,
   "id": "36992a13-83c9-46a6-9e87-a7533defd8f7",
   "metadata": {},
   "outputs": [],
   "source": [
    "def simplify_fames_for_presentation(frames, use_normalized_landmarks=True):\n",
    "    n = len(frames)\n",
    "    landmarks_num = 33\n",
    "\n",
    "    simplified_frames = []\n",
    "\n",
    "    if use_normalized_landmarks:\n",
    "        for frame in frames:\n",
    "            if len(frame.pose_landmarks) < 1 or len(frame.pose_landmarks[0]) != landmarks_num:\n",
    "                simplified_frames.append(([0 for _ in range(landmarks_num)], [0 for _ in range(landmarks_num)], [0 for _ in range(landmarks_num)]))\n",
    "            else:\n",
    "                xs = [frame.pose_landmarks[0][i].x for i in range(landmarks_num)]\n",
    "                ys = [-frame.pose_landmarks[0][i].y for i in range(landmarks_num)]\n",
    "                zs = [frame.pose_landmarks[0][i].z for i in range(landmarks_num)]\n",
    "                simplified_frames.append((xs, ys, zs))\n",
    "            \n",
    "    else: \n",
    "        for frame in frames:\n",
    "            if len(frame.pose_landmarks) < 1 or len(frame.pose_landmarks[0]) != landmarks_num:\n",
    "                simplified_frames.append(([0 for _ in range(landmarks_num)], [0 for _ in range(landmarks_num)], [0 for _ in range(landmarks_num)]))\n",
    "            else:\n",
    "                xs = [frame.pose_world_landmarks[0][i].x for i in range(landmarks_num)]\n",
    "                ys = [-frame.pose_world_landmarks[0][i].y for i in range(landmarks_num)]\n",
    "                zs = [frame.pose_world_landmarks[0][i].z for i in range(landmarks_num)]\n",
    "                simplified_frames.append((xs, ys, zs))\n",
    "\n",
    "    return simplified_frames\n",
    "    "
   ]
  },
  {
   "cell_type": "code",
   "execution_count": 38,
   "id": "4951793c-2f3c-46c8-93ac-78f1ebf38abd",
   "metadata": {},
   "outputs": [
    {
     "data": {
      "text/html": [
       "<iframe\n",
       "    scrolling=\"no\"\n",
       "    width=\"1020px\"\n",
       "    height=\"820\"\n",
       "    src=\"iframe_figures/figure_38.html\"\n",
       "    frameborder=\"0\"\n",
       "    allowfullscreen\n",
       "></iframe>\n"
      ]
     },
     "metadata": {},
     "output_type": "display_data"
    }
   ],
   "source": [
    "from scripts.parsers import parse_sequences\n",
    "import plotly.graph_objects as go\n",
    "import numpy as np\n",
    "import itertools\n",
    "import json\n",
    "\n",
    "sequences = parse_sequences(file_path)\n",
    "base_avi_path = '.\\\\gait3d\\\\Sequences\\\\{}\\\\Images\\\\{}.avi'\n",
    "key_name = 'p7s1'\n",
    "file_name = 'c{}_{}'\n",
    "\n",
    "sf_str = str(sequences[key_name][\"start_frame\"])\n",
    "f_ending = (4 - len(sf_str)) * \"0\" + sf_str           \n",
    "\n",
    "avi_paths = [base_avi_path.format(key_name, file_name.format(i, f_ending)) for i in range(1, 5)]\n",
    "\n",
    "processed_landmarks = []\n",
    "\n",
    "for camera_avi_path in avi_paths:\n",
    "    landmarks = estimate_poses_for_video(camera_avi_path)\n",
    "    processed_landmarks.append(simplify_fames_for_presentation(landmarks))\n",
    "\n",
    "frames_per_sec = 25\n",
    "angle_joints = ['RIGHT_KNEE', 'LEFT_KNEE'] # 'RIGHT_ELBOW', 'LEFT_ELBOW'\n",
    "angle_joints_i = [key for key, value in pose_landmark_names.items() if value in angle_joints]\n",
    "\n",
    "x, y, z = get_frame_new_coordinates(processed_landmarks, 0)\n",
    "labels = list(pose_landmark_names.values())\n",
    "\n",
    "x_lines = []\n",
    "y_lines = []\n",
    "z_lines = []\n",
    "\n",
    "for i, j in connections:\n",
    "    x_lines += [x[i], x[j], None]\n",
    "    y_lines += [y[i], y[j], None]\n",
    "    z_lines += [z[i], z[j], None]\n",
    "\n",
    "\n",
    "fig = go.Figure(\n",
    "    data=[\n",
    "        go.Scatter3d(\n",
    "            x=x, y=y, z=z,\n",
    "            mode='markers',\n",
    "            marker=dict(size=5, color='blue'),\n",
    "            text=labels,\n",
    "            hoverinfo='text',\n",
    "            name='Joints'),\n",
    "        go.Scatter3d(\n",
    "            x=x_lines, y=y_lines, z=z_lines,\n",
    "            mode='lines',\n",
    "            line=dict(color='royalblue', width=3),\n",
    "            hoverinfo='none',\n",
    "            name='Bones'),\n",
    "        ]\n",
    ")\n",
    "\n",
    "frames = []\n",
    "\n",
    "for f_idx in range(len(processed_landmarks[0])):\n",
    "    x, y, z = get_frame_new_coordinates(processed_landmarks, f_idx)\n",
    "\n",
    "    x_lines = []\n",
    "    y_lines = []\n",
    "    z_lines = []\n",
    "\n",
    "    annotation_text = f'Frame {f_idx+1} '\n",
    "    for joint_i in angle_joints_i:\n",
    "         annotation_text += f\"| {pose_landmark_names[joint_i]}: {calc_joint_angle(joint_i, connections, x, y, z)[0]:.2f}°\"\n",
    "    \n",
    "    for i, j in connections:\n",
    "        x_lines += [x[i], x[j], None]\n",
    "        y_lines += [y[i], y[j], None]\n",
    "        z_lines += [z[i], z[j], None]\n",
    "\n",
    "    frames.append(go.Frame(\n",
    "        data=[\n",
    "        go.Scatter3d(\n",
    "            x=x, y=y, z=z,\n",
    "            mode='markers',\n",
    "            marker=dict(size=5, color='blue'),\n",
    "            text=labels,\n",
    "            hoverinfo='text',\n",
    "            name='Joints'),\n",
    "        go.Scatter3d(\n",
    "            x=x_lines, y=y_lines, z=z_lines,\n",
    "            mode='lines',\n",
    "            line=dict(color='royalblue', width=3),\n",
    "            hoverinfo='none',\n",
    "            name='Bones'),\n",
    "        ],\n",
    "        name=f'frame {f_idx}',\n",
    "        layout=go.Layout(\n",
    "            annotations=[dict(\n",
    "                text=annotation_text,\n",
    "                x=0.05, y=0.95, xref='paper', yref='paper',\n",
    "                showarrow=False, font=dict(size=16, color=\"black\"))]\n",
    "        )\n",
    "    ))\n",
    "\n",
    "fig.frames = frames\n",
    "    \n",
    "fig.update_layout(\n",
    "    scene=dict(\n",
    "        xaxis_title='X',\n",
    "        yaxis_title='Y',\n",
    "        zaxis_title='Z',\n",
    "        xaxis=dict(range=[0, 1]),\n",
    "        yaxis=dict(range=[-0.5, 1.5]),\n",
    "        zaxis=dict(range=[-1, 0]),\n",
    "        aspectmode='manual',\n",
    "        aspectratio=dict(x=1, y=2, z=1)\n",
    "    ),\n",
    "    title='3D joints plot from mediapipe approximations',\n",
    "    width=1000,\n",
    "    height=800,\n",
    "    annotations=[dict(\n",
    "        text='Frame 1',\n",
    "        x=0.05, y=0.95, xref='paper', yref='paper',\n",
    "        showarrow=False, font=dict(size=16, color=\"black\")\n",
    "    )],\n",
    "    updatemenus=[dict(\n",
    "        type=\"buttons\",\n",
    "        showactive=True,\n",
    "        buttons=[\n",
    "            dict(label=\"Play\",\n",
    "                 method=\"animate\",\n",
    "                 args=[None, dict(frame=dict(duration=1000/frames_per_sec, redraw=True), fromcurrent=True)]),\n",
    "\n",
    "            dict(label=\"Pause\",\n",
    "                 method=\"animate\",\n",
    "                 args=[[None], dict(frame=dict(duration=0, redraw=False), mode=\"immediate\")]),\n",
    "        ]\n",
    "    )]\n",
    ")\n",
    "\n",
    "\n",
    "fig.show()\n"
   ]
  },
  {
   "cell_type": "code",
   "execution_count": null,
   "id": "beb045b1-3dda-46c2-adf7-2bfe76cb3f2a",
   "metadata": {},
   "outputs": [],
   "source": []
  }
 ],
 "metadata": {
  "kernelspec": {
   "display_name": "Python 3 (ipykernel)",
   "language": "python",
   "name": "python3"
  },
  "language_info": {
   "codemirror_mode": {
    "name": "ipython",
    "version": 3
   },
   "file_extension": ".py",
   "mimetype": "text/x-python",
   "name": "python",
   "nbconvert_exporter": "python",
   "pygments_lexer": "ipython3",
   "version": "3.10.7"
  }
 },
 "nbformat": 4,
 "nbformat_minor": 5
}
