{
 "cells": [
  {
   "cell_type": "code",
   "execution_count": 1,
   "id": "b1917c70-7d7a-4a43-8d79-16748ceb50d8",
   "metadata": {},
   "outputs": [
    {
     "name": "stdout",
     "output_type": "stream",
     "text": [
      "Collecting pymvg\n",
      "  Using cached pymvg-2.1.0-py3-none-any.whl.metadata (3.9 kB)\n",
      "Requirement already satisfied: PyYAML>=5.1 in ./env/lib/python3.12/site-packages (from pymvg) (6.0.2)\n",
      "Requirement already satisfied: numpy in ./env/lib/python3.12/site-packages (from pymvg) (1.26.4)\n",
      "Requirement already satisfied: matplotlib in ./env/lib/python3.12/site-packages (from pymvg) (3.10.1)\n",
      "Collecting multicamselfcal>=0.2.1 (from pymvg)\n",
      "  Using cached multicamselfcal-0.3.2-py3-none-any.whl\n",
      "Collecting importlib-resources>=6 (from multicamselfcal>=0.2.1->pymvg)\n",
      "  Using cached importlib_resources-6.5.2-py3-none-any.whl.metadata (3.9 kB)\n",
      "Requirement already satisfied: contourpy>=1.0.1 in ./env/lib/python3.12/site-packages (from matplotlib->pymvg) (1.3.1)\n",
      "Requirement already satisfied: cycler>=0.10 in ./env/lib/python3.12/site-packages (from matplotlib->pymvg) (0.12.1)\n",
      "Requirement already satisfied: fonttools>=4.22.0 in ./env/lib/python3.12/site-packages (from matplotlib->pymvg) (4.56.0)\n",
      "Requirement already satisfied: kiwisolver>=1.3.1 in ./env/lib/python3.12/site-packages (from matplotlib->pymvg) (1.4.8)\n",
      "Requirement already satisfied: packaging>=20.0 in ./env/lib/python3.12/site-packages (from matplotlib->pymvg) (24.2)\n",
      "Requirement already satisfied: pillow>=8 in ./env/lib/python3.12/site-packages (from matplotlib->pymvg) (11.1.0)\n",
      "Requirement already satisfied: pyparsing>=2.3.1 in ./env/lib/python3.12/site-packages (from matplotlib->pymvg) (3.2.1)\n",
      "Requirement already satisfied: python-dateutil>=2.7 in ./env/lib/python3.12/site-packages (from matplotlib->pymvg) (2.9.0.post0)\n",
      "Requirement already satisfied: six>=1.5 in ./env/lib/python3.12/site-packages (from python-dateutil>=2.7->matplotlib->pymvg) (1.17.0)\n",
      "Using cached pymvg-2.1.0-py3-none-any.whl (28 kB)\n",
      "Using cached importlib_resources-6.5.2-py3-none-any.whl (37 kB)\n",
      "Installing collected packages: importlib-resources, multicamselfcal, pymvg\n",
      "Successfully installed importlib-resources-6.5.2 multicamselfcal-0.3.2 pymvg-2.1.0\n"
     ]
    }
   ],
   "source": [
    "! pip install pymvg"
   ]
  },
  {
   "cell_type": "code",
   "execution_count": 1,
   "id": "8576486e-43f3-4bc0-a062-d233704db4c0",
   "metadata": {},
   "outputs": [
    {
     "name": "stdout",
     "output_type": "stream",
     "text": [
      "./gait3d/Sequences/p7s1/Calibration/c1.xml\n",
      "./gait3d/Sequences/p7s1/Calibration/c2.xml\n"
     ]
    }
   ],
   "source": [
    "sequence_key = 'p7s1'\n",
    "camera_number = 1\n",
    "calibraton_file_path_base = \"./gait3d/Sequences/{sequence_key}/Calibration/c{camera_number}.xml\"\n",
    "calibraton_file_path_1 = calibraton_file_path_base.format(sequence_key=sequence_key, camera_number=1)\n",
    "print(calibraton_file_path_1)\n",
    "\n",
    "calibraton_file_path_2 = calibraton_file_path_base.format(sequence_key=sequence_key, camera_number=2)\n",
    "print(calibraton_file_path_2)"
   ]
  },
  {
   "cell_type": "code",
   "execution_count": 2,
   "id": "8858ac45-0bd3-4c92-a470-0a6929a94c85",
   "metadata": {},
   "outputs": [
    {
     "name": "stdout",
     "output_type": "stream",
     "text": [
      "<?xml version=\"1.0\" encoding=\"UTF-8\"?>\n",
      "<Camera name=\"c1\">\n",
      "\t<Geometry width=\"960\" height=\"540\" ncx=\"9.600000e+002\" nfx=\"9.600000e+002\" dx=\"1.000000e+000\" dy=\"1.000000e+000\" dpx=\"1.000000e+000\" dpy=\"1.000000e+000\"/>\n",
      "\t<Intrinsic focal=\"5.561470e+002\" kappa1=\"2.720130e-007\" cx=\"4.800000e+002\" cy=\"2.700000e+002\" sx=\"1.001630e+000\"/>\n",
      "\t<Extrinsic tx=\"2.564550e+001\" ty=\"6.130300e+002\" tz=\"3.444080e+003\" rx=\"-3.121731e+000\" ry=\"1.353192e+000\" rz=\"1.582054e+000\"/>\n",
      "</Camera>\n",
      "\n"
     ]
    }
   ],
   "source": [
    "with open(calibraton_file_path_1) as file:\n",
    "    xml_calibration_config = file.read()\n",
    "    print(xml_calibration_config)"
   ]
  },
  {
   "cell_type": "code",
   "execution_count": 194,
   "id": "18e8cfcb-8a93-47c9-b558-0e201ae2f7a5",
   "metadata": {},
   "outputs": [],
   "source": [
    "import xml.etree.ElementTree as ET\n",
    "import numpy as np\n",
    "from scipy.spatial.transform import Rotation as R\n",
    "\n",
    "def parse_camera_xml(file_path):\n",
    "    tree = ET.parse(file_path)\n",
    "    root = tree.getroot()\n",
    "\n",
    "    camera_name = root.attrib['name']\n",
    "\n",
    "    geometry = root.find('Geometry')\n",
    "    intrinsic = root.find('Intrinsic')\n",
    "    extrinsic = root.find('Extrinsic')\n",
    "    \n",
    "    camera_width = float(geometry.get('width'))\n",
    "    camera_height = float(geometry.get('height'))\n",
    "\n",
    "    f = float(intrinsic.get('focal'))\n",
    "    c = np.array([\n",
    "        float(intrinsic.get('cx')),\n",
    "        float(intrinsic.get('cx'))\n",
    "    ])\n",
    "\n",
    "    k = np.array([\n",
    "        float(intrinsic.get('kappa1')), 0.0, 0.0\n",
    "        # k2=0 and k3=0 - not provided in file \n",
    "    ])\n",
    "\n",
    "    p = np.array([0.0, 0.0])  # p - not provided in file\n",
    "\n",
    "    T = np.array([\n",
    "        [float(extrinsic.get(\"tx\"))],\n",
    "        [float(extrinsic.get(\"ty\"))],\n",
    "        [float(extrinsic.get(\"tz\"))]\n",
    "    ]).reshape(3, 1)\n",
    "\n",
    "    rx, ry, rz = float(extrinsic.get(\"rx\")), float(extrinsic.get(\"ry\")), float(extrinsic.get(\"rz\"))\n",
    "    R_matrix = R.from_euler('xyz', [rx, ry, rz]).as_matrix()\n",
    "\n",
    "    return {\n",
    "        \"name\": camera_name,\n",
    "        \"width\": camera_width,\n",
    "        \"height\": camera_height,\n",
    "        \"R\": R_matrix,\n",
    "        \"T\": T,\n",
    "        \"f\": f,\n",
    "        \"c\": c,\n",
    "        \"k\": k,\n",
    "        \"p\": p\n",
    "    }\n",
    "\n"
   ]
  },
  {
   "cell_type": "code",
   "execution_count": 195,
   "id": "8f1cd4d7-ae8b-4799-a899-e5f49a3f06e3",
   "metadata": {},
   "outputs": [
    {
     "data": {
      "text/plain": [
       "{'name': 'c1',\n",
       " 'width': 960.0,\n",
       " 'height': 540.0,\n",
       " 'R': array([[-0.00243038,  0.99995771, -0.0088693 ],\n",
       "        [ 0.21587739, -0.00813555, -0.97638659],\n",
       "        [-0.97641746, -0.00428767, -0.21584849]]),\n",
       " 'T': array([[  25.6455],\n",
       "        [ 613.03  ],\n",
       "        [3444.08  ]]),\n",
       " 'f': 556.147,\n",
       " 'c': array([480., 480.]),\n",
       " 'k': array([2.72013e-07, 0.00000e+00, 0.00000e+00]),\n",
       " 'p': array([0., 0.])}"
      ]
     },
     "execution_count": 195,
     "metadata": {},
     "output_type": "execute_result"
    }
   ],
   "source": [
    "parse_camera_xml(calibraton_file_path_1)"
   ]
  },
  {
   "cell_type": "code",
   "execution_count": 196,
   "id": "30d3977e-0269-458c-9b8d-c93958885afe",
   "metadata": {},
   "outputs": [],
   "source": [
    "# code based on https://github.com/microsoft/multiview-human-pose-estimation-pytorch/tree/master\n",
    "\n",
    "import numpy as np\n",
    "from pymvg.camera_model import CameraModel\n",
    "from pymvg.multi_camera_system import MultiCameraSystem\n",
    "\n",
    "\n",
    "def unfold_camera_param(camera):\n",
    "    \"\"\"\n",
    "    Camera parameters:\n",
    "        R: 3x3 Camera rotation matrix\n",
    "        T: 3x1 Camera translation parameters\n",
    "        f: (scalar) Camera focal length\n",
    "        c: 2x1 Camera center\n",
    "        k: 3x1 Camera radial distortion coefficients\n",
    "        p: 2x1 Camera tangential distortion coefficients\n",
    "    \"\"\"\n",
    "    R = camera['R']\n",
    "    T = camera['T']\n",
    "    f = camera['f'] # 0.5 * (camera['fx'] + camera['fy'])\n",
    "    c = camera['c'] # np.array([camera['cx'], camera['cy']])\n",
    "    k = camera['k']\n",
    "    p = camera['p']\n",
    "    return R, T, f, c, k, p\n",
    "\n",
    "\n",
    "def build_multi_camera_system(cameras):\n",
    "    \"\"\"\n",
    "    Build a multi-camera system with pymvg package for triangulation\n",
    "\n",
    "    Args:\n",
    "        cameras: list of camera parameters\n",
    "    Returns:\n",
    "        cams_system: a multi-cameras system\n",
    "    \"\"\"\n",
    "    pymvg_cameras = []\n",
    "    for camera in cameras:\n",
    "        R, T, f, c, k, p = unfold_camera_param(camera)\n",
    "        camera_matrix = np.array(\n",
    "            [[f, 0, c[0]], [0, f, c[1]], [0, 0, 1]], dtype=float)\n",
    "        proj_matrix = np.zeros((3, 4))\n",
    "        proj_matrix[:3, :3] = camera_matrix\n",
    "        distortion = np.array([k[0], k[1], p[0], p[1], k[2]])\n",
    "        distortion.shape = (5,)\n",
    "        T = -np.matmul(R, T)\n",
    "        M = camera_matrix.dot(np.concatenate((R, T), axis=1))\n",
    "        camera = CameraModel.load_camera_from_M(\n",
    "            M, name=camera['name'], distortion_coefficients=distortion,\n",
    "            width=camera['width'], height=camera['height']\n",
    "        )\n",
    "        pymvg_cameras.append(camera)\n",
    "    return MultiCameraSystem(pymvg_cameras)\n",
    "\n",
    "\n",
    "def triangulate_one_point(camera_system, points_2d_set):\n",
    "    \"\"\"\n",
    "    Triangulate 3d point in world coordinates with multi-views 2d points\n",
    "\n",
    "    Args:\n",
    "        camera_system: pymvg camera system\n",
    "        points_2d_set: list of structure (camera_name, point2d)\n",
    "    Returns:\n",
    "        points_3d: 3x1 point in world coordinates\n",
    "    \"\"\"\n",
    "    points_3d = camera_system.find3d(points_2d_set)\n",
    "    return points_3d\n",
    "\n",
    "\n",
    "def triangulate_poses(cameras_params, poses2d):\n",
    "    \"\"\"\n",
    "    Triangulate 3d points in world coordinates of multi-view 2d poses\n",
    "    by interatively calling $triangulate_one_point$\n",
    "\n",
    "    Args:\n",
    "        camera_params: a list of camera parameters, each corresponding to single camera\n",
    "        poses2d: ndarray of shape nxkx2, len(cameras) == n\n",
    "    Returns:\n",
    "        poses3d: ndarray of shape n/nviews x k x 3\n",
    "    \"\"\"\n",
    "    nviews = poses2d.shape[0]\n",
    "    njoints = poses2d.shape[1]\n",
    "    ninstances = 1 #len(camera_files_paths)\n",
    "\n",
    "    poses3d = []\n",
    "    for i in range(ninstances):\n",
    "        camera_system = build_multi_camera_system(cameras_params)\n",
    "\n",
    "        pose3d = np.zeros((njoints, 3))\n",
    "        for k in range(njoints):\n",
    "            points_2d_set = []\n",
    "\n",
    "            for j in range(nviews):\n",
    "                camera_name = 'c{}'.format(j+1)\n",
    "                points_2d = poses2d[i * nviews + j, k, :]\n",
    "                points_2d_set.append((camera_name, points_2d))\n",
    "            pose3d[k, :] = triangulate_one_point(camera_system, points_2d_set).T\n",
    "        poses3d.append(pose3d)\n",
    "    return np.array(poses3d)\n"
   ]
  },
  {
   "cell_type": "code",
   "execution_count": 197,
   "id": "f77bfbf3-d762-4928-9ba0-184d0f1c531e",
   "metadata": {},
   "outputs": [
    {
     "data": {
      "text/plain": [
       "[{'name': 'c1',\n",
       "  'width': 960.0,\n",
       "  'height': 540.0,\n",
       "  'R': array([[-0.00243038,  0.99995771, -0.0088693 ],\n",
       "         [ 0.21587739, -0.00813555, -0.97638659],\n",
       "         [-0.97641746, -0.00428767, -0.21584849]]),\n",
       "  'T': array([[  25.6455],\n",
       "         [ 613.03  ],\n",
       "         [3444.08  ]]),\n",
       "  'f': 556.147,\n",
       "  'c': array([480., 480.]),\n",
       "  'k': array([2.72013e-07, 0.00000e+00, 0.00000e+00]),\n",
       "  'p': array([0., 0.])},\n",
       " {'name': 'c2',\n",
       "  'width': 960.0,\n",
       "  'height': 540.0,\n",
       "  'R': array([[-0.99988253, -0.01426695,  0.00560169],\n",
       "         [-0.00739992,  0.12928686, -0.99157962],\n",
       "         [ 0.0134226 , -0.9915046 , -0.12937724]]),\n",
       "  'T': array([[ -61.8235],\n",
       "         [ 618.076 ],\n",
       "         [5233.55  ]]),\n",
       "  'f': 554.64,\n",
       "  'c': array([480., 480.]),\n",
       "  'k': array([4.60719e-07, 0.00000e+00, 0.00000e+00]),\n",
       "  'p': array([0., 0.])},\n",
       " {'name': 'c3',\n",
       "  'width': 960.0,\n",
       "  'height': 540.0,\n",
       "  'R': array([[ 0.01244236, -0.99987309,  0.00994977],\n",
       "         [-0.22203888, -0.01246488, -0.97495813],\n",
       "         [ 0.97495842,  0.00992155, -0.22216579]]),\n",
       "  'T': array([[  38.4591],\n",
       "         [ 503.701 ],\n",
       "         [3781.96  ]]),\n",
       "  'f': 554.43,\n",
       "  'c': array([480., 480.]),\n",
       "  'k': array([3.27887e-07, 0.00000e+00, 0.00000e+00]),\n",
       "  'p': array([0., 0.])},\n",
       " {'name': 'c4',\n",
       "  'width': 960.0,\n",
       "  'height': 540.0,\n",
       "  'R': array([[ 0.99986069, -0.01549949, -0.00619469],\n",
       "         [-0.00871577, -0.16829338, -0.98569842],\n",
       "         [ 0.0142353 ,  0.98561509, -0.16840503]]),\n",
       "  'T': array([[  90.5363],\n",
       "         [ 473.449 ],\n",
       "         [5231.56  ]]),\n",
       "  'f': 556.486,\n",
       "  'c': array([480., 480.]),\n",
       "  'k': array([5.65878e-07, 0.00000e+00, 0.00000e+00]),\n",
       "  'p': array([0., 0.])}]"
      ]
     },
     "execution_count": 197,
     "metadata": {},
     "output_type": "execute_result"
    }
   ],
   "source": [
    "from utils.video_tools import get_camera_calibration_files, get_video_files\n",
    "\n",
    "sequence_key = \"p7s1\"\n",
    "\n",
    "camera_files_paths = get_camera_calibration_files(sequence_key)\n",
    "cameras_params = [parse_camera_xml(camera_path) for camera_path in camera_files_paths]\n",
    "cameras_params"
   ]
  },
  {
   "cell_type": "code",
   "execution_count": 198,
   "id": "20d0ba7f-7991-4120-a42e-ff97ff4016b7",
   "metadata": {},
   "outputs": [
    {
     "data": {
      "text/plain": [
       "<pymvg.multi_camera_system.MultiCameraSystem at 0x71eea6fd1700>"
      ]
     },
     "execution_count": 198,
     "metadata": {},
     "output_type": "execute_result"
    }
   ],
   "source": [
    "mcs = build_multi_camera_system(cameras_params)\n",
    "mcs"
   ]
  },
  {
   "cell_type": "code",
   "execution_count": 220,
   "id": "6ec4d488-2184-47a4-837d-946a5ae78b3b",
   "metadata": {},
   "outputs": [
    {
     "data": {
      "image/png": "[encoded data removed]",
      "text/plain": [
       "<Figure size 640x480 with 1 Axes>"
      ]
     },
     "metadata": {},
     "output_type": "display_data"
    }
   ],
   "source": [
    "from pymvg.plot_utils import plot_system\n",
    "import matplotlib.pyplot as plt\n",
    "from mpl_toolkits.mplot3d import Axes3D\n",
    "\n",
    "fig = plt.figure()\n",
    "ax = fig.add_subplot(1,1,1, projection='3d')\n",
    "plot_system( ax, mcs )\n",
    "ax.set_xlabel('x'); ax.set_ylabel('y'); ax.set_zlabel('z')\n",
    "# ax.set_xlim(-0.8,0.8); ax.set_ylim(-0.8,0.8); ax.set_zlim(-0.8,0.8)\n",
    "plt.show()"
   ]
  },
  {
   "cell_type": "code",
   "execution_count": 204,
   "id": "92d8dc3f-3091-452b-afc8-b960058b63d9",
   "metadata": {},
   "outputs": [
    {
     "data": {
      "text/plain": [
       "['./gait3d/Sequences/p7s1/Images/c1_0090.avi',\n",
       " './gait3d/Sequences/p7s1/Images/c2_0090.avi',\n",
       " './gait3d/Sequences/p7s1/Images/c3_0090.avi',\n",
       " './gait3d/Sequences/p7s1/Images/c4_0090.avi']"
      ]
     },
     "execution_count": 204,
     "metadata": {},
     "output_type": "execute_result"
    }
   ],
   "source": [
    "video_files = get_video_files(sequence_key)\n",
    "video_files"
   ]
  },
  {
   "cell_type": "code",
   "execution_count": 205,
   "id": "929156d2-dacb-45ba-9efd-4ec915f2e39a",
   "metadata": {},
   "outputs": [
    {
     "name": "stderr",
     "output_type": "stream",
     "text": [
      "I0000 00:00:1743448093.931028   37127 gl_context_egl.cc:85] Successfully initialized EGL. Major : 1 Minor: 5\n",
      "I0000 00:00:1743448093.958819   42748 gl_context.cc:369] GL version: 3.2 (OpenGL ES 3.2 NVIDIA 550.120), renderer: NVIDIA GeForce RTX 3060/PCIe/SSE2\n",
      "W0000 00:00:1743448094.010217   42761 inference_feedback_manager.cc:114] Feedback manager requires a model with a single signature inference. Disabling support for feedback tensors.\n",
      "W0000 00:00:1743448094.094499   42758 inference_feedback_manager.cc:114] Feedback manager requires a model with a single signature inference. Disabling support for feedback tensors.\n",
      "I0000 00:00:1743448094.095273   37127 gl_context_egl.cc:85] Successfully initialized EGL. Major : 1 Minor: 5\n",
      "I0000 00:00:1743448094.106293   42762 gl_context.cc:369] GL version: 3.2 (OpenGL ES 3.2 NVIDIA 550.120), renderer: NVIDIA GeForce RTX 3060/PCIe/SSE2\n",
      "W0000 00:00:1743448094.153121   42769 inference_feedback_manager.cc:114] Feedback manager requires a model with a single signature inference. Disabling support for feedback tensors.\n",
      "W0000 00:00:1743448094.225675   42772 inference_feedback_manager.cc:114] Feedback manager requires a model with a single signature inference. Disabling support for feedback tensors.\n",
      "I0000 00:00:1743448094.226282   37127 gl_context_egl.cc:85] Successfully initialized EGL. Major : 1 Minor: 5\n",
      "I0000 00:00:1743448094.237910   42776 gl_context.cc:369] GL version: 3.2 (OpenGL ES 3.2 NVIDIA 550.120), renderer: NVIDIA GeForce RTX 3060/PCIe/SSE2\n",
      "W0000 00:00:1743448094.286089   42786 inference_feedback_manager.cc:114] Feedback manager requires a model with a single signature inference. Disabling support for feedback tensors.\n",
      "W0000 00:00:1743448094.360877   42785 inference_feedback_manager.cc:114] Feedback manager requires a model with a single signature inference. Disabling support for feedback tensors.\n",
      "I0000 00:00:1743448094.361395   37127 gl_context_egl.cc:85] Successfully initialized EGL. Major : 1 Minor: 5\n",
      "I0000 00:00:1743448094.372573   42790 gl_context.cc:369] GL version: 3.2 (OpenGL ES 3.2 NVIDIA 550.120), renderer: NVIDIA GeForce RTX 3060/PCIe/SSE2\n",
      "W0000 00:00:1743448094.419574   42798 inference_feedback_manager.cc:114] Feedback manager requires a model with a single signature inference. Disabling support for feedback tensors.\n",
      "W0000 00:00:1743448094.520173   42794 inference_feedback_manager.cc:114] Feedback manager requires a model with a single signature inference. Disabling support for feedback tensors.\n"
     ]
    },
    {
     "name": "stdout",
     "output_type": "stream",
     "text": [
      "[Frame 0] Landmarks not found!\n",
      "[Frame 40] Landmarks not found!\n",
      "[Frame 80] Landmarks not found!\n",
      "[Frame 120] Landmarks not found!\n",
      "[Frame 160] Landmarks not found!\n",
      "[Frame 200] Landmarks not found!\n",
      "[Frame 240] Landmarks not found!\n",
      "[Frame 280] Landmarks not found!\n",
      "[Frame 320] Landmarks not found!\n",
      "[Frame 360] Landmarks not found!\n",
      "[Frame 400] Landmarks not found!\n",
      "[Frame 440] Landmarks not found!\n",
      "[Frame 480] Landmarks not found!\n",
      "[Frame 520] Landmarks not found!\n",
      "[Frame 560] Landmarks not found!\n",
      "[Frame 600] Landmarks not found!\n",
      "[Frame 640] Landmarks not found!\n",
      "[Frame 680] Landmarks not found!\n",
      "[Frame 720] Landmarks not found!\n",
      "[Frame 760] Landmarks not found!\n",
      "[Frame 800] Landmarks not found!\n",
      "[Frame 840] Landmarks not found!\n",
      "[Frame 880] Landmarks not found!\n",
      "[Frame 920] Landmarks not found!\n",
      "[Frame 960] Landmarks not found!\n",
      "[Frame 1000] Landmarks not found!\n",
      "[Frame 1040] Landmarks not found!\n",
      "[Frame 1080] Landmarks not found!\n",
      "[Frame 1120] Landmarks not found!\n",
      "[Frame 1160] Landmarks not found!\n",
      "[Frame 1200] Landmarks not found!\n",
      "[Frame 1240] Landmarks not found!\n",
      "[Frame 1280] Landmarks not found!\n",
      "[Frame 1320] Landmarks not found!\n",
      "[Frame 1360] Landmarks not found!\n",
      "[Frame 1400] Landmarks not found!\n",
      "[Frame 1440] Landmarks not found!\n",
      "[Frame 1480] Landmarks not found!\n",
      "[Frame 1520] Landmarks not found!\n",
      "[Frame 1560] Landmarks not found!\n",
      "[Frame 1600] Landmarks not found!\n",
      "[Frame 1640] Landmarks not found!\n",
      "[Frame 1680] Landmarks not found!\n",
      "[Frame 1720] Landmarks not found!\n",
      "[Frame 1760] Landmarks not found!\n",
      "[Frame 1800] Landmarks not found!\n",
      "[Frame 1840] Landmarks not found!\n",
      "[Frame 1880] Landmarks not found!\n",
      "[Frame 1920] Landmarks not found!\n",
      "[Frame 1960] Landmarks not found!\n",
      "[Frame 2000] Landmarks not found!\n",
      "[Frame 2040] Landmarks not found!\n",
      "[Frame 2080] Landmarks not found!\n",
      "[Frame 2120] Landmarks not found!\n",
      "[Frame 2160] Landmarks not found!\n",
      "[Frame 2200] Landmarks not found!\n"
     ]
    }
   ],
   "source": [
    "from scripts.frame_iterator import video_frame_iterator\n",
    "from scripts.frame_iterator import video_frame_iterator\n",
    "\n",
    "frames_iterator = [video_frame_iterator(avi_file) for avi_file in video_files]\n",
    "mp_estimators = [MediaPipeEstimator() for _ in range(4)]\n",
    "predicted = [{} for _ in range(4)]\n",
    "MAX_FRAMES = 80\n",
    "\n",
    "for frame_i in range(MAX_FRAMES):\n",
    "    for iter_ind, (f_iterator, mp_estimator) in enumerate(zip(frames_iterator, mp_estimators)):\n",
    "        frame_ts, frame = next(f_iterator)\n",
    "        estimations = mp_estimator.predict_for_frame(frame_ts, frame)\n",
    "        predicted[iter_ind][frame_i] = estimations"
   ]
  },
  {
   "cell_type": "code",
   "execution_count": 206,
   "id": "3334c2ff-bec4-4e5d-a907-24d6de4ca83b",
   "metadata": {},
   "outputs": [
    {
     "data": {
      "text/plain": [
       "[(811, 130),\n",
       " (813, 125),\n",
       " (814, 124),\n",
       " (815, 124),\n",
       " (812, 125),\n",
       " (813, 124),\n",
       " (813, 124),\n",
       " (824, 122),\n",
       " (821, 123),\n",
       " (817, 135),\n",
       " (815, 135),\n",
       " (858, 154),\n",
       " (822, 153),\n",
       " (861, 201),\n",
       " (816, 198),\n",
       " (852, 244),\n",
       " (810, 231),\n",
       " (852, 256),\n",
       " (807, 242),\n",
       " (845, 255),\n",
       " (807, 242),\n",
       " (844, 251),\n",
       " (808, 240),\n",
       " (840, 236),\n",
       " (818, 233),\n",
       " (825, 297),\n",
       " (812, 292),\n",
       " (818, 352),\n",
       " (806, 346),\n",
       " (822, 363),\n",
       " (811, 357),\n",
       " (790, 358),\n",
       " (780, 350)]"
      ]
     },
     "execution_count": 206,
     "metadata": {},
     "output_type": "execute_result"
    }
   ],
   "source": [
    "predicted[0][0]"
   ]
  },
  {
   "cell_type": "code",
   "execution_count": 207,
   "id": "39ab7883-d91c-468d-a693-8b731e541745",
   "metadata": {},
   "outputs": [
    {
     "data": {
      "text/plain": [
       "[]"
      ]
     },
     "execution_count": 207,
     "metadata": {},
     "output_type": "execute_result"
    }
   ],
   "source": [
    "predicted[3][0]"
   ]
  },
  {
   "cell_type": "code",
   "execution_count": 208,
   "id": "035efae6-4373-4824-8a22-0d98cb17758d",
   "metadata": {},
   "outputs": [
    {
     "data": {
      "text/plain": [
       "(4, 33, 2)"
      ]
     },
     "execution_count": 208,
     "metadata": {},
     "output_type": "execute_result"
    }
   ],
   "source": [
    "sample_2d_points = np.array([predicted[i][70] for i in [0,1,2,3]])\n",
    "sample_2d_points.shape"
   ]
  },
  {
   "cell_type": "code",
   "execution_count": 209,
   "id": "313634bc-2d53-4165-919f-b102470f2cd3",
   "metadata": {},
   "outputs": [
    {
     "data": {
      "text/plain": [
       "array([[[-6.55587450e+01,  6.36902342e+02,  4.55758513e+03],\n",
       "        [-6.69308380e+01,  6.34688492e+02,  4.55674897e+03],\n",
       "        [-6.66197570e+01,  6.34217553e+02,  4.55676341e+03],\n",
       "        [-6.60975502e+01,  6.33619448e+02,  4.55679213e+03],\n",
       "        [-6.77684234e+01,  6.35186334e+02,  4.55670804e+03],\n",
       "        [-6.83949245e+01,  6.35701878e+02,  4.55647479e+03],\n",
       "        [-6.86055716e+01,  6.36200253e+02,  4.55627356e+03],\n",
       "        [-6.52094283e+01,  6.31056621e+02,  4.55655230e+03],\n",
       "        [-6.82474897e+01,  6.33639338e+02,  4.55600908e+03],\n",
       "        [-6.43648515e+01,  6.37476237e+02,  4.55812814e+03],\n",
       "        [-6.54076888e+01,  6.37236398e+02,  4.55798961e+03],\n",
       "        [-4.89736272e+01,  6.30202450e+02,  4.55987950e+03],\n",
       "        [-6.42584269e+01,  6.35245540e+02,  4.55904867e+03],\n",
       "        [-2.91312278e+01,  6.35904381e+02,  4.56610424e+03],\n",
       "        [-5.07948105e+01,  6.39960326e+02,  4.56507835e+03],\n",
       "        [-2.18176876e+01,  6.48917576e+02,  4.56941481e+03],\n",
       "        [-4.57408523e+01,  6.50513364e+02,  4.56848290e+03],\n",
       "        [-1.96010225e+01,  6.52554943e+02,  4.57072154e+03],\n",
       "        [-4.49310496e+01,  6.52358299e+02,  4.56966704e+03],\n",
       "        [-2.09071338e+01,  6.53586718e+02,  4.57010042e+03],\n",
       "        [-4.48532831e+01,  6.52844773e+02,  4.56960684e+03],\n",
       "        [-2.14907886e+01,  6.53313767e+02,  4.56988208e+03],\n",
       "        [-4.35541430e+01,  6.52395963e+02,  4.56899013e+03],\n",
       "        [-2.36398326e+01,  6.43104770e+02,  4.56789594e+03],\n",
       "        [-3.51408609e+01,  6.46183390e+02,  4.56786434e+03],\n",
       "        [-1.80073977e+01,  6.55323418e+02,  4.57146344e+03],\n",
       "        [-1.69443612e+01,  6.62472617e+02,  4.57208287e+03],\n",
       "        [ 7.05363120e+00,  6.53807740e+02,  4.57809009e+03],\n",
       "        [ 2.81077864e+00,  6.61840213e+02,  4.57810365e+03],\n",
       "        [ 1.32036357e+01,  6.49590629e+02,  4.58060486e+03],\n",
       "        [ 1.24672132e+01,  6.58153344e+02,  4.58033369e+03],\n",
       "        [ 9.48205853e+00,  6.70758921e+02,  4.57710879e+03],\n",
       "        [-8.27705412e-02,  6.81497895e+02,  4.57808182e+03]]])"
      ]
     },
     "execution_count": 209,
     "metadata": {},
     "output_type": "execute_result"
    }
   ],
   "source": [
    "sample_result = triangulate_poses(cameras_params, sample_2d_points)\n",
    "sample_result"
   ]
  },
  {
   "cell_type": "code",
   "execution_count": 210,
   "id": "723021b3-e788-4bda-8f04-29206dcecfa7",
   "metadata": {},
   "outputs": [
    {
     "data": {
      "text/plain": [
       "array([-65.55874502, -66.93083799, -66.61975702, -66.09755017,\n",
       "       -67.7684234 , -68.39492446, -68.60557156, -65.20942827,\n",
       "       -68.24748967, -64.36485154, -65.40768882, -48.97362724,\n",
       "       -64.25842688, -29.13122777, -50.79481055, -21.81768764,\n",
       "       -45.74085231, -19.60102253, -44.93104963, -20.90713375,\n",
       "       -44.85328315, -21.49078858, -43.55414296, -23.6398326 ,\n",
       "       -35.14086091, -18.00739773, -16.94436121,   7.0536312 ,\n",
       "         2.81077864,  13.20363567,  12.46721322,   9.48205853,\n",
       "        -0.08277054])"
      ]
     },
     "execution_count": 210,
     "metadata": {},
     "output_type": "execute_result"
    }
   ],
   "source": [
    "x = sample_result[0, :, 0]\n",
    "y = sample_result[0, :, 1]\n",
    "z = sample_result[0, :, 2]\n",
    "x"
   ]
  },
  {
   "cell_type": "code",
   "execution_count": 211,
   "id": "c5839c33-09ce-46bf-aab6-65720be2ad62",
   "metadata": {},
   "outputs": [
    {
     "data": {
      "text/plain": [
       "array([636.90234166, 634.68849157, 634.21755278, 633.6194482 ,\n",
       "       635.18633356, 635.70187825, 636.20025272, 631.05662116,\n",
       "       633.63933815, 637.47623737, 637.23639789, 630.20245035,\n",
       "       635.24554031, 635.90438107, 639.96032586, 648.91757637,\n",
       "       650.51336359, 652.55494311, 652.3582991 , 653.58671759,\n",
       "       652.84477265, 653.31376735, 652.3959631 , 643.10477007,\n",
       "       646.1833901 , 655.32341781, 662.4726166 , 653.80773979,\n",
       "       661.84021297, 649.59062883, 658.15334369, 670.75892104,\n",
       "       681.49789485])"
      ]
     },
     "execution_count": 211,
     "metadata": {},
     "output_type": "execute_result"
    }
   ],
   "source": [
    "y"
   ]
  },
  {
   "cell_type": "code",
   "execution_count": 212,
   "id": "2100873f-b4be-46b1-9ebe-a5cf56c6d3d7",
   "metadata": {},
   "outputs": [
    {
     "data": {
      "text/plain": [
       "array([4557.58513224, 4556.74897017, 4556.763412  , 4556.79212755,\n",
       "       4556.70803934, 4556.47479199, 4556.27355908, 4556.55230007,\n",
       "       4556.00907539, 4558.12814098, 4557.98961072, 4559.87949802,\n",
       "       4559.04867442, 4566.10423641, 4565.07834689, 4569.41480793,\n",
       "       4568.48290367, 4570.72154271, 4569.6670422 , 4570.10041771,\n",
       "       4569.60683825, 4569.88207912, 4568.99013199, 4567.89593501,\n",
       "       4567.86433846, 4571.46343988, 4572.08286926, 4578.09008777,\n",
       "       4578.10364713, 4580.60485657, 4580.33368501, 4577.10878513,\n",
       "       4578.08182249])"
      ]
     },
     "execution_count": 212,
     "metadata": {},
     "output_type": "execute_result"
    }
   ],
   "source": [
    "z"
   ]
  },
  {
   "cell_type": "code",
   "execution_count": 213,
   "id": "3b500d73-e029-436f-9004-95db14808a3d",
   "metadata": {},
   "outputs": [
    {
     "name": "stdout",
     "output_type": "stream",
     "text": [
      "{0: 'NOSE', 1: 'LEFT_EYE_INNER', 2: 'LEFT_EYE', 3: 'LEFT_EYE_OUTER', 4: 'RIGHT_EYE_INNER', 5: 'RIGHT_EYE', 6: 'RIGHT_EYE_OUTER', 7: 'LEFT_EAR', 8: 'RIGHT_EAR', 9: 'MOUTH_LEFT', 10: 'MOUTH_RIGHT', 11: 'LEFT_SHOULDER', 12: 'RIGHT_SHOULDER', 13: 'LEFT_ELBOW', 14: 'RIGHT_ELBOW', 15: 'LEFT_WRIST', 16: 'RIGHT_WRIST', 17: 'LEFT_PINKY', 18: 'RIGHT_PINKY', 19: 'LEFT_INDEX', 20: 'RIGHT_INDEX', 21: 'LEFT_THUMB', 22: 'RIGHT_THUMB', 23: 'LEFT_HIP', 24: 'RIGHT_HIP', 25: 'LEFT_KNEE', 26: 'RIGHT_KNEE', 27: 'LEFT_ANKLE', 28: 'RIGHT_ANKLE', 29: 'LEFT_HEEL', 30: 'RIGHT_HEEL', 31: 'LEFT_FOOT_INDEX', 32: 'RIGHT_FOOT_INDEX'}\n",
      "[(15, 21), (16, 20), (18, 20), (3, 7), (14, 16), (23, 25), (28, 30), (11, 23), (27, 31), (6, 8), (15, 17), (24, 26), (16, 22), (4, 5), (5, 6), (29, 31), (12, 24), (23, 24), (0, 1), (9, 10), (1, 2), (0, 4), (11, 13), (30, 32), (28, 32), (15, 19), (16, 18), (25, 27), (26, 28), (12, 14), (17, 19), (2, 3), (11, 12), (27, 29), (13, 15)]\n"
     ]
    }
   ],
   "source": [
    "import mediapipe as mp\n",
    "mp_pose = mp.solutions.pose\n",
    "landmarks_num = 33\n",
    "\n",
    "pose_landmark_names = {i: mp_pose.PoseLandmark(i).name for i in range(landmarks_num)}\n",
    "connections = list(mp_pose.POSE_CONNECTIONS)\n",
    "\n",
    "print(pose_landmark_names)\n",
    "print(connections)"
   ]
  },
  {
   "cell_type": "code",
   "execution_count": 214,
   "id": "f66cb31b-b4b9-4632-be21-f832dfaff432",
   "metadata": {},
   "outputs": [],
   "source": [
    "import plotly.graph_objects as go\n",
    "import plotly.io as pio\n",
    "\n",
    "pio.renderers.default = 'iframe'\n",
    "\n",
    "labels = list(pose_landmark_names.values())\n",
    "\n",
    "def show_3d_pose(x, y, z, labels, connections):\n",
    "    x_lines = []\n",
    "    y_lines = []\n",
    "    z_lines = []\n",
    "    \n",
    "    for i, j in connections:\n",
    "        x_lines += [x[i], x[j], None]\n",
    "        y_lines += [y[i], y[j], None]\n",
    "        z_lines += [z[i], z[j], None]\n",
    "        \n",
    "    fig = go.Figure(\n",
    "        data=[\n",
    "            go.Scatter3d(\n",
    "                x=x, y=y, z=z,\n",
    "                mode='markers',\n",
    "                marker=dict(size=3, color='blue'),\n",
    "                text=labels,\n",
    "                hoverinfo='text',\n",
    "                name='Joints'),\n",
    "            go.Scatter3d(\n",
    "                x=x_lines, y=y_lines, z=z_lines,\n",
    "                mode='lines',\n",
    "                line=dict(color='royalblue', width=2),\n",
    "                name='Bones'),\n",
    "            ]\n",
    "    )\n",
    "    \n",
    "    \n",
    "    fig.update_layout(scene=dict(\n",
    "        xaxis_title='X',\n",
    "        yaxis_title='Y',\n",
    "        zaxis_title='Z',\n",
    "        aspectmode='cube', \n",
    "    ),\n",
    "    title='3D joints plot from bvh file',\n",
    "    width=800,\n",
    "    height=800\n",
    "    )\n",
    "    \n",
    "    fig.show()"
   ]
  },
  {
   "cell_type": "code",
   "execution_count": 215,
   "id": "0897c9b6-fc05-429b-b636-9f4c4e7df47b",
   "metadata": {},
   "outputs": [
    {
     "data": {
      "text/html": [
       "<iframe\n",
       "    scrolling=\"no\"\n",
       "    width=\"820px\"\n",
       "    height=\"820\"\n",
       "    src=\"iframe_figures/figure_215.html\"\n",
       "    frameborder=\"0\"\n",
       "    allowfullscreen\n",
       "></iframe>\n"
      ]
     },
     "metadata": {},
     "output_type": "display_data"
    }
   ],
   "source": [
    "show_3d_pose(x, y, z, labels, connections)"
   ]
  },
  {
   "cell_type": "code",
   "execution_count": 216,
   "id": "b57de4b7-2179-4c36-abfa-6cb4d5fedb60",
   "metadata": {},
   "outputs": [
    {
     "name": "stdout",
     "output_type": "stream",
     "text": [
      "views_with_points = [0, 1, 2]\n"
     ]
    },
    {
     "data": {
      "text/plain": [
       "(3, 33, 2)"
      ]
     },
     "execution_count": 216,
     "metadata": {},
     "output_type": "execute_result"
    }
   ],
   "source": [
    "frame_num = 10\n",
    "\n",
    "views_with_points = []\n",
    "for i in range(4):\n",
    "    if predicted[i][frame_num]:\n",
    "        views_with_points.append(i)\n",
    "\n",
    "print(f\"{views_with_points = }\")\n",
    "sample_camera_params = [cameras_params[i] for i in views_with_points]\n",
    "\n",
    "sample_2d_points = np.array([predicted[i][70] for i in views_with_points])\n",
    "sample_2d_points.shape"
   ]
  },
  {
   "cell_type": "code",
   "execution_count": 217,
   "id": "947d550d-af28-40a0-a0fb-16d38382bb5d",
   "metadata": {},
   "outputs": [
    {
     "data": {
      "text/plain": [
       "[{'name': 'c1',\n",
       "  'width': 960.0,\n",
       "  'height': 540.0,\n",
       "  'R': array([[-0.00243038,  0.99995771, -0.0088693 ],\n",
       "         [ 0.21587739, -0.00813555, -0.97638659],\n",
       "         [-0.97641746, -0.00428767, -0.21584849]]),\n",
       "  'T': array([[  25.6455],\n",
       "         [ 613.03  ],\n",
       "         [3444.08  ]]),\n",
       "  'f': 556.147,\n",
       "  'c': array([480., 480.]),\n",
       "  'k': array([2.72013e-07, 0.00000e+00, 0.00000e+00]),\n",
       "  'p': array([0., 0.])},\n",
       " {'name': 'c2',\n",
       "  'width': 960.0,\n",
       "  'height': 540.0,\n",
       "  'R': array([[-0.99988253, -0.01426695,  0.00560169],\n",
       "         [-0.00739992,  0.12928686, -0.99157962],\n",
       "         [ 0.0134226 , -0.9915046 , -0.12937724]]),\n",
       "  'T': array([[ -61.8235],\n",
       "         [ 618.076 ],\n",
       "         [5233.55  ]]),\n",
       "  'f': 554.64,\n",
       "  'c': array([480., 480.]),\n",
       "  'k': array([4.60719e-07, 0.00000e+00, 0.00000e+00]),\n",
       "  'p': array([0., 0.])},\n",
       " {'name': 'c3',\n",
       "  'width': 960.0,\n",
       "  'height': 540.0,\n",
       "  'R': array([[ 0.01244236, -0.99987309,  0.00994977],\n",
       "         [-0.22203888, -0.01246488, -0.97495813],\n",
       "         [ 0.97495842,  0.00992155, -0.22216579]]),\n",
       "  'T': array([[  38.4591],\n",
       "         [ 503.701 ],\n",
       "         [3781.96  ]]),\n",
       "  'f': 554.43,\n",
       "  'c': array([480., 480.]),\n",
       "  'k': array([3.27887e-07, 0.00000e+00, 0.00000e+00]),\n",
       "  'p': array([0., 0.])}]"
      ]
     },
     "execution_count": 217,
     "metadata": {},
     "output_type": "execute_result"
    }
   ],
   "source": [
    "sample_camera_params"
   ]
  },
  {
   "cell_type": "code",
   "execution_count": 218,
   "id": "5cae2942-a84e-4c17-b1bd-33d8bc5c723c",
   "metadata": {},
   "outputs": [
    {
     "data": {
      "text/plain": [
       "array([[[-181.05615388,  838.18454286, 4222.99061872],\n",
       "        [-183.07619072,  840.69557845, 4220.92132175],\n",
       "        [-183.24339403,  840.56220535, 4220.91007852],\n",
       "        [-183.40895844,  840.4288629 , 4220.89881558],\n",
       "        [-182.04611711,  839.22130647, 4221.3596229 ],\n",
       "        [-182.04277524,  839.77689606, 4220.98996318],\n",
       "        [-181.95970045,  839.44880053, 4220.98801616],\n",
       "        [-183.50418424,  837.02978493, 4221.32488613],\n",
       "        [-182.32271605,  835.82293873, 4221.36491565],\n",
       "        [-181.97891842,  835.44254725, 4224.73947339],\n",
       "        [-181.78700966,  834.26220852, 4224.80867421],\n",
       "        [-174.00827792,  812.99012339, 4233.00131855],\n",
       "        [-180.84176789,  810.7422824 , 4232.9162999 ],\n",
       "        [-151.56822694,  786.79975812, 4248.70415297],\n",
       "        [-164.59126369,  782.28070697, 4248.73863904],\n",
       "        [-141.30381952,  770.92838215, 4260.11921439],\n",
       "        [-157.50884057,  762.58579205, 4260.78153144],\n",
       "        [-138.6070841 ,  765.99555617, 4263.89765267],\n",
       "        [-155.23899351,  756.50954079, 4264.25334527],\n",
       "        [-139.42888705,  766.53470361, 4263.29995129],\n",
       "        [-155.75766177,  756.75545738, 4264.22281713],\n",
       "        [-140.03864765,  769.21164458, 4262.15592169],\n",
       "        [-155.11757127,  758.80529025, 4262.89687914],\n",
       "        [-143.21206949,  764.32760227, 4258.84959738],\n",
       "        [-153.45041335,  765.53926981, 4258.8842039 ],\n",
       "        [-126.34412382,  730.1718301 , 4275.22407749],\n",
       "        [-130.18679364,  740.69023934, 4274.59970636],\n",
       "        [ -86.7892438 ,  695.50216666, 4290.43701262],\n",
       "        [ -94.47624121,  704.0857284 , 4290.96959399],\n",
       "        [ -75.44928684,  687.5934021 , 4294.00965406],\n",
       "        [ -79.18232045,  696.73699869, 4294.27588127],\n",
       "        [ -79.57129696,  697.11529952, 4292.86167595],\n",
       "        [ -93.56672379,  708.49658094, 4295.19652651]]])"
      ]
     },
     "execution_count": 218,
     "metadata": {},
     "output_type": "execute_result"
    }
   ],
   "source": [
    "sample_result = triangulate_poses(cameras_params, sample_2d_points)\n",
    "sample_result"
   ]
  },
  {
   "cell_type": "code",
   "execution_count": 219,
   "id": "fc8c2446-1481-483a-8bf3-b86b4a3117f8",
   "metadata": {},
   "outputs": [
    {
     "data": {
      "text/html": [
       "<iframe\n",
       "    scrolling=\"no\"\n",
       "    width=\"820px\"\n",
       "    height=\"820\"\n",
       "    src=\"iframe_figures/figure_219.html\"\n",
       "    frameborder=\"0\"\n",
       "    allowfullscreen\n",
       "></iframe>\n"
      ]
     },
     "metadata": {},
     "output_type": "display_data"
    }
   ],
   "source": [
    "x = sample_result[0, :, 0]\n",
    "y = sample_result[0, :, 1]\n",
    "z = sample_result[0, :, 2]\n",
    "\n",
    "show_3d_pose(x, y, z, labels, connections)"
   ]
  },
  {
   "cell_type": "code",
   "execution_count": null,
   "id": "affa4175-4684-442b-97e3-052ba04679ec",
   "metadata": {},
   "outputs": [],
   "source": []
  }
 ],
 "metadata": {
  "kernelspec": {
   "display_name": "Python 3 (ipykernel)",
   "language": "python",
   "name": "python3"
  },
  "language_info": {
   "codemirror_mode": {
    "name": "ipython",
    "version": 3
   },
   "file_extension": ".py",
   "mimetype": "text/x-python",
   "name": "python",
   "nbconvert_exporter": "python",
   "pygments_lexer": "ipython3",
   "version": "3.12.3"
  }
 },
 "nbformat": 4,
 "nbformat_minor": 5
}
