{
 "cells": [
  {
   "cell_type": "code",
   "execution_count": 5,
   "id": "b1917c70-7d7a-4a43-8d79-16748ceb50d8",
   "metadata": {},
   "outputs": [],
   "source": [
    "# ! pip install pymvg"
   ]
  },
  {
   "cell_type": "code",
   "execution_count": 6,
   "id": "8576486e-43f3-4bc0-a062-d233704db4c0",
   "metadata": {},
   "outputs": [
    {
     "name": "stdout",
     "output_type": "stream",
     "text": [
      "./gait3d/Sequences/p7s1/Calibration/c1.xml\n",
      "./gait3d/Sequences/p7s1/Calibration/c2.xml\n"
     ]
    }
   ],
   "source": [
    "sequence_key = 'p7s1'\n",
    "camera_number = 1\n",
    "calibraton_file_path_base = \"./gait3d/Sequences/{sequence_key}/Calibration/c{camera_number}.xml\"\n",
    "calibraton_file_path_1 = calibraton_file_path_base.format(sequence_key=sequence_key, camera_number=1)\n",
    "print(calibraton_file_path_1)\n",
    "\n",
    "calibraton_file_path_2 = calibraton_file_path_base.format(sequence_key=sequence_key, camera_number=2)\n",
    "print(calibraton_file_path_2)"
   ]
  },
  {
   "cell_type": "code",
   "execution_count": 7,
   "id": "8858ac45-0bd3-4c92-a470-0a6929a94c85",
   "metadata": {},
   "outputs": [
    {
     "name": "stdout",
     "output_type": "stream",
     "text": [
      "<?xml version=\"1.0\" encoding=\"UTF-8\"?>\n",
      "<Camera name=\"c1\">\n",
      "\t<Geometry width=\"960\" height=\"540\" ncx=\"9.600000e+002\" nfx=\"9.600000e+002\" dx=\"1.000000e+000\" dy=\"1.000000e+000\" dpx=\"1.000000e+000\" dpy=\"1.000000e+000\"/>\n",
      "\t<Intrinsic focal=\"5.561470e+002\" kappa1=\"2.720130e-007\" cx=\"4.800000e+002\" cy=\"2.700000e+002\" sx=\"1.001630e+000\"/>\n",
      "\t<Extrinsic tx=\"2.564550e+001\" ty=\"6.130300e+002\" tz=\"3.444080e+003\" rx=\"-3.121731e+000\" ry=\"1.353192e+000\" rz=\"1.582054e+000\"/>\n",
      "</Camera>\n",
      "\n"
     ]
    }
   ],
   "source": [
    "with open(calibraton_file_path_1) as file:\n",
    "    xml_calibration_config = file.read()\n",
    "    print(xml_calibration_config)"
   ]
  },
  {
   "cell_type": "code",
   "execution_count": 8,
   "id": "18e8cfcb-8a93-47c9-b558-0e201ae2f7a5",
   "metadata": {},
   "outputs": [],
   "source": [
    "import xml.etree.ElementTree as ET\n",
    "import numpy as np\n",
    "from scipy.spatial.transform import Rotation as R\n",
    "\n",
    "def parse_camera_xml(file_path):\n",
    "    tree = ET.parse(file_path)\n",
    "    root = tree.getroot()\n",
    "\n",
    "    camera_name = root.attrib['name']\n",
    "\n",
    "    geometry = root.find('Geometry')\n",
    "    intrinsic = root.find('Intrinsic')\n",
    "    extrinsic = root.find('Extrinsic')\n",
    "    \n",
    "    camera_width = float(geometry.get('width'))\n",
    "    camera_height = float(geometry.get('height'))\n",
    "\n",
    "    f = float(intrinsic.get('focal'))\n",
    "    c = np.array([\n",
    "        float(intrinsic.get('cx')),\n",
    "        float(intrinsic.get('cy'))\n",
    "    ])\n",
    "\n",
    "    k = np.array([\n",
    "        float(intrinsic.get('kappa1')), 0.0, 0.0\n",
    "        # k2=0 and k3=0 - not provided in camera config file\n",
    "    ])\n",
    "\n",
    "    p = np.array([0.0, 0.0])  # p - not provided in camera config file\n",
    "\n",
    "    T = np.array([\n",
    "        [float(extrinsic.get(\"tx\"))],\n",
    "        [float(extrinsic.get(\"ty\"))],\n",
    "        [float(extrinsic.get(\"tz\"))]\n",
    "    ]).reshape(3, 1)\n",
    "\n",
    "    rx, ry, rz = float(extrinsic.get(\"rx\")), float(extrinsic.get(\"ry\")), float(extrinsic.get(\"rz\"))\n",
    "    R_matrix = R.from_euler('xyz', [rx, ry, rz]).as_matrix()\n",
    "\n",
    "    return {\n",
    "        \"name\": camera_name,\n",
    "        \"width\": camera_width,\n",
    "        \"height\": camera_height,\n",
    "        \"R\": R_matrix,\n",
    "        \"T\": T,\n",
    "        \"f\": f,\n",
    "        \"c\": c,\n",
    "        \"k\": k,\n",
    "        \"p\": p\n",
    "    }\n",
    "\n"
   ]
  },
  {
   "cell_type": "code",
   "execution_count": 9,
   "id": "8f1cd4d7-ae8b-4799-a899-e5f49a3f06e3",
   "metadata": {},
   "outputs": [
    {
     "data": {
      "text/plain": [
       "{'name': 'c1',\n",
       " 'width': 960.0,\n",
       " 'height': 540.0,\n",
       " 'R': array([[-0.00243038,  0.99995771, -0.0088693 ],\n",
       "        [ 0.21587739, -0.00813555, -0.97638659],\n",
       "        [-0.97641746, -0.00428767, -0.21584849]]),\n",
       " 'T': array([[  25.6455],\n",
       "        [ 613.03  ],\n",
       "        [3444.08  ]]),\n",
       " 'f': 556.147,\n",
       " 'c': array([480., 270.]),\n",
       " 'k': array([2.72013e-07, 0.00000e+00, 0.00000e+00]),\n",
       " 'p': array([0., 0.])}"
      ]
     },
     "execution_count": 9,
     "metadata": {},
     "output_type": "execute_result"
    }
   ],
   "source": [
    "parse_camera_xml(calibraton_file_path_1)"
   ]
  },
  {
   "cell_type": "code",
   "execution_count": 10,
   "id": "30d3977e-0269-458c-9b8d-c93958885afe",
   "metadata": {},
   "outputs": [],
   "source": [
    "# code based on https://github.com/microsoft/multiview-human-pose-estimation-pytorch/blob/master/lib/multiviews/triangulate.py\n",
    "\n",
    "import numpy as np\n",
    "from pymvg.camera_model import CameraModel\n",
    "from pymvg.multi_camera_system import MultiCameraSystem\n",
    "\n",
    "\n",
    "def unfold_camera_param(camera):\n",
    "    \"\"\"\n",
    "    Camera parameters:\n",
    "        R: 3x3 Camera rotation matrix\n",
    "        T: 3x1 Camera translation parameters\n",
    "        f: (scalar) Camera focal length\n",
    "        c: 2x1 Camera center\n",
    "        k: 3x1 Camera radial distortion coefficients\n",
    "        p: 2x1 Camera tangential distortion coefficients\n",
    "    \"\"\"\n",
    "    R = camera['R']\n",
    "    T = camera['T']\n",
    "    f = camera['f'] \n",
    "    c = camera['c']\n",
    "    k = camera['k']\n",
    "    p = camera['p']\n",
    "    return R, T, f, c, k, p\n",
    "\n",
    "\n",
    "def build_multi_camera_system(cameras):\n",
    "    \"\"\"\n",
    "    Build a multi-camera system with pymvg package for triangulation\n",
    "\n",
    "    Args:\n",
    "        cameras: list of camera parameters\n",
    "    Returns:\n",
    "        cams_system: a multi-cameras system\n",
    "    \"\"\"\n",
    "    pymvg_cameras = []\n",
    "    for camera in cameras:\n",
    "        R, T, f, c, k, p = unfold_camera_param(camera)\n",
    "        camera_matrix = np.array(\n",
    "            [[f, 0, c[0]], [0, f, c[1]], [0, 0, 1]], dtype=float)\n",
    "        distortion = np.array([k[0], k[1], p[0], p[1], k[2]])\n",
    "        distortion.shape = (5,)\n",
    "        M = camera_matrix.dot(np.concatenate((R, T), axis=1))\n",
    "        camera = CameraModel.load_camera_from_M(\n",
    "            M, name=camera['name'], distortion_coefficients=distortion,\n",
    "            width=camera['width'], height=camera['height']\n",
    "        )\n",
    "        pymvg_cameras.append(camera)\n",
    "    return MultiCameraSystem(pymvg_cameras)\n",
    "\n",
    "\n",
    "def triangulate_one_point(camera_system, points_2d_set):\n",
    "    \"\"\"\n",
    "    Triangulate 3d point in world coordinates with multi-views 2d points\n",
    "\n",
    "    Args:\n",
    "        camera_system: pymvg camera system\n",
    "        points_2d_set: list of structure (camera_name, point2d)\n",
    "    Returns:\n",
    "        points_3d: 3x1 point in world coordinates\n",
    "    \"\"\"\n",
    "    points_3d = camera_system.find3d(points_2d_set)\n",
    "    return points_3d\n",
    "\n",
    "\n",
    "def triangulate_poses(cameras_params, poses2d):\n",
    "    \"\"\"\n",
    "    Triangulate 3d points in world coordinates of multi-view 2d poses\n",
    "    by interatively calling $triangulate_one_point$\n",
    "\n",
    "    Args:\n",
    "        camera_params: a list of camera parameters, each corresponding to single camera\n",
    "        poses2d: ndarray of shape nxkx2, len(cameras) == n\n",
    "    Returns:\n",
    "        poses3d: ndarray of shape n/nviews x k x 3\n",
    "    \"\"\"\n",
    "    nviews = poses2d.shape[0]\n",
    "    njoints = poses2d.shape[1]\n",
    "    ninstances = 1 \n",
    "    \n",
    "    poses3d = []\n",
    "    for i in range(ninstances):\n",
    "        camera_system = build_multi_camera_system(cameras_params)\n",
    "\n",
    "        pose3d = np.zeros((njoints, 3))\n",
    "        for k in range(njoints):\n",
    "            points_2d_set = []\n",
    "\n",
    "            for j in range(nviews):\n",
    "                camera_name = 'c{}'.format(j+1)\n",
    "                points_2d = poses2d[i * nviews + j, k, :]\n",
    "                points_2d_set.append((camera_name, points_2d))\n",
    "            pose3d[k, :] = triangulate_one_point(camera_system, points_2d_set).T\n",
    "        poses3d.append(pose3d)\n",
    "    return np.array(poses3d)\n"
   ]
  },
  {
   "cell_type": "code",
   "execution_count": 11,
   "id": "f77bfbf3-d762-4928-9ba0-184d0f1c531e",
   "metadata": {},
   "outputs": [
    {
     "data": {
      "text/plain": [
       "[{'name': 'c1',\n",
       "  'width': 960.0,\n",
       "  'height': 540.0,\n",
       "  'R': array([[ 0.00120615,  0.99999022,  0.0042542 ],\n",
       "         [ 0.21610251,  0.00389302, -0.97636292],\n",
       "         [-0.97636994,  0.00209698, -0.2160957 ]]),\n",
       "  'T': array([[  21.1943],\n",
       "         [ 613.873 ],\n",
       "         [3393.53  ]]),\n",
       "  'f': 546.711,\n",
       "  'c': array([480., 270.]),\n",
       "  'k': array([3.05309e-07, 0.00000e+00, 0.00000e+00]),\n",
       "  'p': array([0., 0.])},\n",
       " {'name': 'c2',\n",
       "  'width': 960.0,\n",
       "  'height': 540.0,\n",
       "  'R': array([[-0.99992544, -0.01190427,  0.002721  ],\n",
       "         [-0.00425836,  0.13109134, -0.99136115],\n",
       "         [ 0.01144473, -0.99129882, -0.13113225]]),\n",
       "  'T': array([[ -62.0904],\n",
       "         [ 618.389 ],\n",
       "         [5207.65  ]]),\n",
       "  'f': 553.247,\n",
       "  'c': array([480., 270.]),\n",
       "  'k': array([6.18469e-07, 0.00000e+00, 0.00000e+00]),\n",
       "  'p': array([0., 0.])},\n",
       " {'name': 'c3',\n",
       "  'width': 960.0,\n",
       "  'height': 540.0,\n",
       "  'R': array([[-0.01314138, -0.99977742,  0.01650498],\n",
       "         [-0.22256503, -0.01316765, -0.97482892],\n",
       "         [ 0.97482927, -0.01648403, -0.22234245]]),\n",
       "  'T': array([[   7.11863],\n",
       "         [ 503.15   ],\n",
       "         [3684.76   ]]),\n",
       "  'f': 536.266,\n",
       "  'c': array([480., 270.]),\n",
       "  'k': array([3.43876e-07, 0.00000e+00, 0.00000e+00]),\n",
       "  'p': array([0., 0.])},\n",
       " {'name': 'c4',\n",
       "  'width': 960.0,\n",
       "  'height': 540.0,\n",
       "  'R': array([[ 0.99995614, -0.00491679, -0.00797109],\n",
       "         [-0.00869044, -0.16984445, -0.98543256],\n",
       "         [ 0.00349131,  0.98545862, -0.16987973]]),\n",
       "  'T': array([[ 151.378],\n",
       "         [ 469.257],\n",
       "         [5216.93 ]]),\n",
       "  'f': 552.302,\n",
       "  'c': array([480., 270.]),\n",
       "  'k': array([5.21837e-07, 0.00000e+00, 0.00000e+00]),\n",
       "  'p': array([0., 0.])}]"
      ]
     },
     "execution_count": 11,
     "metadata": {},
     "output_type": "execute_result"
    }
   ],
   "source": [
    "from utils.video_tools import get_camera_calibration_files, get_video_files\n",
    "\n",
    "sequence_key = \"p1s1\"\n",
    "\n",
    "camera_files_paths = get_camera_calibration_files(sequence_key)\n",
    "cameras_params = [parse_camera_xml(camera_path) for camera_path in camera_files_paths]\n",
    "cameras_params"
   ]
  },
  {
   "cell_type": "code",
   "execution_count": 12,
   "id": "20d0ba7f-7991-4120-a42e-ff97ff4016b7",
   "metadata": {},
   "outputs": [
    {
     "data": {
      "text/plain": [
       "<pymvg.multi_camera_system.MultiCameraSystem at 0x1afc4da7160>"
      ]
     },
     "execution_count": 12,
     "metadata": {},
     "output_type": "execute_result"
    }
   ],
   "source": [
    "mcs = build_multi_camera_system(cameras_params)\n",
    "mcs"
   ]
  },
  {
   "cell_type": "code",
   "execution_count": 13,
   "id": "6ec4d488-2184-47a4-837d-946a5ae78b3b",
   "metadata": {},
   "outputs": [
    {
     "data": {
      "image/png": "[encoded data removed]",
      "text/plain": [
       "<Figure size 640x480 with 1 Axes>"
      ]
     },
     "metadata": {},
     "output_type": "display_data"
    }
   ],
   "source": [
    "from pymvg.plot_utils import plot_system\n",
    "import matplotlib.pyplot as plt\n",
    "from mpl_toolkits.mplot3d import Axes3D\n",
    "\n",
    "fig = plt.figure()\n",
    "ax = fig.add_subplot(1,1,1, projection='3d')\n",
    "plot_system( ax, mcs )\n",
    "ax.set_xlabel('x'); ax.set_ylabel('y'); ax.set_zlabel('z')\n",
    "ax.set_xlim(-4000, 4000); ax.set_ylim(-4000, 4000); ax.set_zlim(0, 2000)\n",
    "plt.show()"
   ]
  },
  {
   "cell_type": "code",
   "execution_count": 14,
   "id": "92d8dc3f-3091-452b-afc8-b960058b63d9",
   "metadata": {},
   "outputs": [
    {
     "data": {
      "text/plain": [
       "['./gait3d/Sequences/p1s1/Images/c1_0195.avi',\n",
       " './gait3d/Sequences/p1s1/Images/c2_0195.avi',\n",
       " './gait3d/Sequences/p1s1/Images/c3_0195.avi',\n",
       " './gait3d/Sequences/p1s1/Images/c4_0195.avi']"
      ]
     },
     "execution_count": 14,
     "metadata": {},
     "output_type": "execute_result"
    }
   ],
   "source": [
    "video_files = get_video_files(sequence_key)\n",
    "video_files"
   ]
  },
  {
   "cell_type": "code",
   "execution_count": 15,
   "id": "929156d2-dacb-45ba-9efd-4ec915f2e39a",
   "metadata": {},
   "outputs": [
    {
     "name": "stderr",
     "output_type": "stream",
     "text": [
      "C:\\Users\\Miko7\\Studia\\magisterka\\gait-features-identification\\venv\\lib\\site-packages\\google\\protobuf\\symbol_database.py:55: UserWarning: SymbolDatabase.GetPrototype() is deprecated. Please use message_factory.GetMessageClass() instead. SymbolDatabase.GetPrototype() will be removed soon.\n",
      "  warnings.warn('SymbolDatabase.GetPrototype() is deprecated. Please '\n"
     ]
    },
    {
     "name": "stdout",
     "output_type": "stream",
     "text": [
      "[Frame 0] Landmarks not found!\n",
      "[Frame 40] Landmarks not found!\n",
      "[Frame 80] Landmarks not found!\n",
      "[Frame 120] Landmarks not found!\n",
      "[Frame 160] Landmarks not found!\n",
      "[Frame 200] Landmarks not found!\n",
      "[Frame 240] Landmarks not found!\n",
      "[Frame 280] Landmarks not found!\n",
      "[Frame 320] Landmarks not found!\n",
      "[Frame 360] Landmarks not found!\n",
      "[Frame 400] Landmarks not found!\n",
      "[Frame 440] Landmarks not found!\n",
      "[Frame 480] Landmarks not found!\n",
      "[Frame 520] Landmarks not found!\n",
      "[Frame 560] Landmarks not found!\n",
      "[Frame 600] Landmarks not found!\n",
      "[Frame 640] Landmarks not found!\n",
      "[Frame 680] Landmarks not found!\n",
      "[Frame 720] Landmarks not found!\n",
      "[Frame 760] Landmarks not found!\n",
      "[Frame 800] Landmarks not found!\n",
      "[Frame 840] Landmarks not found!\n",
      "[Frame 880] Landmarks not found!\n",
      "[Frame 920] Landmarks not found!\n",
      "[Frame 960] Landmarks not found!\n",
      "[Frame 1000] Landmarks not found!\n",
      "[Frame 1040] Landmarks not found!\n",
      "[Frame 1080] Landmarks not found!\n",
      "[Frame 1120] Landmarks not found!\n",
      "[Frame 1160] Landmarks not found!\n",
      "[Frame 1200] Landmarks not found!\n",
      "[Frame 1240] Landmarks not found!\n",
      "[Frame 1280] Landmarks not found!\n",
      "[Frame 1320] Landmarks not found!\n",
      "[Frame 1360] Landmarks not found!\n",
      "[Frame 1400] Landmarks not found!\n",
      "[Frame 1440] Landmarks not found!\n",
      "[Frame 1480] Landmarks not found!\n",
      "[Frame 1520] Landmarks not found!\n",
      "[Frame 1560] Landmarks not found!\n",
      "[Frame 1600] Landmarks not found!\n",
      "[Frame 1640] Landmarks not found!\n",
      "[Frame 1680] Landmarks not found!\n",
      "[Frame 1720] Landmarks not found!\n",
      "[Frame 1760] Landmarks not found!\n",
      "[Frame 1800] Landmarks not found!\n",
      "[Frame 1840] Landmarks not found!\n",
      "[Frame 1880] Landmarks not found!\n",
      "[Frame 1920] Landmarks not found!\n",
      "[Frame 1960] Landmarks not found!\n",
      "[Frame 2000] Landmarks not found!\n",
      "[Frame 2040] Landmarks not found!\n",
      "[Frame 2080] Landmarks not found!\n",
      "[Frame 2120] Landmarks not found!\n",
      "[Frame 2160] Landmarks not found!\n",
      "[Frame 2200] Landmarks not found!\n",
      "[Frame 2240] Landmarks not found!\n",
      "[Frame 2280] Landmarks not found!\n",
      "[Frame 2320] Landmarks not found!\n",
      "[Frame 2360] Landmarks not found!\n",
      "[Frame 2400] Landmarks not found!\n",
      "[Frame 2440] Landmarks not found!\n",
      "[Frame 2480] Landmarks not found!\n",
      "[Frame 2520] Landmarks not found!\n",
      "[Frame 2560] Landmarks not found!\n",
      "[Frame 2600] Landmarks not found!\n",
      "[Frame 2640] Landmarks not found!\n",
      "[Frame 2680] Landmarks not found!\n",
      "[Frame 2720] Landmarks not found!\n",
      "[Frame 2760] Landmarks not found!\n",
      "[Frame 2800] Landmarks not found!\n",
      "[Frame 2840] Landmarks not found!\n",
      "[Frame 2880] Landmarks not found!\n",
      "[Frame 2920] Landmarks not found!\n"
     ]
    }
   ],
   "source": [
    "from scripts.frame_iterator import video_frame_iterator\n",
    "from utils.mediapipe_estimator import MediaPipeEstimator\n",
    "\n",
    "frames_iterator = [video_frame_iterator(avi_file) for avi_file in video_files]\n",
    "mp_estimators = [MediaPipeEstimator() for _ in range(4)]\n",
    "predicted = [{} for _ in range(4)]\n",
    "MAX_FRAMES = 80\n",
    "\n",
    "for frame_i in range(MAX_FRAMES):\n",
    "    for iter_ind, (f_iterator, mp_estimator) in enumerate(zip(frames_iterator, mp_estimators)):\n",
    "        frame_ts, frame = next(f_iterator)\n",
    "        estimations = mp_estimator.predict_for_frame(frame_ts, frame)\n",
    "        predicted[iter_ind][frame_i] = estimations"
   ]
  },
  {
   "cell_type": "code",
   "execution_count": 16,
   "id": "3334c2ff-bec4-4e5d-a907-24d6de4ca83b",
   "metadata": {},
   "outputs": [
    {
     "data": {
      "text/plain": [
       "[(873, 128),\n",
       " (879, 123),\n",
       " (880, 123),\n",
       " (882, 123),\n",
       " (877, 123),\n",
       " (878, 123),\n",
       " (878, 123),\n",
       " (891, 125),\n",
       " (885, 125),\n",
       " (878, 135),\n",
       " (876, 135),\n",
       " (915, 159),\n",
       " (873, 156),\n",
       " (909, 204),\n",
       " (870, 198),\n",
       " (903, 243),\n",
       " (864, 228),\n",
       " (904, 255),\n",
       " (861, 238),\n",
       " (898, 254),\n",
       " (860, 237),\n",
       " (897, 249),\n",
       " (862, 235),\n",
       " (890, 240),\n",
       " (867, 236),\n",
       " (889, 297),\n",
       " (868, 291),\n",
       " (887, 350),\n",
       " (864, 343),\n",
       " (891, 358),\n",
       " (869, 352),\n",
       " (860, 363),\n",
       " (841, 353)]"
      ]
     },
     "execution_count": 16,
     "metadata": {},
     "output_type": "execute_result"
    }
   ],
   "source": [
    "predicted[0][0]"
   ]
  },
  {
   "cell_type": "code",
   "execution_count": 17,
   "id": "39ab7883-d91c-468d-a693-8b731e541745",
   "metadata": {},
   "outputs": [
    {
     "data": {
      "text/plain": [
       "[]"
      ]
     },
     "execution_count": 17,
     "metadata": {},
     "output_type": "execute_result"
    }
   ],
   "source": [
    "predicted[3][0]"
   ]
  },
  {
   "cell_type": "code",
   "execution_count": 18,
   "id": "035efae6-4373-4824-8a22-0d98cb17758d",
   "metadata": {},
   "outputs": [
    {
     "data": {
      "text/plain": [
       "(4, 33, 2)"
      ]
     },
     "execution_count": 18,
     "metadata": {},
     "output_type": "execute_result"
    }
   ],
   "source": [
    "sample_2d_points = np.array([predicted[i][75] for i in [0,1,2,3]])\n",
    "sample_2d_points.shape"
   ]
  },
  {
   "cell_type": "code",
   "execution_count": 19,
   "id": "313634bc-2d53-4165-919f-b102470f2cd3",
   "metadata": {},
   "outputs": [
    {
     "data": {
      "text/plain": [
       "array([[[-159.31706797, -650.44292526, 1481.85119854],\n",
       "        [-146.04884098, -634.40057422, 1508.69374839],\n",
       "        [-137.49151677, -628.43584458, 1510.06862888],\n",
       "        [-128.62958512, -622.52095759, 1511.43703618],\n",
       "        [-172.04704529, -633.88156345, 1511.34283568],\n",
       "        [-180.1628521 , -630.74783754, 1514.18483628],\n",
       "        [-188.83279491, -624.73702902, 1514.17511216],\n",
       "        [-106.52958889, -578.68266284, 1505.77101611],\n",
       "        [-201.81655141, -574.89091021, 1502.60678479],\n",
       "        [-146.91860931, -628.52406458, 1451.12221626],\n",
       "        [-173.03709117, -628.03725671, 1453.79775611],\n",
       "        [  -4.3887096 , -492.35989689, 1320.58062959],\n",
       "        [-317.05551569, -505.58274837, 1321.37313465],\n",
       "        [  10.00278094, -469.8444801 , 1042.62495115],\n",
       "        [-342.59595174, -491.15410989, 1042.76340391],\n",
       "        [  26.38448836, -524.02960907,  803.83553074],\n",
       "        [-360.03893977, -543.97698152,  797.42490326],\n",
       "        [  29.80734714, -514.24462438,  735.46239631],\n",
       "        [-369.04245416, -540.91058191,  731.75401115],\n",
       "        [  27.31706184, -538.23057849,  735.71971965],\n",
       "        [-356.83920591, -565.9142878 ,  725.8406895 ],\n",
       "        [  14.84375434, -543.62311963,  760.03076099],\n",
       "        [-342.98363081, -568.66823334,  750.70500644],\n",
       "        [ -77.15760999, -510.74607907,  831.74717897],\n",
       "        [-248.74523374, -486.06496068,  831.23134151],\n",
       "        [ -59.58417366, -665.54322133,  468.87018938],\n",
       "        [-219.10606165, -508.06886206,  444.10966496],\n",
       "        [ -62.3907833 , -570.11270871,   96.63751786],\n",
       "        [-198.13462509, -439.68404375,   66.6520822 ],\n",
       "        [ -79.77587635, -521.87555154,   42.61623228],\n",
       "        [-188.2313152 , -410.93310125,    7.97624037],\n",
       "        [ -25.05586868, -724.44267595,    7.68165027],\n",
       "        [-176.99090698, -628.24296254,    9.43221889]]])"
      ]
     },
     "execution_count": 19,
     "metadata": {},
     "output_type": "execute_result"
    }
   ],
   "source": [
    "sample_result = triangulate_poses(cameras_params, sample_2d_points)\n",
    "sample_result"
   ]
  },
  {
   "cell_type": "code",
   "execution_count": 20,
   "id": "723021b3-e788-4bda-8f04-29206dcecfa7",
   "metadata": {},
   "outputs": [
    {
     "data": {
      "text/plain": [
       "array([-159.31706797, -146.04884098, -137.49151677, -128.62958512,\n",
       "       -172.04704529, -180.1628521 , -188.83279491, -106.52958889,\n",
       "       -201.81655141, -146.91860931, -173.03709117,   -4.3887096 ,\n",
       "       -317.05551569,   10.00278094, -342.59595174,   26.38448836,\n",
       "       -360.03893977,   29.80734714, -369.04245416,   27.31706184,\n",
       "       -356.83920591,   14.84375434, -342.98363081,  -77.15760999,\n",
       "       -248.74523374,  -59.58417366, -219.10606165,  -62.3907833 ,\n",
       "       -198.13462509,  -79.77587635, -188.2313152 ,  -25.05586868,\n",
       "       -176.99090698])"
      ]
     },
     "execution_count": 20,
     "metadata": {},
     "output_type": "execute_result"
    }
   ],
   "source": [
    "x = sample_result[0, :, 0]\n",
    "y = sample_result[0, :, 1]\n",
    "z = sample_result[0, :, 2]\n",
    "x"
   ]
  },
  {
   "cell_type": "code",
   "execution_count": 21,
   "id": "c5839c33-09ce-46bf-aab6-65720be2ad62",
   "metadata": {},
   "outputs": [
    {
     "data": {
      "text/plain": [
       "array([-650.44292526, -634.40057422, -628.43584458, -622.52095759,\n",
       "       -633.88156345, -630.74783754, -624.73702902, -578.68266284,\n",
       "       -574.89091021, -628.52406458, -628.03725671, -492.35989689,\n",
       "       -505.58274837, -469.8444801 , -491.15410989, -524.02960907,\n",
       "       -543.97698152, -514.24462438, -540.91058191, -538.23057849,\n",
       "       -565.9142878 , -543.62311963, -568.66823334, -510.74607907,\n",
       "       -486.06496068, -665.54322133, -508.06886206, -570.11270871,\n",
       "       -439.68404375, -521.87555154, -410.93310125, -724.44267595,\n",
       "       -628.24296254])"
      ]
     },
     "execution_count": 21,
     "metadata": {},
     "output_type": "execute_result"
    }
   ],
   "source": [
    "y"
   ]
  },
  {
   "cell_type": "code",
   "execution_count": 22,
   "id": "2100873f-b4be-46b1-9ebe-a5cf56c6d3d7",
   "metadata": {},
   "outputs": [
    {
     "data": {
      "text/plain": [
       "array([1481.85119854, 1508.69374839, 1510.06862888, 1511.43703618,\n",
       "       1511.34283568, 1514.18483628, 1514.17511216, 1505.77101611,\n",
       "       1502.60678479, 1451.12221626, 1453.79775611, 1320.58062959,\n",
       "       1321.37313465, 1042.62495115, 1042.76340391,  803.83553074,\n",
       "        797.42490326,  735.46239631,  731.75401115,  735.71971965,\n",
       "        725.8406895 ,  760.03076099,  750.70500644,  831.74717897,\n",
       "        831.23134151,  468.87018938,  444.10966496,   96.63751786,\n",
       "         66.6520822 ,   42.61623228,    7.97624037,    7.68165027,\n",
       "          9.43221889])"
      ]
     },
     "execution_count": 22,
     "metadata": {},
     "output_type": "execute_result"
    }
   ],
   "source": [
    "z"
   ]
  },
  {
   "cell_type": "code",
   "execution_count": 23,
   "id": "3b500d73-e029-436f-9004-95db14808a3d",
   "metadata": {},
   "outputs": [
    {
     "name": "stdout",
     "output_type": "stream",
     "text": [
      "{0: 'NOSE', 1: 'LEFT_EYE_INNER', 2: 'LEFT_EYE', 3: 'LEFT_EYE_OUTER', 4: 'RIGHT_EYE_INNER', 5: 'RIGHT_EYE', 6: 'RIGHT_EYE_OUTER', 7: 'LEFT_EAR', 8: 'RIGHT_EAR', 9: 'MOUTH_LEFT', 10: 'MOUTH_RIGHT', 11: 'LEFT_SHOULDER', 12: 'RIGHT_SHOULDER', 13: 'LEFT_ELBOW', 14: 'RIGHT_ELBOW', 15: 'LEFT_WRIST', 16: 'RIGHT_WRIST', 17: 'LEFT_PINKY', 18: 'RIGHT_PINKY', 19: 'LEFT_INDEX', 20: 'RIGHT_INDEX', 21: 'LEFT_THUMB', 22: 'RIGHT_THUMB', 23: 'LEFT_HIP', 24: 'RIGHT_HIP', 25: 'LEFT_KNEE', 26: 'RIGHT_KNEE', 27: 'LEFT_ANKLE', 28: 'RIGHT_ANKLE', 29: 'LEFT_HEEL', 30: 'RIGHT_HEEL', 31: 'LEFT_FOOT_INDEX', 32: 'RIGHT_FOOT_INDEX'}\n",
      "[(15, 21), (16, 20), (18, 20), (3, 7), (14, 16), (23, 25), (28, 30), (11, 23), (27, 31), (6, 8), (15, 17), (24, 26), (16, 22), (4, 5), (5, 6), (29, 31), (12, 24), (23, 24), (0, 1), (9, 10), (1, 2), (0, 4), (11, 13), (30, 32), (28, 32), (15, 19), (16, 18), (25, 27), (26, 28), (12, 14), (17, 19), (2, 3), (11, 12), (27, 29), (13, 15)]\n"
     ]
    }
   ],
   "source": [
    "import mediapipe as mp\n",
    "mp_pose = mp.solutions.pose\n",
    "landmarks_num = 33\n",
    "\n",
    "pose_landmark_names = {i: mp_pose.PoseLandmark(i).name for i in range(landmarks_num)}\n",
    "connections = list(mp_pose.POSE_CONNECTIONS)\n",
    "\n",
    "print(pose_landmark_names)\n",
    "print(connections)"
   ]
  },
  {
   "cell_type": "code",
   "execution_count": 38,
   "id": "f66cb31b-b4b9-4632-be21-f832dfaff432",
   "metadata": {},
   "outputs": [],
   "source": [
    "import plotly.graph_objects as go\n",
    "import plotly.io as pio\n",
    "\n",
    "pio.renderers.default = 'iframe'\n",
    "\n",
    "labels = list(pose_landmark_names.values())\n",
    "\n",
    "def show_3d_pose(x, y, z, labels, connections):\n",
    "    x_lines = []\n",
    "    y_lines = []\n",
    "    z_lines = []\n",
    "    \n",
    "    for i, j in connections:\n",
    "        x_lines += [x[i], x[j], None]\n",
    "        y_lines += [y[i], y[j], None]\n",
    "        z_lines += [z[i], z[j], None]\n",
    "        \n",
    "    fig = go.Figure(\n",
    "        data=[\n",
    "            go.Scatter3d(\n",
    "                x=x, y=y, z=z,\n",
    "                mode='markers',\n",
    "                marker=dict(size=3, color='blue'),\n",
    "                text=labels,\n",
    "                hoverinfo='text',\n",
    "                name='Joints'),\n",
    "            go.Scatter3d(\n",
    "                x=x_lines, y=y_lines, z=z_lines,\n",
    "                mode='lines',\n",
    "                line=dict(color='royalblue', width=2),\n",
    "                name='Bones'),\n",
    "            ]\n",
    "    )\n",
    "    \n",
    "    fig.update_layout(scene=dict(\n",
    "        xaxis_title='X',\n",
    "        yaxis_title='Y',\n",
    "        zaxis_title='Z',\n",
    "        aspectmode='cube', \n",
    "        xaxis=dict(range=[-800, 800]),\n",
    "        yaxis=dict(range=[-800, 800]),\n",
    "        zaxis=dict(range=[0, 1600]),\n",
    "        # aspectmode='manual',\n",
    "        # aspectratio=dict(x=0, y=0, z=0)\n",
    "    ),\n",
    "    title='3D joints plot (triangulation with pymvg)',\n",
    "    width=800,\n",
    "    height=800\n",
    "    )\n",
    "    \n",
    "    fig.show()"
   ]
  },
  {
   "cell_type": "code",
   "execution_count": 39,
   "id": "0897c9b6-fc05-429b-b636-9f4c4e7df47b",
   "metadata": {},
   "outputs": [
    {
     "data": {
      "text/html": [
       "<iframe\n",
       "    scrolling=\"no\"\n",
       "    width=\"820px\"\n",
       "    height=\"820\"\n",
       "    src=\"iframe_figures/figure_39.html\"\n",
       "    frameborder=\"0\"\n",
       "    allowfullscreen\n",
       "></iframe>\n"
      ]
     },
     "metadata": {},
     "output_type": "display_data"
    }
   ],
   "source": [
    "show_3d_pose(x, y, z, labels, connections)"
   ]
  },
  {
   "cell_type": "code",
   "execution_count": 40,
   "id": "b57de4b7-2179-4c36-abfa-6cb4d5fedb60",
   "metadata": {},
   "outputs": [
    {
     "name": "stdout",
     "output_type": "stream",
     "text": [
      "views_with_points = [0, 1, 2]\n"
     ]
    },
    {
     "data": {
      "text/plain": [
       "(3, 33, 2)"
      ]
     },
     "execution_count": 40,
     "metadata": {},
     "output_type": "execute_result"
    }
   ],
   "source": [
    "frame_num = 10\n",
    "\n",
    "views_with_points = []\n",
    "for i in range(4):\n",
    "    if predicted[i][frame_num]:\n",
    "        views_with_points.append(i)\n",
    "\n",
    "print(f\"{views_with_points = }\")\n",
    "sample_camera_params = [cameras_params[i] for i in views_with_points]\n",
    "\n",
    "sample_2d_points = np.array([predicted[i][60] for i in views_with_points])\n",
    "sample_2d_points.shape"
   ]
  },
  {
   "cell_type": "code",
   "execution_count": 41,
   "id": "947d550d-af28-40a0-a0fb-16d38382bb5d",
   "metadata": {},
   "outputs": [
    {
     "data": {
      "text/plain": [
       "[{'name': 'c1',\n",
       "  'width': 960.0,\n",
       "  'height': 540.0,\n",
       "  'R': array([[ 0.00120615,  0.99999022,  0.0042542 ],\n",
       "         [ 0.21610251,  0.00389302, -0.97636292],\n",
       "         [-0.97636994,  0.00209698, -0.2160957 ]]),\n",
       "  'T': array([[  21.1943],\n",
       "         [ 613.873 ],\n",
       "         [3393.53  ]]),\n",
       "  'f': 546.711,\n",
       "  'c': array([480., 270.]),\n",
       "  'k': array([3.05309e-07, 0.00000e+00, 0.00000e+00]),\n",
       "  'p': array([0., 0.])},\n",
       " {'name': 'c2',\n",
       "  'width': 960.0,\n",
       "  'height': 540.0,\n",
       "  'R': array([[-0.99992544, -0.01190427,  0.002721  ],\n",
       "         [-0.00425836,  0.13109134, -0.99136115],\n",
       "         [ 0.01144473, -0.99129882, -0.13113225]]),\n",
       "  'T': array([[ -62.0904],\n",
       "         [ 618.389 ],\n",
       "         [5207.65  ]]),\n",
       "  'f': 553.247,\n",
       "  'c': array([480., 270.]),\n",
       "  'k': array([6.18469e-07, 0.00000e+00, 0.00000e+00]),\n",
       "  'p': array([0., 0.])},\n",
       " {'name': 'c3',\n",
       "  'width': 960.0,\n",
       "  'height': 540.0,\n",
       "  'R': array([[-0.01314138, -0.99977742,  0.01650498],\n",
       "         [-0.22256503, -0.01316765, -0.97482892],\n",
       "         [ 0.97482927, -0.01648403, -0.22234245]]),\n",
       "  'T': array([[   7.11863],\n",
       "         [ 503.15   ],\n",
       "         [3684.76   ]]),\n",
       "  'f': 536.266,\n",
       "  'c': array([480., 270.]),\n",
       "  'k': array([3.43876e-07, 0.00000e+00, 0.00000e+00]),\n",
       "  'p': array([0., 0.])}]"
      ]
     },
     "execution_count": 41,
     "metadata": {},
     "output_type": "execute_result"
    }
   ],
   "source": [
    "sample_camera_params"
   ]
  },
  {
   "cell_type": "code",
   "execution_count": 42,
   "id": "5cae2942-a84e-4c17-b1bd-33d8bc5c723c",
   "metadata": {},
   "outputs": [
    {
     "data": {
      "text/plain": [
       "array([[[-1.39183091e+02,  5.95445359e+01,  1.48149726e+03],\n",
       "        [-1.30123990e+02,  7.71910687e+01,  1.51273867e+03],\n",
       "        [-1.12860927e+02,  8.58046247e+01,  1.51444373e+03],\n",
       "        [-1.04068608e+02,  9.15999586e+01,  1.51433530e+03],\n",
       "        [-1.56688968e+02,  7.75856110e+01,  1.51272448e+03],\n",
       "        [-1.65461522e+02,  8.35504595e+01,  1.51635862e+03],\n",
       "        [-1.74238969e+02,  8.95986286e+01,  1.51623499e+03],\n",
       "        [-9.59257644e+01,  1.35715649e+02,  1.50379885e+03],\n",
       "        [-1.82743165e+02,  1.39800453e+02,  1.50557310e+03],\n",
       "        [-1.30579595e+02,  8.31520366e+01,  1.45128029e+03],\n",
       "        [-1.57378662e+02,  8.05431171e+01,  1.45128962e+03],\n",
       "        [ 5.58652778e+00,  2.07323200e+02,  1.31069463e+03],\n",
       "        [-2.95843515e+02,  2.20125575e+02,  1.31445914e+03],\n",
       "        [ 3.14106769e+01,  1.84377911e+02,  1.02939829e+03],\n",
       "        [-3.25471391e+02,  2.42518264e+02,  1.03948503e+03],\n",
       "        [ 4.28603021e+01,  6.83567864e+01,  8.20713468e+02],\n",
       "        [-3.74703998e+02,  1.62050715e+02,  8.55773883e+02],\n",
       "        [ 5.23056502e+01,  4.95480221e+01,  7.56065384e+02],\n",
       "        [-3.99081973e+02,  1.50468982e+02,  8.16436148e+02],\n",
       "        [ 4.46465115e+01,  1.19461222e+01,  7.64096985e+02],\n",
       "        [-3.86567866e+02,  1.19425630e+02,  8.22094622e+02],\n",
       "        [ 2.44279560e+01,  4.37713866e+01,  7.84073213e+02],\n",
       "        [-3.62287882e+02,  1.22368935e+02,  8.33783608e+02],\n",
       "        [-7.63649960e+01,  2.47013122e+02,  8.24394726e+02],\n",
       "        [-2.37446130e+02,  2.26372736e+02,  8.29197587e+02],\n",
       "        [-9.99745800e+01,  2.66806808e+02,  4.42741896e+02],\n",
       "        [-2.63033606e+02,  5.13476390e+01,  4.62444524e+02],\n",
       "        [-1.41898457e+02,  3.31584130e+02,  6.36341364e+01],\n",
       "        [-2.73238252e+02,  6.57222941e+01,  7.62461713e+01],\n",
       "        [-1.51985686e+02,  3.70487505e+02,  1.23126827e+00],\n",
       "        [-2.60620863e+02,  9.65655593e+01,  1.39444805e+01],\n",
       "        [-1.33434336e+02,  1.56903368e+02, -3.30949452e+00],\n",
       "        [-3.09938479e+02, -8.66875536e+01,  2.18212631e+01]]])"
      ]
     },
     "execution_count": 42,
     "metadata": {},
     "output_type": "execute_result"
    }
   ],
   "source": [
    "sample_result = triangulate_poses(cameras_params, sample_2d_points)\n",
    "sample_result"
   ]
  },
  {
   "cell_type": "code",
   "execution_count": 43,
   "id": "fc8c2446-1481-483a-8bf3-b86b4a3117f8",
   "metadata": {},
   "outputs": [
    {
     "data": {
      "text/html": [
       "<iframe\n",
       "    scrolling=\"no\"\n",
       "    width=\"820px\"\n",
       "    height=\"820\"\n",
       "    src=\"iframe_figures/figure_43.html\"\n",
       "    frameborder=\"0\"\n",
       "    allowfullscreen\n",
       "></iframe>\n"
      ]
     },
     "metadata": {},
     "output_type": "display_data"
    }
   ],
   "source": [
    "x = sample_result[0, :, 0]\n",
    "y = sample_result[0, :, 1]\n",
    "z = sample_result[0, :, 2]\n",
    "\n",
    "show_3d_pose(x, y, z, labels, connections)"
   ]
  },
  {
   "cell_type": "code",
   "execution_count": null,
   "id": "affa4175-4684-442b-97e3-052ba04679ec",
   "metadata": {},
   "outputs": [],
   "source": []
  }
 ],
 "metadata": {
  "kernelspec": {
   "display_name": "Python 3 (ipykernel)",
   "language": "python",
   "name": "python3"
  },
  "language_info": {
   "codemirror_mode": {
    "name": "ipython",
    "version": 3
   },
   "file_extension": ".py",
   "mimetype": "text/x-python",
   "name": "python",
   "nbconvert_exporter": "python",
   "pygments_lexer": "ipython3",
   "version": "3.10.7"
  }
 },
 "nbformat": 4,
 "nbformat_minor": 5
}
