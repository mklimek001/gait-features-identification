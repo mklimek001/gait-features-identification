{
 "cells": [
  {
   "cell_type": "code",
   "execution_count": 4,
   "id": "801bdd55-3303-4442-b2c8-184874ffd071",
   "metadata": {},
   "outputs": [
    {
     "name": "stdout",
     "output_type": "stream",
     "text": [
      "gait3d\\Sequences\\p7s1\\Calibration\\c1.xml\n",
      "gait3d\\Sequences\\p7s1\\Calibration\\c2.xml\n"
     ]
    }
   ],
   "source": [
    "sequence_key = 'p7s1'\n",
    "camera_number = 1\n",
    "calibraton_file_path_base = \"gait3d\\\\Sequences\\\\{sequence_key}\\\\Calibration\\\\c{camera_number}.xml\"\n",
    "calibraton_file_path_1 = calibraton_file_path_base.format(sequence_key=sequence_key, camera_number=1)\n",
    "print(calibraton_file_path_1)\n",
    "\n",
    "calibraton_file_path_2 = calibraton_file_path_base.format(sequence_key=sequence_key, camera_number=2)\n",
    "print(calibraton_file_path_2)"
   ]
  },
  {
   "cell_type": "code",
   "execution_count": 5,
   "id": "5596d7e3-7161-48cf-93b9-6faa28f47b69",
   "metadata": {},
   "outputs": [
    {
     "name": "stdout",
     "output_type": "stream",
     "text": [
      "<?xml version=\"1.0\" encoding=\"UTF-8\"?>\n",
      "<Camera name=\"c1\">\n",
      "\t<Geometry width=\"960\" height=\"540\" ncx=\"9.600000e+002\" nfx=\"9.600000e+002\" dx=\"1.000000e+000\" dy=\"1.000000e+000\" dpx=\"1.000000e+000\" dpy=\"1.000000e+000\"/>\n",
      "\t<Intrinsic focal=\"5.561470e+002\" kappa1=\"2.720130e-007\" cx=\"4.800000e+002\" cy=\"2.700000e+002\" sx=\"1.001630e+000\"/>\n",
      "\t<Extrinsic tx=\"2.564550e+001\" ty=\"6.130300e+002\" tz=\"3.444080e+003\" rx=\"-3.121731e+000\" ry=\"1.353192e+000\" rz=\"1.582054e+000\"/>\n",
      "</Camera>\n",
      "\n"
     ]
    }
   ],
   "source": [
    "with open(calibraton_file_path_1) as file:\n",
    "    xml_calibration_config = file.read()\n",
    "    print(xml_calibration_config)"
   ]
  },
  {
   "cell_type": "code",
   "execution_count": null,
   "id": "4a68f417-65f4-4159-bde5-eff10161e799",
   "metadata": {},
   "outputs": [],
   "source": [
    "import numpy as np\n",
    "import cv2\n",
    "from xml.etree import ElementTree as ET\n",
    "\n",
    "def parse_camera_params(xml_file):\n",
    "    tree = ET.parse(xml_file)\n",
    "    root = tree.getroot()\n",
    "    intrinsic = root.find(\"Intrinsic\")\n",
    "    extrinsic = root.find(\"Extrinsic\")\n",
    "    \n",
    "    focal = float(intrinsic.get(\"focal\"))\n",
    "    cx = float(intrinsic.get(\"cx\"))\n",
    "    cy = float(intrinsic.get(\"cy\"))\n",
    "    sx = float(intrinsic.get(\"sx\"))\n",
    "    \n",
    "    K = np.array([[focal * sx, 0, cx],\n",
    "                  [0, focal, cy],\n",
    "                  [0, 0, 1]])\n",
    "    \n",
    "    tx = float(extrinsic.get(\"tx\"))\n",
    "    ty = float(extrinsic.get(\"ty\"))\n",
    "    tz = float(extrinsic.get(\"tz\"))\n",
    "    rx = float(extrinsic.get(\"rx\"))\n",
    "    ry = float(extrinsic.get(\"ry\"))\n",
    "    rz = float(extrinsic.get(\"rz\"))\n",
    "    \n",
    "    R, _ = cv2.Rodrigues(np.array([rx, ry, rz]))\n",
    "    t = np.array([[tx], [ty], [tz]])\n",
    "\n",
    "    return K, R, t\n",
    "\n",
    "def triangulate_points(K1, R1, t1, K2, R2, t2, points1, points2):\n",
    "    P1 = K1 @ np.hstack((R1, t1))\n",
    "    P2 = K2 @ np.hstack((R2, t2))\n",
    "    \n",
    "    points1_h = cv2.convertPointsToHomogeneous(points1).reshape(-1, 3).T\n",
    "    points2_h = cv2.convertPointsToHomogeneous(points2).reshape(-1, 3).T\n",
    "    print(f\"{P1 = } \\n {points1_h = }\")\n",
    "    print(f\"{P2 = } \\n {points2_h = }\")\n",
    "    \n",
    "    points_4d = cv2.triangulatePoints(P1, P2, points1_h[:2], points2_h[:2])\n",
    "    print(f\"{points_4d= }\")\n",
    "    points_3d = points_4d[:3] / points_4d[3]\n",
    "    return points_3d.T\n",
    "\n",
    "K1, R1, t1 = parse_camera_params(calibraton_file_path_1)\n",
    "K2, R2, t2 = parse_camera_params(calibraton_file_path_2)\n",
    "points1 = np.array([[1000, 1000], [960, 540], [480, 270]])  # replace with proper mediapipe points\n",
    "points2 = np.array([[1000, 1000], [960, 540], [480, 270]])  # random poitns\n",
    "\n",
    "points_3d = triangulate_points(K1, R1, t1, K2, R2, t2, points1, points2)\n",
    "\n",
    "print(\"Triangulated 3D points:\")\n",
    "for point in points_3d:\n",
    "    print(tuple(point))"
   ]
  },
  {
   "cell_type": "code",
   "execution_count": 84,
   "id": "d0cee536-30eb-4900-880c-c7a77e06228a",
   "metadata": {},
   "outputs": [],
   "source": [
    "from utils.mediapipe_estimator import MediaPipeEstimator\n",
    "from scripts.frame_iterator import video_frame_iterator\n",
    "from scripts.parsers import parse_sequences\n",
    "from math import inf\n",
    "import numpy as np\n",
    "import cv2\n",
    "from xml.etree import ElementTree as ET\n",
    "\n",
    "def parse_camera_params(xml_file):\n",
    "    tree = ET.parse(xml_file)\n",
    "    root = tree.getroot()\n",
    "    intrinsic = root.find(\"Intrinsic\")\n",
    "    extrinsic = root.find(\"Extrinsic\")\n",
    "    \n",
    "    focal = float(intrinsic.get(\"focal\"))\n",
    "    cx = float(intrinsic.get(\"cx\"))\n",
    "    cy = float(intrinsic.get(\"cy\"))\n",
    "    sx = float(intrinsic.get(\"sx\"))\n",
    "    \n",
    "    K = np.array([[focal * sx, 0, cx],\n",
    "                  [0, focal, cy],\n",
    "                  [0, 0, 1]], dtype=np.float32)\n",
    "    \n",
    "    tx = float(extrinsic.get(\"tx\"))\n",
    "    ty = float(extrinsic.get(\"ty\"))\n",
    "    tz = float(extrinsic.get(\"tz\"))\n",
    "    rx = float(extrinsic.get(\"rx\"))\n",
    "    ry = float(extrinsic.get(\"ry\"))\n",
    "    rz = float(extrinsic.get(\"rz\"))\n",
    "    \n",
    "    R, _ = cv2.Rodrigues(np.array([rx, ry, rz]))\n",
    "    t = np.array([[tx], [ty], [tz]], dtype=np.float32)\n",
    "\n",
    "    return K, R, t\n",
    "\n",
    "\n",
    "def triangulate_points(K1, R1, t1, K2, R2, t2, points1, points2):\n",
    "    P1 = K1 @ np.hstack((R1, t1))\n",
    "    P2 = K2 @ np.hstack((R2, t2))\n",
    "    \n",
    "    # points1_h = cv2.convertPointsToHomogeneous(points1)[:, 0, :].T\n",
    "    # points2_h = cv2.convertPointsToHomogeneous(points2)[:, 0, :].T\n",
    "    \n",
    "    points_4d = cv2.triangulatePoints(P1, P2, points1.T, points2.T)\n",
    "    points_3d = points_4d[:3] / points_4d[3]\n",
    "    return points_3d.T\n",
    "\n",
    "def triangulate_frames_from_video(sequence_key: str, camera_numbers: list[int], frames_number=inf, verbose=False):\n",
    "    file_path = 'gait3d\\\\ListOfSequences.txt'\n",
    "    sequence_info = parse_sequences(file_path)[sequence_key]\n",
    "\n",
    "    if len(camera_numbers) < 2:\n",
    "        raise Exception(\"Two cameras are required to triangulate coordinates.\") #TODO: check also if c_nums in [1,2,3,4]\n",
    "\n",
    "    avi_paths = []\n",
    "    xml_config_paths = []\n",
    "    \n",
    "    for camera_number in camera_numbers:\n",
    "        avi_file_name = f\"c{camera_number}_{(4 - len(str(sequence_info['start_frame']))) * '0' + str(sequence_info['start_frame'])}\"\n",
    "        avi_seq_path = f\".\\\\gait3d\\\\Sequences\\\\{sequence_key}\\\\Images\\\\{avi_file_name}.avi\"\n",
    "        avi_paths.append(avi_seq_path)\n",
    "        \n",
    "        calibraton_xml_file_path = f\"gait3d\\\\Sequences\\\\{sequence_key}\\\\Calibration\\\\c{camera_number}.xml\" \n",
    "        xml_config_paths.append(calibraton_xml_file_path)\n",
    "\n",
    "\n",
    "    K1, R1, t1 = parse_camera_params(xml_config_paths[0])\n",
    "    K2, R2, t2 = parse_camera_params(xml_config_paths[1])\n",
    "    \n",
    "    estimator_1 = MediaPipeEstimator()\n",
    "    estimator_2 = MediaPipeEstimator()\n",
    "    \n",
    "    video_1_frames = video_frame_iterator(avi_paths[0], min(frames_number, sequence_info['number_of_frames']))\n",
    "    video_2_frames = video_frame_iterator(avi_paths[1], min(frames_number, sequence_info['number_of_frames']))\n",
    "\n",
    "    if verbose:\n",
    "        print(avi_paths)\n",
    "        print(xml_config_paths)\n",
    "\n",
    "    video_points_3d = []\n",
    "\n",
    "    for (i, vid_1_frame), (_, vid_2_frame) in zip(video_1_frames, video_2_frames):\n",
    "        points_1 = np.array(estimator_1.predict_for_frame(i, vid_1_frame), dtype=np.float32)\n",
    "        points_2 = np.array(estimator_2.predict_for_frame(i, vid_2_frame), dtype=np.float32)\n",
    "\n",
    "        if verbose:\n",
    "            print(f\"{points_1 = }\")\n",
    "            print(f\"{points_2 = }\")\n",
    "\n",
    "        points_3d = triangulate_points(K1, R1, t1, K2, R2, t2, points_1, points_2)\n",
    "        video_points_3d.append(points_3d)\n",
    "        \n",
    "        if verbose:\n",
    "            print(points_3d)\n",
    "        \n",
    "    return video_points_3d\n",
    "        "
   ]
  },
  {
   "cell_type": "code",
   "execution_count": 85,
   "id": "8d8f731e-732c-4031-8418-90f443b4fa66",
   "metadata": {
    "scrolled": true
   },
   "outputs": [
    {
     "name": "stdout",
     "output_type": "stream",
     "text": [
      "['.\\\\gait3d\\\\Sequences\\\\p7s1\\\\Images\\\\c1_0090.avi', '.\\\\gait3d\\\\Sequences\\\\p7s1\\\\Images\\\\c2_0090.avi']\n",
      "['gait3d\\\\Sequences\\\\p7s1\\\\Calibration\\\\c1.xml', 'gait3d\\\\Sequences\\\\p7s1\\\\Calibration\\\\c2.xml']\n",
      "points_1 = array([[811., 130.],\n",
      "       [813., 125.],\n",
      "       [814., 124.],\n",
      "       [815., 124.],\n",
      "       [812., 125.],\n",
      "       [813., 124.],\n",
      "       [813., 124.],\n",
      "       [824., 122.],\n",
      "       [821., 123.],\n",
      "       [817., 135.],\n",
      "       [815., 135.],\n",
      "       [858., 154.],\n",
      "       [822., 153.],\n",
      "       [861., 201.],\n",
      "       [816., 198.],\n",
      "       [852., 244.],\n",
      "       [810., 231.],\n",
      "       [852., 256.],\n",
      "       [807., 242.],\n",
      "       [845., 255.],\n",
      "       [807., 242.],\n",
      "       [844., 251.],\n",
      "       [808., 240.],\n",
      "       [840., 236.],\n",
      "       [818., 233.],\n",
      "       [825., 297.],\n",
      "       [812., 292.],\n",
      "       [818., 352.],\n",
      "       [806., 346.],\n",
      "       [822., 363.],\n",
      "       [811., 357.],\n",
      "       [790., 358.],\n",
      "       [780., 350.]], dtype=float32)\n",
      "points_2 = array([[479., 158.],\n",
      "       [476., 153.],\n",
      "       [474., 153.],\n",
      "       [473., 153.],\n",
      "       [481., 153.],\n",
      "       [483., 153.],\n",
      "       [485., 153.],\n",
      "       [468., 156.],\n",
      "       [488., 157.],\n",
      "       [476., 164.],\n",
      "       [482., 165.],\n",
      "       [441., 188.],\n",
      "       [507., 191.],\n",
      "       [424., 239.],\n",
      "       [514., 246.],\n",
      "       [413., 284.],\n",
      "       [515., 290.],\n",
      "       [410., 294.],\n",
      "       [517., 300.],\n",
      "       [414., 294.],\n",
      "       [513., 300.],\n",
      "       [416., 291.],\n",
      "       [511., 297.],\n",
      "       [454., 292.],\n",
      "       [488., 292.],\n",
      "       [453., 354.],\n",
      "       [487., 356.],\n",
      "       [459., 413.],\n",
      "       [487., 413.],\n",
      "       [460., 427.],\n",
      "       [485., 425.],\n",
      "       [460., 425.],\n",
      "       [482., 423.]], dtype=float32)\n",
      "[[ 7748.105     427.0577  11486.569  ]\n",
      " [ 7712.964     796.549   11173.021  ]\n",
      " [ 7534.209     954.1374  10604.827  ]\n",
      " [ 7515.4585   1003.56177 10488.083  ]\n",
      " [ 7823.407     531.56836 11845.339  ]\n",
      " [ 7758.5845    466.55356 11889.656  ]\n",
      " [ 7782.843     368.52176 12115.785  ]\n",
      " [ 6952.0933   1278.6405   8911.125  ]\n",
      " [ 7367.9297    227.98177 11538.077  ]\n",
      " [ 7623.3086    334.93182 11058.611  ]\n",
      " [ 7529.796      98.24044 11280.305  ]\n",
      " [ 6417.858     979.95575  6535.5264 ]\n",
      " [ 6172.9697   -884.4601   9650.753  ]\n",
      " [ 4801.3066    254.9648   3320.2761 ]\n",
      " [ 4508.8286  -1217.7217   5914.569  ]\n",
      " [ 3436.8313   -142.97493  1285.0527 ]\n",
      " [ 3485.7002  -1270.211    3853.574  ]\n",
      " [ 3205.5596   -220.68257   979.33356]\n",
      " [ 3324.6807  -1311.1785   3583.4683 ]\n",
      " [ 3246.2852   -263.12955  1145.3259 ]\n",
      " [ 3324.0503  -1274.3257   3499.4138 ]\n",
      " [ 3328.8018   -255.40982  1285.2909 ]\n",
      " [ 3387.3862  -1255.95     3572.0564 ]\n",
      " [ 3488.8242   -682.9378   2454.3591 ]\n",
      " [ 3469.0046  -1016.0917   3221.9773 ]\n",
      " [ 2342.4878   -928.7605    967.36554]\n",
      " [ 2399.067   -1156.9646   1565.8079 ]\n",
      " [ 1685.9576  -1143.7815    344.96658]\n",
      " [ 1784.0144  -1288.694     779.2956 ]\n",
      " [ 1603.8627  -1201.9888    263.46057]\n",
      " [ 1703.4572  -1321.0269    652.56024]\n",
      " [ 1495.7639  -1123.04      204.01686]\n",
      " [ 1595.591   -1227.2289    543.1249 ]]\n",
      "points_1 = array([[812., 130.],\n",
      "       [814., 124.],\n",
      "       [815., 124.],\n",
      "       [816., 124.],\n",
      "       [813., 124.],\n",
      "       [814., 124.],\n",
      "       [814., 124.],\n",
      "       [825., 122.],\n",
      "       [823., 123.],\n",
      "       [817., 135.],\n",
      "       [816., 135.],\n",
      "       [859., 155.],\n",
      "       [823., 152.],\n",
      "       [861., 202.],\n",
      "       [819., 197.],\n",
      "       [852., 245.],\n",
      "       [810., 230.],\n",
      "       [851., 257.],\n",
      "       [807., 241.],\n",
      "       [845., 256.],\n",
      "       [807., 241.],\n",
      "       [844., 252.],\n",
      "       [807., 239.],\n",
      "       [837., 237.],\n",
      "       [815., 233.],\n",
      "       [825., 297.],\n",
      "       [811., 292.],\n",
      "       [818., 352.],\n",
      "       [807., 346.],\n",
      "       [822., 363.],\n",
      "       [811., 358.],\n",
      "       [786., 360.],\n",
      "       [780., 351.]], dtype=float32)\n",
      "points_2 = array([[478., 159.],\n",
      "       [475., 153.],\n",
      "       [473., 153.],\n",
      "       [471., 153.],\n",
      "       [481., 153.],\n",
      "       [483., 153.],\n",
      "       [485., 153.],\n",
      "       [468., 156.],\n",
      "       [487., 157.],\n",
      "       [475., 164.],\n",
      "       [481., 165.],\n",
      "       [439., 190.],\n",
      "       [507., 191.],\n",
      "       [424., 240.],\n",
      "       [514., 246.],\n",
      "       [413., 285.],\n",
      "       [515., 290.],\n",
      "       [411., 295.],\n",
      "       [517., 300.],\n",
      "       [415., 295.],\n",
      "       [513., 300.],\n",
      "       [417., 291.],\n",
      "       [511., 297.],\n",
      "       [454., 291.],\n",
      "       [488., 291.],\n",
      "       [453., 354.],\n",
      "       [487., 356.],\n",
      "       [459., 413.],\n",
      "       [487., 413.],\n",
      "       [460., 425.],\n",
      "       [485., 425.],\n",
      "       [459., 422.],\n",
      "       [482., 422.]], dtype=float32)\n",
      "[[ 7626.012     471.73215 11151.645  ]\n",
      " [ 7574.3066    893.88965 10785.3    ]\n",
      " [ 7515.4585   1003.56177 10488.083  ]\n",
      " [ 7444.43     1117.2708  10161.48   ]\n",
      " [ 7724.5645    568.97345 11639.351  ]\n",
      " [ 7773.8477    458.26947 11942.077  ]\n",
      " [ 7796.5127    360.9202  12164.86   ]\n",
      " [ 6977.907    1266.2338   8983.158  ]\n",
      " [ 7385.1045    258.24695 11530.061  ]\n",
      " [ 7609.5767    380.13318 10950.339  ]\n",
      " [ 7535.9736    133.17255 11234.333  ]\n",
      " [ 6224.8467   1020.3329   6042.1475 ]\n",
      " [ 6128.652    -867.20905  9573.515  ]\n",
      " [ 4783.4863    235.07178  3302.1516 ]\n",
      " [ 4488.91    -1209.6787   5894.21   ]\n",
      " [ 3417.8987   -154.92638  1267.318  ]\n",
      " [ 3473.9717  -1264.7322   3834.6294 ]\n",
      " [ 3207.5557   -245.80302  1017.33826]\n",
      " [ 3314.1472  -1306.1971   3566.7937 ]\n",
      " [ 3252.0117   -290.11508  1185.753  ]\n",
      " [ 3313.3865  -1269.2285   3482.5117 ]\n",
      " [ 3377.576    -282.0133   1381.7279 ]\n",
      " [ 3374.19    -1249.5647   3549.6506 ]\n",
      " [ 3529.2039   -686.203    2517.442  ]\n",
      " [ 3492.9048  -1014.7432   3259.3113 ]\n",
      " [ 2342.4878   -928.7605    967.36554]\n",
      " [ 2395.7695  -1155.1967   1562.2454 ]\n",
      " [ 1685.9576  -1143.7815    344.96658]\n",
      " [ 1787.4628  -1290.5809    781.9199 ]\n",
      " [ 1615.8815  -1197.9662    277.9436 ]\n",
      " [ 1702.9363  -1322.4196    653.10596]\n",
      " [ 1486.6046  -1104.2349    197.03366]\n",
      " [ 1600.2812  -1226.5181    550.73267]]\n",
      "points_1 = array([[814., 127.],\n",
      "       [816., 121.],\n",
      "       [818., 121.],\n",
      "       [819., 120.],\n",
      "       [815., 122.],\n",
      "       [815., 122.],\n",
      "       [815., 122.],\n",
      "       [829., 120.],\n",
      "       [824., 122.],\n",
      "       [819., 132.],\n",
      "       [817., 133.],\n",
      "       [861., 156.],\n",
      "       [823., 153.],\n",
      "       [861., 204.],\n",
      "       [818., 198.],\n",
      "       [851., 246.],\n",
      "       [807., 231.],\n",
      "       [851., 258.],\n",
      "       [804., 241.],\n",
      "       [845., 257.],\n",
      "       [804., 241.],\n",
      "       [844., 253.],\n",
      "       [806., 238.],\n",
      "       [837., 240.],\n",
      "       [813., 235.],\n",
      "       [825., 298.],\n",
      "       [811., 292.],\n",
      "       [823., 349.],\n",
      "       [807., 345.],\n",
      "       [825., 360.],\n",
      "       [810., 357.],\n",
      "       [795., 360.],\n",
      "       [780., 352.]], dtype=float32)\n",
      "points_2 = array([[475., 158.],\n",
      "       [472., 153.],\n",
      "       [471., 153.],\n",
      "       [469., 153.],\n",
      "       [478., 154.],\n",
      "       [480., 154.],\n",
      "       [482., 154.],\n",
      "       [465., 155.],\n",
      "       [484., 157.],\n",
      "       [472., 164.],\n",
      "       [478., 164.],\n",
      "       [437., 192.],\n",
      "       [505., 193.],\n",
      "       [423., 242.],\n",
      "       [513., 246.],\n",
      "       [415., 286.],\n",
      "       [514., 288.],\n",
      "       [414., 297.],\n",
      "       [515., 300.],\n",
      "       [418., 296.],\n",
      "       [512., 301.],\n",
      "       [420., 293.],\n",
      "       [510., 297.],\n",
      "       [453., 288.],\n",
      "       [487., 288.],\n",
      "       [453., 353.],\n",
      "       [486., 354.],\n",
      "       [459., 413.],\n",
      "       [486., 414.],\n",
      "       [461., 423.],\n",
      "       [485., 425.],\n",
      "       [459., 423.],\n",
      "       [486., 420.]], dtype=float32)\n",
      "[[ 7365.612     742.7043  10351.656  ]\n",
      " [ 7128.182    1202.3668   9520.13   ]\n",
      " [ 7129.3467   1240.2882   9460.474  ]\n",
      " [ 6924.4307   1407.2806   8816.105  ]\n",
      " [ 7356.233     801.5798  10572.96   ]\n",
      " [ 7408.9775    692.39636 10867.816  ]\n",
      " [ 7450.6636    587.82056 11135.797  ]\n",
      " [ 6783.817    1509.4447   8284.961  ]\n",
      " [ 7295.2393    418.3739  11094.025  ]\n",
      " [ 7259.007     632.3499   9977.063  ]\n",
      " [ 7440.7666    325.95047 10818.835  ]\n",
      " [ 6050.436    1052.9779   5598.7437 ]\n",
      " [ 6059.854    -832.847    9302.381  ]\n",
      " [ 4710.5376    223.43846  3161.1323 ]\n",
      " [ 4515.1543  -1206.3411   5904.919  ]\n",
      " [ 3447.9116   -200.61795  1374.4192 ]\n",
      " [ 3539.8987  -1264.571    3923.7432 ]\n",
      " [ 3224.7876   -307.43213  1128.3417 ]\n",
      " [ 3308.0361  -1284.5328   3511.4624 ]\n",
      " [ 3302.5232   -349.19516  1337.1227 ]\n",
      " [ 3279.9814  -1253.4795   3401.063  ]\n",
      " [ 3381.887    -342.99268  1476.2616 ]\n",
      " [ 3360.9043  -1233.6592   3505.8975 ]\n",
      " [ 3689.9258   -700.84625  2741.9243 ]\n",
      " [ 3614.7473  -1023.8636   3435.1462 ]\n",
      " [ 2366.2842   -932.5311    998.9206 ]\n",
      " [ 2426.6755  -1148.8916   1591.7698 ]\n",
      " [ 1707.1104  -1148.7244    355.5214 ]\n",
      " [ 1774.8911  -1283.8679    753.4188 ]\n",
      " [ 1647.4927  -1201.3009    315.39447]\n",
      " [ 1700.0951  -1319.184     650.18506]\n",
      " [ 1518.7242  -1126.4183    212.17062]\n",
      " [ 1633.5214  -1250.8378    632.7597 ]]\n"
     ]
    }
   ],
   "source": [
    "points = triangulate_frames_from_video('p7s1', [1, 2], frames_number=3, verbose=True)"
   ]
  },
  {
   "cell_type": "code",
   "execution_count": 57,
   "id": "13433456-e6af-4389-9a77-d675f6dcb0a0",
   "metadata": {},
   "outputs": [
    {
     "data": {
      "text/plain": [
       "array([7748.105 , 7712.964 , 7534.209 , 7515.4585, 7823.407 , 7758.5845,\n",
       "       7782.843 , 6952.0933, 7367.9297, 7623.3086, 7529.796 , 6417.858 ,\n",
       "       6172.9697, 4801.3066, 4508.8286, 3436.8313, 3485.7002, 3205.5596,\n",
       "       3324.6807, 3246.2852, 3324.0503, 3328.8018, 3387.3862, 3488.8242,\n",
       "       3469.0046, 2342.4878, 2399.067 , 1685.9576, 1784.0144, 1603.8627,\n",
       "       1703.4572, 1495.7639, 1595.591 ], dtype=float32)"
      ]
     },
     "execution_count": 57,
     "metadata": {},
     "output_type": "execute_result"
    }
   ],
   "source": [
    "points[0][:, 0]"
   ]
  },
  {
   "cell_type": "code",
   "execution_count": 58,
   "id": "a399d8b4-2df7-46fb-a03c-5fe7896cb450",
   "metadata": {},
   "outputs": [
    {
     "name": "stdout",
     "output_type": "stream",
     "text": [
      "['NOSE', 'LEFT_EYE_INNER', 'LEFT_EYE', 'LEFT_EYE_OUTER', 'RIGHT_EYE_INNER', 'RIGHT_EYE', 'RIGHT_EYE_OUTER', 'LEFT_EAR', 'RIGHT_EAR', 'MOUTH_LEFT', 'MOUTH_RIGHT', 'LEFT_SHOULDER', 'RIGHT_SHOULDER', 'LEFT_ELBOW', 'RIGHT_ELBOW', 'LEFT_WRIST', 'RIGHT_WRIST', 'LEFT_PINKY', 'RIGHT_PINKY', 'LEFT_INDEX', 'RIGHT_INDEX', 'LEFT_THUMB', 'RIGHT_THUMB', 'LEFT_HIP', 'RIGHT_HIP', 'LEFT_KNEE', 'RIGHT_KNEE', 'LEFT_ANKLE', 'RIGHT_ANKLE', 'LEFT_HEEL', 'RIGHT_HEEL', 'LEFT_FOOT_INDEX', 'RIGHT_FOOT_INDEX']\n"
     ]
    }
   ],
   "source": [
    "import mediapipe as mp\n",
    "mp_pose = mp.solutions.pose\n",
    "\n",
    "landmarks_num = 33\n",
    "pose_landmark_names = [mp_pose.PoseLandmark(i).name for i in range(landmarks_num)]\n",
    "\n",
    "print(pose_landmark_names)"
   ]
  },
  {
   "cell_type": "code",
   "execution_count": 59,
   "id": "7e1dd816-23d9-44bf-86eb-b35ee855f2fa",
   "metadata": {},
   "outputs": [
    {
     "data": {
      "text/html": [
       "<iframe\n",
       "    scrolling=\"no\"\n",
       "    width=\"820px\"\n",
       "    height=\"820\"\n",
       "    src=\"iframe_figures/figure_59.html\"\n",
       "    frameborder=\"0\"\n",
       "    allowfullscreen\n",
       "></iframe>\n"
      ]
     },
     "metadata": {},
     "output_type": "display_data"
    }
   ],
   "source": [
    "import plotly.graph_objects as go\n",
    "import plotly.io as pio\n",
    "import mediapipe as mp\n",
    "\n",
    "pio.renderers.default = 'iframe'\n",
    "\n",
    "def display_triang_points(points, frame_number=0):\n",
    "    mp_pose = mp.solutions.pose\n",
    "    pose_landmark_names = [mp_pose.PoseLandmark(i).name for i in range(landmarks_num)]\n",
    "\n",
    "    fig = go.Figure(data=[go.Scatter3d(x=points[frame_number][:, 0], \n",
    "                                       y=points[frame_number][:, 1], \n",
    "                                       z=points[frame_number][:, 2], \n",
    "                                       mode='markers', \n",
    "                                       marker=dict(size=5, color='blue'),\n",
    "                                       text=pose_landmark_names)])\n",
    "    \n",
    "    fig.update_layout(scene=dict(\n",
    "                            xaxis_title='X',\n",
    "                            yaxis_title='Y',\n",
    "                            zaxis_title='Z',\n",
    "                            xaxis=dict(range=[-10000, 10000]),\n",
    "                            yaxis=dict(range=[-6000, 14000]),\n",
    "                            zaxis=dict(range=[-10000, 10000]),\n",
    "                            aspectmode='cube', \n",
    "                        ),\n",
    "                        title='3D joints plot from triangulation (mediapipe points)',\n",
    "                        width=800,\n",
    "                        height=800,\n",
    "                        )\n",
    "    \n",
    "    fig.show()\n",
    "\n",
    "display_triang_points(points)"
   ]
  },
  {
   "cell_type": "code",
   "execution_count": 61,
   "id": "a0fa47ef-35e1-4dde-9bc6-27f6d7f13b84",
   "metadata": {},
   "outputs": [
    {
     "data": {
      "text/html": [
       "<iframe\n",
       "    scrolling=\"no\"\n",
       "    width=\"820px\"\n",
       "    height=\"820\"\n",
       "    src=\"iframe_figures/figure_61.html\"\n",
       "    frameborder=\"0\"\n",
       "    allowfullscreen\n",
       "></iframe>\n"
      ]
     },
     "metadata": {},
     "output_type": "display_data"
    }
   ],
   "source": [
    "points_2 = triangulate_frames_from_video('p2s1', [2, 3], 1)\n",
    "display_triang_points(points_2)"
   ]
  },
  {
   "cell_type": "code",
   "execution_count": 62,
   "id": "a6a0afde-4f98-44fe-b49e-109184543f35",
   "metadata": {},
   "outputs": [
    {
     "data": {
      "text/html": [
       "<iframe\n",
       "    scrolling=\"no\"\n",
       "    width=\"820px\"\n",
       "    height=\"820\"\n",
       "    src=\"iframe_figures/figure_62.html\"\n",
       "    frameborder=\"0\"\n",
       "    allowfullscreen\n",
       "></iframe>\n"
      ]
     },
     "metadata": {},
     "output_type": "display_data"
    }
   ],
   "source": [
    "points_3 = triangulate_frames_from_video('p2s1', [1, 4], 1)\n",
    "display_triang_points(points_3)"
   ]
  },
  {
   "cell_type": "code",
   "execution_count": 63,
   "id": "4fe02c97-3376-4811-97dc-54eb6a3cbb01",
   "metadata": {},
   "outputs": [
    {
     "data": {
      "text/html": [
       "<iframe\n",
       "    scrolling=\"no\"\n",
       "    width=\"820px\"\n",
       "    height=\"820\"\n",
       "    src=\"iframe_figures/figure_63.html\"\n",
       "    frameborder=\"0\"\n",
       "    allowfullscreen\n",
       "></iframe>\n"
      ]
     },
     "metadata": {},
     "output_type": "display_data"
    }
   ],
   "source": [
    "points_4 = triangulate_frames_from_video('p2s1', [3, 4], 1)\n",
    "display_triang_points(points_4)"
   ]
  },
  {
   "cell_type": "code",
   "execution_count": 64,
   "id": "b035fdf0-5014-4ad6-baa8-2aeaeb51ddb0",
   "metadata": {},
   "outputs": [
    {
     "data": {
      "text/html": [
       "<iframe\n",
       "    scrolling=\"no\"\n",
       "    width=\"820px\"\n",
       "    height=\"820\"\n",
       "    src=\"iframe_figures/figure_64.html\"\n",
       "    frameborder=\"0\"\n",
       "    allowfullscreen\n",
       "></iframe>\n"
      ]
     },
     "metadata": {},
     "output_type": "display_data"
    }
   ],
   "source": [
    "points_test = triangulate_frames_from_video('p4s1', [3, 2], 1)\n",
    "display_triang_points(points_test)"
   ]
  },
  {
   "cell_type": "code",
   "execution_count": 70,
   "id": "983aad95-d128-4269-9b02-2e43a2a64a8f",
   "metadata": {},
   "outputs": [
    {
     "data": {
      "text/html": [
       "<iframe\n",
       "    scrolling=\"no\"\n",
       "    width=\"820px\"\n",
       "    height=\"820\"\n",
       "    src=\"iframe_figures/figure_70.html\"\n",
       "    frameborder=\"0\"\n",
       "    allowfullscreen\n",
       "></iframe>\n"
      ]
     },
     "metadata": {},
     "output_type": "display_data"
    }
   ],
   "source": [
    "points_test = triangulate_frames_from_video('p7s1', [1, 2])\n",
    "display_triang_points(points_test, 0)"
   ]
  },
  {
   "cell_type": "code",
   "execution_count": 71,
   "id": "a88b66f0-07ba-4d66-a1eb-a81eeb63d10b",
   "metadata": {},
   "outputs": [
    {
     "data": {
      "text/html": [
       "<iframe\n",
       "    scrolling=\"no\"\n",
       "    width=\"820px\"\n",
       "    height=\"820\"\n",
       "    src=\"iframe_figures/figure_71.html\"\n",
       "    frameborder=\"0\"\n",
       "    allowfullscreen\n",
       "></iframe>\n"
      ]
     },
     "metadata": {},
     "output_type": "display_data"
    }
   ],
   "source": [
    "display_triang_points(points_test, 40)"
   ]
  },
  {
   "cell_type": "code",
   "execution_count": 72,
   "id": "0c9dbd34-5dd4-49ec-82bc-768abd4cc203",
   "metadata": {},
   "outputs": [
    {
     "data": {
      "text/html": [
       "<iframe\n",
       "    scrolling=\"no\"\n",
       "    width=\"820px\"\n",
       "    height=\"820\"\n",
       "    src=\"iframe_figures/figure_72.html\"\n",
       "    frameborder=\"0\"\n",
       "    allowfullscreen\n",
       "></iframe>\n"
      ]
     },
     "metadata": {},
     "output_type": "display_data"
    }
   ],
   "source": [
    "display_triang_points(points_test, 80)"
   ]
  },
  {
   "cell_type": "code",
   "execution_count": 76,
   "id": "0e045c8b-69a6-42eb-ba2d-c4b7207c7a3a",
   "metadata": {},
   "outputs": [
    {
     "data": {
      "text/html": [
       "<iframe\n",
       "    scrolling=\"no\"\n",
       "    width=\"820px\"\n",
       "    height=\"820\"\n",
       "    src=\"iframe_figures/figure_76.html\"\n",
       "    frameborder=\"0\"\n",
       "    allowfullscreen\n",
       "></iframe>\n"
      ]
     },
     "metadata": {},
     "output_type": "display_data"
    }
   ],
   "source": [
    "points_test = triangulate_frames_from_video('p7s1', [2, 3], 1)\n",
    "display_triang_points(points_test, 0)"
   ]
  },
  {
   "cell_type": "code",
   "execution_count": 82,
   "id": "fff2b1a5-9250-462e-945f-2c71f0decc8d",
   "metadata": {},
   "outputs": [
    {
     "data": {
      "text/html": [
       "<iframe\n",
       "    scrolling=\"no\"\n",
       "    width=\"820px\"\n",
       "    height=\"820\"\n",
       "    src=\"iframe_figures/figure_82.html\"\n",
       "    frameborder=\"0\"\n",
       "    allowfullscreen\n",
       "></iframe>\n"
      ]
     },
     "metadata": {},
     "output_type": "display_data"
    }
   ],
   "source": [
    "points_test = triangulate_frames_from_video('p3s1', [3, 2], 61)\n",
    "display_triang_points(points_test, 0)"
   ]
  },
  {
   "cell_type": "code",
   "execution_count": 83,
   "id": "566dd81a-61ef-46ba-879f-37f241901479",
   "metadata": {},
   "outputs": [
    {
     "data": {
      "text/html": [
       "<iframe\n",
       "    scrolling=\"no\"\n",
       "    width=\"820px\"\n",
       "    height=\"820\"\n",
       "    src=\"iframe_figures/figure_83.html\"\n",
       "    frameborder=\"0\"\n",
       "    allowfullscreen\n",
       "></iframe>\n"
      ]
     },
     "metadata": {},
     "output_type": "display_data"
    }
   ],
   "source": [
    "display_triang_points(points_test, 60)"
   ]
  },
  {
   "cell_type": "code",
   "execution_count": null,
   "id": "0d87d46c-d895-4115-8805-7248d470e23c",
   "metadata": {},
   "outputs": [],
   "source": []
  }
 ],
 "metadata": {
  "kernelspec": {
   "display_name": "Python 3 (ipykernel)",
   "language": "python",
   "name": "python3"
  },
  "language_info": {
   "codemirror_mode": {
    "name": "ipython",
    "version": 3
   },
   "file_extension": ".py",
   "mimetype": "text/x-python",
   "name": "python",
   "nbconvert_exporter": "python",
   "pygments_lexer": "ipython3",
   "version": "3.10.7"
  }
 },
 "nbformat": 4,
 "nbformat_minor": 5
}
