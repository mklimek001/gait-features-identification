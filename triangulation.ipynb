{
 "cells": [
  {
   "cell_type": "code",
   "execution_count": 14,
   "id": "801bdd55-3303-4442-b2c8-184874ffd071",
   "metadata": {},
   "outputs": [
    {
     "name": "stdout",
     "output_type": "stream",
     "text": [
      "gait3d\\Sequences\\p7s1\\Calibration\\c1.xml\n",
      "gait3d\\Sequences\\p7s1\\Calibration\\c2.xml\n"
     ]
    }
   ],
   "source": [
    "sequence_key = 'p7s1'\n",
    "camera_number = 1\n",
    "calibraton_file_path_base = \"gait3d\\\\Sequences\\\\{sequence_key}\\\\Calibration\\\\c{camera_number}.xml\"\n",
    "calibraton_file_path_1 = calibraton_file_path_base.format(sequence_key=sequence_key, camera_number=1)\n",
    "print(calibraton_file_path_1)\n",
    "\n",
    "calibraton_file_path_2 = calibraton_file_path_base.format(sequence_key=sequence_key, camera_number=2)\n",
    "print(calibraton_file_path_2)"
   ]
  },
  {
   "cell_type": "code",
   "execution_count": 2,
   "id": "5596d7e3-7161-48cf-93b9-6faa28f47b69",
   "metadata": {},
   "outputs": [
    {
     "name": "stdout",
     "output_type": "stream",
     "text": [
      "<?xml version=\"1.0\" encoding=\"UTF-8\"?>\n",
      "<Camera name=\"c1\">\n",
      "\t<Geometry width=\"960\" height=\"540\" ncx=\"9.600000e+002\" nfx=\"9.600000e+002\" dx=\"1.000000e+000\" dy=\"1.000000e+000\" dpx=\"1.000000e+000\" dpy=\"1.000000e+000\"/>\n",
      "\t<Intrinsic focal=\"5.561470e+002\" kappa1=\"2.720130e-007\" cx=\"4.800000e+002\" cy=\"2.700000e+002\" sx=\"1.001630e+000\"/>\n",
      "\t<Extrinsic tx=\"2.564550e+001\" ty=\"6.130300e+002\" tz=\"3.444080e+003\" rx=\"-3.121731e+000\" ry=\"1.353192e+000\" rz=\"1.582054e+000\"/>\n",
      "</Camera>\n",
      "\n"
     ]
    }
   ],
   "source": [
    "with open(calibraton_file_path) as file:\n",
    "    xml_calibration_config = file.read()\n",
    "    print(xml_calibration_config)"
   ]
  },
  {
   "cell_type": "code",
   "execution_count": 52,
   "id": "4a68f417-65f4-4159-bde5-eff10161e799",
   "metadata": {},
   "outputs": [
    {
     "name": "stdout",
     "output_type": "stream",
     "text": [
      "P1 = array([[ 3.80199570e+01,  1.92365636e+02, -7.08702031e+02,\n",
      "         1.66744432e+06],\n",
      "       [-5.54502721e+02, -1.20557929e+02, -2.45340587e+02,\n",
      "         1.27083640e+06],\n",
      "       [-4.31387294e-01,  7.53672921e-01, -4.95865032e-01,\n",
      "         3.44408000e+03]]) \n",
      " points1_h = array([[100, 200],\n",
      "       [150, 250],\n",
      "       [  1,   1]], dtype=int32)\n",
      "P2 = array([[ 1.18839332e+02, -1.01970249e+02,  7.17597508e+02,\n",
      "         2.47773398e+06],\n",
      "       [ 4.18475729e+02, -4.50745038e+02,  4.72493837e+01,\n",
      "         1.75586817e+06],\n",
      "       [ 7.99632850e-01,  2.02632261e-01,  5.65267611e-01,\n",
      "         5.23355000e+03]]) \n",
      " points2_h = array([[110, 210],\n",
      "       [160, 260],\n",
      "       [  1,   1]], dtype=int32)\n",
      "points_4d= array([[-1715583370,  1070283168],\n",
      "       [-1715583370,  1070283168],\n",
      "       [ 2139048840,  1072623763],\n",
      "       [ 1885898724,  1069683139]], dtype=int32)\n",
      "Triangulated 3D points: [[-0.90969008 -0.90969008  1.13423314]\n",
      " [ 1.00056094  1.00056094  1.00274906]]\n"
     ]
    }
   ],
   "source": [
    "import numpy as np\n",
    "import cv2\n",
    "from xml.etree import ElementTree as ET\n",
    "\n",
    "def parse_camera_params(xml_file):\n",
    "    tree = ET.parse(xml_file)\n",
    "    root = tree.getroot()\n",
    "    intrinsic = root.find(\"Intrinsic\")\n",
    "    extrinsic = root.find(\"Extrinsic\")\n",
    "    \n",
    "    focal = float(intrinsic.get(\"focal\"))\n",
    "    cx = float(intrinsic.get(\"cx\"))\n",
    "    cy = float(intrinsic.get(\"cy\"))\n",
    "    sx = float(intrinsic.get(\"sx\"))\n",
    "    \n",
    "    K = np.array([[focal * sx, 0, cx],\n",
    "                  [0, focal, cy],\n",
    "                  [0, 0, 1]])\n",
    "    \n",
    "    tx = float(extrinsic.get(\"tx\"))\n",
    "    ty = float(extrinsic.get(\"ty\"))\n",
    "    tz = float(extrinsic.get(\"tz\"))\n",
    "    rx = float(extrinsic.get(\"rx\"))\n",
    "    ry = float(extrinsic.get(\"ry\"))\n",
    "    rz = float(extrinsic.get(\"rz\"))\n",
    "    \n",
    "    R, _ = cv2.Rodrigues(np.array([rx, ry, rz]))\n",
    "    t = np.array([[tx], [ty], [tz]])\n",
    "\n",
    "    return K, R, t\n",
    "\n",
    "def triangulate_points(K1, R1, t1, K2, R2, t2, points1, points2):\n",
    "    P1 = K1 @ np.hstack((R1, t1))\n",
    "    P2 = K2 @ np.hstack((R2, t2))\n",
    "    \n",
    "    points1_h = cv2.convertPointsToHomogeneous(points1).reshape(-1, 3).T\n",
    "    points2_h = cv2.convertPointsToHomogeneous(points2).reshape(-1, 3).T\n",
    "    print(f\"{P1 = } \\n {points1_h = }\")\n",
    "    print(f\"{P2 = } \\n {points2_h = }\")\n",
    "    \n",
    "    points_4d = cv2.triangulatePoints(P1, P2, points1_h[:2], points2_h[:2])\n",
    "    print(f\"{points_4d= }\")\n",
    "    points_3d = points_4d[:3] / points_4d[3]\n",
    "    return points_3d.T\n",
    "\n",
    "K1, R1, t1 = parse_camera_params(calibraton_file_path_1)\n",
    "K2, R2, t2 = parse_camera_params(calibraton_file_path_2)\n",
    "points1 = np.array([[100, 150], [200, 250]])  # replace with proper mediapipe points\n",
    "points2 = np.array([[110, 160], [210, 260]])  # random poitns\n",
    "\n",
    "points_3d = triangulate_points(K1, R1, t1, K2, R2, t2, points1, points2)\n",
    "print(\"Triangulated 3D points:\", points_3d)\n"
   ]
  },
  {
   "cell_type": "code",
   "execution_count": null,
   "id": "43d4b79b-9548-4dd4-818e-48109ce636a1",
   "metadata": {},
   "outputs": [],
   "source": []
  },
  {
   "cell_type": "code",
   "execution_count": null,
   "id": "897b1c51-02a9-496d-b1ac-31de2e6dfdeb",
   "metadata": {},
   "outputs": [],
   "source": []
  }
 ],
 "metadata": {
  "kernelspec": {
   "display_name": "Python 3 (ipykernel)",
   "language": "python",
   "name": "python3"
  },
  "language_info": {
   "codemirror_mode": {
    "name": "ipython",
    "version": 3
   },
   "file_extension": ".py",
   "mimetype": "text/x-python",
   "name": "python",
   "nbconvert_exporter": "python",
   "pygments_lexer": "ipython3",
   "version": "3.10.7"
  }
 },
 "nbformat": 4,
 "nbformat_minor": 5
}
