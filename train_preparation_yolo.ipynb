{
 "cells": [
  {
   "cell_type": "code",
   "execution_count": 1,
   "id": "0191c29c-7f7e-4780-b870-fff289599da1",
   "metadata": {},
   "outputs": [
    {
     "name": "stdout",
     "output_type": "stream",
     "text": [
      "CUDA available: True\n",
      "CUDA device: NVIDIA GeForce RTX 3050 Ti Laptop GPU\n"
     ]
    }
   ],
   "source": [
    "import torch\n",
    "import numpy as np\n",
    "import json\n",
    "\n",
    "print(f\"CUDA available: {torch.cuda.is_available()}\")\n",
    "print(f\"CUDA device: {torch.cuda.get_device_name(0)}\")"
   ]
  },
  {
   "cell_type": "code",
   "execution_count": 2,
   "id": "94b66fd4-c06a-4c80-94bc-5d43d81effde",
   "metadata": {},
   "outputs": [],
   "source": [
    "from scripts.parsers import parse_sequences as parse_sequence_info\n",
    "\n",
    "file_path = 'gait3d\\\\ListOfSequences.txt'\n",
    "sequences = parse_sequence_info(file_path)"
   ]
  },
  {
   "cell_type": "code",
   "execution_count": 3,
   "id": "3395950f-6678-499e-a788-0d60ec5327ba",
   "metadata": {},
   "outputs": [
    {
     "name": "stdout",
     "output_type": "stream",
     "text": [
      "test sequences: ['p16s1', 'p16s3', 'p13s1', 'p13s3', 'p4s1', 'p4s3', 'p29s5', 'p29s7', 'p26s5', 'p26s7']\n",
      "valid sequences: ['p8s1', 'p8s3', 'p19s1', 'p19s3', 'p3s1', 'p3s3', 'p31s5', 'p31s7', 'p27s5', 'p27s7']\n",
      "train sequences: ['p29s1', 'p29s3', 'p17s1', 'p17s3', 'p25s1', 'p25s3', 'p18s1', 'p18s3', 'p10s1', 'p10s3', 'p30s1', 'p30s3', 'p28s1', 'p28s3', 'p14s1', 'p14s3', 'p21s1', 'p21s3', 'p23s1', 'p23s3', 'p31s1', 'p31s3', 'p7s1', 'p7s3', 'p6s1', 'p6s3', 'p15s1', 'p15s3', 'p12s1', 'p12s3', 'p1s1', 'p1s3', 'p11s1', 'p11s3', 'p32s1', 'p32s3', 'p5s1', 'p5s3', 'p20s1', 'p20s3', 'p27s1', 'p27s3', 'p22s1', 'p22s3', 'p26s1', 'p26s3', 'p24s1', 'p24s3', 'p9s1', 'p9s3', 'p2s1', 'p2s3', 'p30s5', 'p30s7', 'p28s5', 'p28s7']\n"
     ]
    }
   ],
   "source": [
    "from utils.torch_train_utils import get_train_valid_test_set, MoCapInputDataset\n",
    "from torch.utils.data import DataLoader\n",
    "\n",
    "with open(\"./datasets/train_test_split.json\", \"r\") as f:\n",
    "    train_test_split = json.load(f)\n",
    "\n",
    "train_seq_set = train_test_split[\"train\"]\n",
    "valid_seq_set = train_test_split[\"valid\"]\n",
    "test_seq_set = train_test_split[\"test\"]\n",
    "\n",
    "print(f\"test sequences: {test_seq_set}\")\n",
    "print(f\"valid sequences: {valid_seq_set}\")\n",
    "print(f\"train sequences: {train_seq_set}\")"
   ]
  },
  {
   "cell_type": "code",
   "execution_count": 4,
   "id": "9fd1ea23-7065-456b-a8b6-288272c37503",
   "metadata": {
    "scrolled": true
   },
   "outputs": [
    {
     "name": "stdout",
     "output_type": "stream",
     "text": [
      "p1s1 | train |       |      |\n",
      "p1s3 | train |       |      |\n",
      "p2s1 | train |       |      |\n",
      "p2s3 | train |       |      |\n",
      "p3s1 |       | valid |      |\n",
      "p3s3 |       | valid |      |\n",
      "p4s1 |       |       | test |\n",
      "p4s3 |       |       | test |\n",
      "p5s1 | train |       |      |\n",
      "p5s3 | train |       |      |\n",
      "p6s1 | train |       |      |\n",
      "p6s3 | train |       |      |\n",
      "p7s1 | train |       |      |\n",
      "p7s3 | train |       |      |\n",
      "p8s1 |       | valid |      |\n",
      "p8s3 |       | valid |      |\n",
      "p9s1 | train |       |      |\n",
      "p9s3 | train |       |      |\n",
      "p10s1 | train |       |      |\n",
      "p10s3 | train |       |      |\n",
      "p11s1 | train |       |      |\n",
      "p11s3 | train |       |      |\n",
      "p12s1 | train |       |      |\n",
      "p12s3 | train |       |      |\n",
      "p13s1 |       |       | test |\n",
      "p13s3 |       |       | test |\n",
      "p14s1 | train |       |      |\n",
      "p14s3 | train |       |      |\n",
      "p15s1 | train |       |      |\n",
      "p15s3 | train |       |      |\n",
      "p16s1 |       |       | test |\n",
      "p16s3 |       |       | test |\n",
      "p17s1 | train |       |      |\n",
      "p17s3 | train |       |      |\n",
      "p18s1 | train |       |      |\n",
      "p18s3 | train |       |      |\n",
      "p19s1 |       | valid |      |\n",
      "p19s3 |       | valid |      |\n",
      "p20s1 | train |       |      |\n",
      "p20s3 | train |       |      |\n",
      "p21s1 | train |       |      |\n",
      "p21s3 | train |       |      |\n",
      "p22s1 | train |       |      |\n",
      "p22s3 | train |       |      |\n",
      "p23s1 | train |       |      |\n",
      "p23s3 | train |       |      |\n",
      "p24s1 | train |       |      |\n",
      "p24s3 | train |       |      |\n",
      "p25s1 | train |       |      |\n",
      "p25s3 | train |       |      |\n",
      "p26s1 | train |       |      |\n",
      "p26s3 | train |       |      |\n",
      "p26s5 |       |       | test |\n",
      "p26s7 |       |       | test |\n",
      "p27s1 | train |       |      |\n",
      "p27s3 | train |       |      |\n",
      "p27s5 |       | valid |      |\n",
      "p27s7 |       | valid |      |\n",
      "p28s1 | train |       |      |\n",
      "p28s3 | train |       |      |\n",
      "p28s5 | train |       |      |\n",
      "p28s7 | train |       |      |\n",
      "p29s1 | train |       |      |\n",
      "p29s3 | train |       |      |\n",
      "p29s5 |       |       | test |\n",
      "p29s7 |       |       | test |\n",
      "p30s1 | train |       |      |\n",
      "p30s3 | train |       |      |\n",
      "p30s5 | train |       |      |\n",
      "p30s7 | train |       |      |\n",
      "p31s1 | train |       |      |\n",
      "p31s3 | train |       |      |\n",
      "p31s5 |       | valid |      |\n",
      "p31s7 |       | valid |      |\n",
      "p32s1 | train |       |      |\n",
      "p32s3 | train |       |      |\n"
     ]
    }
   ],
   "source": [
    "for key, params in sequences.items():\n",
    "    if params['MoCap_data']:\n",
    "        if key[-1] in [\"1\", \"3\", \"5\", \"7\"]:\n",
    "            print(f\"{key} | {'train' if key in train_seq_set else '     '} | {'valid' if key in valid_seq_set else '     '} | {'test' if key in test_seq_set else '    '} |\")"
   ]
  },
  {
   "cell_type": "code",
   "execution_count": 5,
   "id": "af60bc52-4453-4753-baf2-8650f1b9b70d",
   "metadata": {},
   "outputs": [
    {
     "name": "stdout",
     "output_type": "stream",
     "text": [
      "Train size: 56 | 77.78%\n",
      "Test size: 10 | 13.89%\n",
      "Valid size: 10 | 13.89%\n"
     ]
    }
   ],
   "source": [
    "print(f\"Train size: {len(train_seq_set)} | {100*len(train_seq_set)/72:.2f}%\")\n",
    "print(f\"Test size: {len(test_seq_set)} | {100*len(test_seq_set)/72:.2f}%\")\n",
    "print(f\"Valid size: {len(valid_seq_set)} | {100*len(valid_seq_set)/72:.2f}%\")"
   ]
  },
  {
   "cell_type": "code",
   "execution_count": 6,
   "id": "4a0cbbf8-68b8-4fd5-a614-a293ec8854a0",
   "metadata": {},
   "outputs": [
    {
     "data": {
      "text/plain": [
       "{'5': 'lhumerus',\n",
       " '6': 'rhumerus',\n",
       " '11': 'lfemur',\n",
       " '12': 'rfemur',\n",
       " '13': 'ltibia',\n",
       " '14': 'rtibia',\n",
       " '15': 'lfoot',\n",
       " '16': 'rfoot'}"
      ]
     },
     "execution_count": 6,
     "metadata": {},
     "output_type": "execute_result"
    }
   ],
   "source": [
    "import json\n",
    "\n",
    "selected_names_file = \"./datasets/yolo/selected_joint_names.json\"\n",
    "input_data_file = \"./datasets/yolo/dataset_v2.json\"\n",
    "triang_data_file = \"./datasets/yolo/triangulation_v2.json\"\n",
    "output_data_file = \"./datasets/mocap/dataset_v2.json\"\n",
    "\n",
    "\n",
    "with open(input_data_file, 'r') as file:\n",
    "    raw_input = json.load(file)\n",
    "\n",
    "with open(output_data_file, 'r') as file:\n",
    "    raw_output = json.load(file)\n",
    "\n",
    "with open(selected_names_file, 'r') as file:\n",
    "    selected_names = json.load(file)\n",
    "\n",
    "with open(triang_data_file, 'r') as file:\n",
    "    triangulation_data = json.load(file)\n",
    "\n",
    "selected_names"
   ]
  },
  {
   "cell_type": "code",
   "execution_count": 7,
   "id": "575c6d0f-1bf2-4cfd-bb23-06698b0aa8be",
   "metadata": {
    "scrolled": true
   },
   "outputs": [
    {
     "name": "stdout",
     "output_type": "stream",
     "text": [
      "Frames with all found mocaps: 9530\n",
      "Frames with at least one not found mocap: 0\n",
      "Proportion: 100.00%\n"
     ]
    }
   ],
   "source": [
    "\n",
    "\n",
    "input_frames_data = {f\"c{c_idx}\": [] for c_idx in range(1, 5)}\n",
    "output_frames_data = []\n",
    "img_width = 960\n",
    "img_height = 540\n",
    "\n",
    "not_found = 0\n",
    "seq_keys_list = train_seq_set + test_seq_set + valid_seq_set\n",
    "\n",
    "for seq_key in seq_keys_list:\n",
    "    for f_idx in range(sequences[seq_key]['number_of_frames']):\n",
    "    # for f_idx in range(2):\n",
    "        curr_output_array = []\n",
    "        output_frame_dict = raw_output[seq_key][f_idx]\n",
    "        for point_idx, joint_name in selected_names.items():\n",
    "            curr_output_array.append(output_frame_dict[joint_name])\n",
    "\n",
    "        curr_output_array_np = np.array(curr_output_array)\n",
    "        # print(curr_output_array_np)\n",
    "        \n",
    "        curr_input_arrays = {f\"c{c_idx}\": [] for c_idx in range(1, 5)}\n",
    "\n",
    "        all_found = True\n",
    "        \n",
    "        for c_idx in range(1, 5):\n",
    "            input_frame_list = raw_input[seq_key][f\"c{c_idx}\"][str(f_idx)]\n",
    "            if [None, None] in input_frame_list:\n",
    "                all_found = False\n",
    "                break\n",
    "                \n",
    "            for point_idx, joint_name in selected_names.items(): \n",
    "                pixel_coords = input_frame_list[int(point_idx)]\n",
    "                curr_input_arrays[f\"c{c_idx}\"].append(pixel_coords)\n",
    "\n",
    "                # curr_input_arrays[f\"c{c_idx}\"].append([pixel_coords[0]/img_width, pixel_coords[1]/img_height])\n",
    "                # conversion from pixels to propotions if needed\n",
    "\n",
    "        # print(curr_input_arrays)\n",
    "\n",
    "        if all_found:\n",
    "            for c_idx in range(1, 5):\n",
    "                input_frames_data[f\"c{c_idx}\"].append(np.array(curr_input_arrays[f\"c{c_idx}\"]))\n",
    "            #     print(np.array(curr_input_arrays[f\"c{c_idx}\"]).shape)\n",
    "\n",
    "            # print(curr_output_array_np.shape)    \n",
    "            output_frames_data.append(curr_output_array_np)\n",
    "        else:\n",
    "            not_found += 1\n",
    "\n",
    "print(f\"Frames with all found mocaps: {len(output_frames_data)}\")\n",
    "print(f\"Frames with at least one not found mocap: {not_found}\")\n",
    "print(f\"Proportion: {100*len(output_frames_data)/(len(output_frames_data) + not_found):.2f}%\")\n",
    "# print(input_frames_data['c4'][0])"
   ]
  },
  {
   "cell_type": "code",
   "execution_count": 8,
   "id": "7d0d05c4-c0d9-433a-8d78-9717e2436179",
   "metadata": {},
   "outputs": [],
   "source": [
    "best_params = {'lr': 0.006368425169214278, 'weight_decay': 0.0006340336847511847, 'dropout': 0.1033937497054111, 'batch_size': 64, 'activation': 'gelu'}"
   ]
  },
  {
   "cell_type": "code",
   "execution_count": 9,
   "id": "892c20b1-9c87-462e-9fbd-525c9d6164be",
   "metadata": {},
   "outputs": [],
   "source": [
    "from torch.utils.data import DataLoader\n",
    "\n",
    "batch_size = best_params['batch_size']\n",
    "\n",
    "train_ds = MoCapInputDataset(train_seq_set, sequences, selected_names, raw_input, raw_output)\n",
    "valid_ds = MoCapInputDataset(valid_seq_set, sequences, selected_names, raw_input, raw_output)\n",
    "test_ds = MoCapInputDataset(test_seq_set, sequences, selected_names, raw_input, raw_output)\n",
    "\n",
    "train_loader = DataLoader(train_ds, batch_size=batch_size, shuffle=True)\n",
    "val_loader = DataLoader(valid_ds, batch_size=batch_size, shuffle=False)\n",
    "test_loader = DataLoader(test_ds, batch_size=batch_size, shuffle=False)"
   ]
  },
  {
   "cell_type": "code",
   "execution_count": 10,
   "id": "76e59766-3069-480b-a536-b60b8d19493f",
   "metadata": {},
   "outputs": [
    {
     "data": {
      "text/plain": [
       "([tensor([[0.9170, 0.3450],\n",
       "          [0.8852, 0.3475],\n",
       "          [0.9050, 0.4792],\n",
       "          [0.8827, 0.4773],\n",
       "          [0.8976, 0.5903],\n",
       "          [0.8828, 0.5902],\n",
       "          [0.8963, 0.6981],\n",
       "          [0.8874, 0.6940]]),\n",
       "  tensor([[0.4693, 0.3108],\n",
       "          [0.5357, 0.3092],\n",
       "          [0.4787, 0.5003],\n",
       "          [0.5239, 0.4994],\n",
       "          [0.4834, 0.6621],\n",
       "          [0.5194, 0.6596],\n",
       "          [0.4877, 0.8149],\n",
       "          [0.5113, 0.8129]]),\n",
       "  tensor([[0.1107, 0.3440],\n",
       "          [0.0731, 0.3443],\n",
       "          [0.1126, 0.4747],\n",
       "          [0.0880, 0.4790],\n",
       "          [0.1154, 0.5820],\n",
       "          [0.0967, 0.5863],\n",
       "          [0.1120, 0.6850],\n",
       "          [0.1025, 0.6891]]),\n",
       "  tensor([[0.5109, 0.3216],\n",
       "          [0.4892, 0.3211],\n",
       "          [0.5068, 0.3847],\n",
       "          [0.4932, 0.3846],\n",
       "          [0.5047, 0.4381],\n",
       "          [0.4943, 0.4383],\n",
       "          [0.5038, 0.4884],\n",
       "          [0.4960, 0.4870]])],\n",
       " tensor([[2516.1228, 1389.8424,   20.8681],\n",
       "         [2522.5061, 1389.7379, -337.4370],\n",
       "         [2544.5457,  953.2366,  -42.2279],\n",
       "         [2548.3909,  957.4872, -288.6675],\n",
       "         [2531.2351,  473.3778,  -76.6249],\n",
       "         [2528.1580,  501.7170, -236.5046],\n",
       "         [2618.6692,   77.7672, -103.7893],\n",
       "         [2605.0483,   88.7815, -187.8110]]))"
      ]
     },
     "execution_count": 10,
     "metadata": {},
     "output_type": "execute_result"
    }
   ],
   "source": [
    "train_ds[1]"
   ]
  },
  {
   "cell_type": "code",
   "execution_count": 11,
   "id": "d1f07f7a-c1ad-445d-a9e3-7a508024efb1",
   "metadata": {},
   "outputs": [],
   "source": [
    "import torch\n",
    "import torch.nn as nn\n",
    "import torch.nn.functional as F\n",
    "\n",
    "class CustomNet(nn.Module):\n",
    "    def __init__(self):\n",
    "        super(CustomNet, self).__init__()\n",
    "        dropout = 0\n",
    "        # shape (8, 2) -> reshape to (2, 8) \n",
    "        self.conv1d1 = nn.ModuleList([\n",
    "            nn.Conv1d(in_channels=2, out_channels=8, kernel_size=2, padding=1) for _ in range(4)\n",
    "        ])\n",
    "        self.conv1d2 = nn.ModuleList([\n",
    "            nn.Conv1d(in_channels=8, out_channels=1, kernel_size=2) for _ in range(4)\n",
    "        ])\n",
    "        \n",
    "        self.bn1 = nn.BatchNorm1d(32)\n",
    "        self.fc1 = nn.Linear(32, 48)\n",
    "        self.dropout1 = nn.Dropout(p=dropout)\n",
    "        self.bn2 = nn.BatchNorm1d(48)\n",
    "        self.fc2 = nn.Linear(48, 32)\n",
    "        self.dropout2 = nn.Dropout(p=dropout)\n",
    "        self.bn3 = nn.BatchNorm1d(32)\n",
    "        self.fc3 = nn.Linear(32, 24)\n",
    "\n",
    "    def forward(self, x):\n",
    "        # x: 4 tensors of shape (batch, 8, 2)\n",
    "        conv_outs = []\n",
    "        for i, xi in enumerate(x):\n",
    "            xi = xi.permute(0, 2, 1)  # reshape to (batch, 2, 8) \n",
    "            # conv = self.conv1d[i](xi)     # (batch, 1, 8)\n",
    "            conv = self.conv1d1[i](xi)\n",
    "            conv = self.conv1d2[i](conv)\n",
    "            conv = conv.squeeze(1)     # (batch, 8)\n",
    "            conv_outs.append(conv)\n",
    "\n",
    "        concat = torch.cat(conv_outs, dim=1)  # (batch, 28)\n",
    "\n",
    "        out = self.bn1(concat)\n",
    "        out = F.relu(self.bn2(self.fc1(out)))\n",
    "        out = self.dropout1(out)\n",
    "        out = F.relu(self.bn3(self.fc2(out)))\n",
    "        out = self.dropout2(out)\n",
    "        out = self.fc3(out)  # (batch, 24)\n",
    "        out = out.view(-1, 8, 3)  # reshape to (batch, 8, 3)\n",
    "        return out\n"
   ]
  },
  {
   "cell_type": "code",
   "execution_count": 12,
   "id": "35ca85b4-fb3e-488a-8ab9-ea1e41d9b15a",
   "metadata": {},
   "outputs": [
    {
     "name": "stdout",
     "output_type": "stream",
     "text": [
      "Epoch 1: Train MPJPE = 1727.3939, Val MPJPE = 1601.6137\n",
      "Epoch 2: Train MPJPE = 1631.6040, Val MPJPE = 1418.0291\n",
      "Epoch 3: Train MPJPE = 1441.8892, Val MPJPE = 1313.2131\n",
      "Epoch 4: Train MPJPE = 1177.9028, Val MPJPE = 985.7786\n",
      "Epoch 5: Train MPJPE = 879.8059, Val MPJPE = 691.9100\n",
      "Epoch 6: Train MPJPE = 620.4815, Val MPJPE = 448.3946\n",
      "Epoch 7: Train MPJPE = 432.3124, Val MPJPE = 334.0452\n",
      "Epoch 8: Train MPJPE = 337.7659, Val MPJPE = 285.4191\n",
      "Epoch 9: Train MPJPE = 295.3850, Val MPJPE = 332.8246\n",
      "Epoch 10: Train MPJPE = 262.8947, Val MPJPE = 241.9598\n",
      "Epoch 11: Train MPJPE = 270.6626, Val MPJPE = 222.4025\n",
      "Epoch 12: Train MPJPE = 260.6744, Val MPJPE = 223.8363\n",
      "Epoch 13: Train MPJPE = 247.6679, Val MPJPE = 242.2426\n",
      "Epoch 14: Train MPJPE = 255.8396, Val MPJPE = 203.5248\n",
      "Epoch 15: Train MPJPE = 250.6382, Val MPJPE = 218.0605\n",
      "Epoch 16: Train MPJPE = 247.5981, Val MPJPE = 205.7139\n",
      "Epoch 17: Train MPJPE = 238.7769, Val MPJPE = 193.8631\n",
      "Epoch 18: Train MPJPE = 221.8587, Val MPJPE = 204.9820\n",
      "Epoch 19: Train MPJPE = 221.2068, Val MPJPE = 181.4786\n",
      "Epoch 20: Train MPJPE = 219.2245, Val MPJPE = 175.3451\n",
      "Epoch 21: Train MPJPE = 206.8586, Val MPJPE = 182.0024\n",
      "Epoch 22: Train MPJPE = 207.7751, Val MPJPE = 154.8097\n",
      "Epoch 23: Train MPJPE = 200.0993, Val MPJPE = 181.7606\n",
      "Epoch 24: Train MPJPE = 212.9771, Val MPJPE = 159.6989\n",
      "Epoch 25: Train MPJPE = 204.7883, Val MPJPE = 174.4550\n",
      "Epoch 26: Train MPJPE = 200.5206, Val MPJPE = 177.5501\n",
      "Epoch 27: Train MPJPE = 179.2463, Val MPJPE = 172.3085\n",
      "Epoch 28: Train MPJPE = 186.3920, Val MPJPE = 210.8652\n",
      "Epoch 29: Train MPJPE = 185.5494, Val MPJPE = 184.7015\n",
      "Epoch 30: Train MPJPE = 186.8495, Val MPJPE = 205.8939\n",
      "Epoch 31: Train MPJPE = 191.0043, Val MPJPE = 141.3463\n",
      "Epoch 32: Train MPJPE = 185.3021, Val MPJPE = 161.2922\n",
      "Epoch 33: Train MPJPE = 176.2220, Val MPJPE = 185.1965\n",
      "Epoch 34: Train MPJPE = 194.3383, Val MPJPE = 184.2388\n",
      "Epoch 35: Train MPJPE = 177.8554, Val MPJPE = 169.2431\n",
      "Epoch 36: Train MPJPE = 176.2583, Val MPJPE = 151.8870\n",
      "Epoch 37: Train MPJPE = 169.3892, Val MPJPE = 137.0192\n",
      "Epoch 38: Train MPJPE = 170.1591, Val MPJPE = 169.5310\n",
      "Epoch 39: Train MPJPE = 178.3244, Val MPJPE = 156.3016\n",
      "Epoch 40: Train MPJPE = 170.5553, Val MPJPE = 165.2188\n",
      "Epoch 41: Train MPJPE = 178.3635, Val MPJPE = 214.8858\n",
      "Epoch 42: Train MPJPE = 181.0443, Val MPJPE = 217.6696\n",
      "Epoch 43: Train MPJPE = 166.4324, Val MPJPE = 173.3494\n",
      "Epoch 44: Train MPJPE = 183.8964, Val MPJPE = 169.1516\n",
      "Epoch 45: Train MPJPE = 182.0856, Val MPJPE = 211.3745\n",
      "Epoch 46: Train MPJPE = 161.1736, Val MPJPE = 259.2171\n",
      "Epoch 47: Train MPJPE = 176.2583, Val MPJPE = 197.7075\n",
      "Epoch 48: Train MPJPE = 175.1113, Val MPJPE = 184.3459\n",
      "Epoch 49: Train MPJPE = 172.1695, Val MPJPE = 162.1025\n",
      "Epoch 50: Train MPJPE = 173.5872, Val MPJPE = 187.4396\n",
      "Epoch 51: Train MPJPE = 177.4810, Val MPJPE = 280.4996\n",
      "Epoch 52: Train MPJPE = 163.5026, Val MPJPE = 171.7582\n",
      "Epoch 53: Train MPJPE = 166.0512, Val MPJPE = 162.1534\n",
      "Epoch 54: Train MPJPE = 177.7175, Val MPJPE = 305.6077\n",
      "Epoch 55: Train MPJPE = 165.1718, Val MPJPE = 331.5391\n",
      "Epoch 56: Train MPJPE = 172.8247, Val MPJPE = 236.9953\n",
      "Epoch 57: Train MPJPE = 165.8805, Val MPJPE = 157.3967\n",
      "Epoch 58: Train MPJPE = 160.0168, Val MPJPE = 164.6319\n",
      "Epoch 59: Train MPJPE = 159.2270, Val MPJPE = 175.5171\n",
      "Epoch 60: Train MPJPE = 161.5458, Val MPJPE = 181.5109\n",
      "Epoch 61: Train MPJPE = 143.9816, Val MPJPE = 122.2511\n",
      "Epoch 62: Train MPJPE = 155.7722, Val MPJPE = 138.4498\n",
      "Epoch 63: Train MPJPE = 157.0415, Val MPJPE = 190.2999\n",
      "Epoch 64: Train MPJPE = 142.5988, Val MPJPE = 205.6446\n",
      "Epoch 65: Train MPJPE = 156.2907, Val MPJPE = 156.3956\n",
      "Epoch 66: Train MPJPE = 140.9688, Val MPJPE = 159.6707\n",
      "Epoch 67: Train MPJPE = 144.8716, Val MPJPE = 118.6614\n",
      "Epoch 68: Train MPJPE = 135.9389, Val MPJPE = 156.6135\n",
      "Epoch 69: Train MPJPE = 139.5300, Val MPJPE = 229.6336\n",
      "Epoch 70: Train MPJPE = 137.3730, Val MPJPE = 189.3383\n",
      "Epoch 71: Train MPJPE = 147.7684, Val MPJPE = 132.0943\n",
      "Epoch 72: Train MPJPE = 134.7690, Val MPJPE = 202.7529\n",
      "Epoch 73: Train MPJPE = 141.1859, Val MPJPE = 120.8554\n",
      "Epoch 74: Train MPJPE = 140.7237, Val MPJPE = 176.8913\n",
      "Epoch 75: Train MPJPE = 138.0173, Val MPJPE = 132.9414\n",
      "Epoch 76: Train MPJPE = 137.7792, Val MPJPE = 121.0730\n",
      "Epoch 77: Train MPJPE = 133.2805, Val MPJPE = 126.9658\n",
      "Epoch 78: Train MPJPE = 136.2815, Val MPJPE = 183.2726\n",
      "Epoch 79: Train MPJPE = 133.1329, Val MPJPE = 118.4388\n",
      "Epoch 80: Train MPJPE = 140.4845, Val MPJPE = 156.3333\n",
      "Epoch 81: Train MPJPE = 136.4783, Val MPJPE = 197.9351\n",
      "Epoch 82: Train MPJPE = 138.9625, Val MPJPE = 166.2427\n",
      "Epoch 83: Train MPJPE = 127.4605, Val MPJPE = 128.5809\n",
      "Epoch 84: Train MPJPE = 135.0754, Val MPJPE = 163.4465\n",
      "Epoch 85: Train MPJPE = 129.5159, Val MPJPE = 169.5749\n",
      "Epoch 86: Train MPJPE = 131.5632, Val MPJPE = 293.9639\n",
      "Epoch 87: Train MPJPE = 142.1138, Val MPJPE = 183.8211\n",
      "Epoch 88: Train MPJPE = 134.7223, Val MPJPE = 166.4163\n",
      "Epoch 89: Train MPJPE = 126.4836, Val MPJPE = 234.4442\n",
      "Epoch 90: Train MPJPE = 138.0852, Val MPJPE = 121.0350\n",
      "Epoch 91: Train MPJPE = 141.5794, Val MPJPE = 196.1919\n",
      "Epoch 92: Train MPJPE = 141.8838, Val MPJPE = 183.6414\n",
      "Epoch 93: Train MPJPE = 129.3518, Val MPJPE = 227.9506\n",
      "Epoch 94: Train MPJPE = 127.4330, Val MPJPE = 143.4588\n",
      "Epoch 95: Train MPJPE = 127.9037, Val MPJPE = 201.0000\n",
      "Epoch 96: Train MPJPE = 129.6887, Val MPJPE = 167.5636\n",
      "Epoch 97: Train MPJPE = 137.1758, Val MPJPE = 122.3085\n",
      "Epoch 98: Train MPJPE = 128.5016, Val MPJPE = 137.8458\n",
      "Epoch 99: Train MPJPE = 130.1548, Val MPJPE = 165.4761\n",
      "Epoch 100: Train MPJPE = 134.4151, Val MPJPE = 176.0832\n"
     ]
    }
   ],
   "source": [
    "from utils.torch_train_utils import MPJPE\n",
    "\n",
    "model = CustomNet()\n",
    "optimizer = torch.optim.AdamW(model.parameters(), lr=best_params['lr'], weight_decay=best_params['weight_decay'])\n",
    "# criterion = torch.nn.MSELoss()\n",
    "criterion = MPJPE()\n",
    "\n",
    "train_loss_epochs = []\n",
    "val_loss_epochs = []\n",
    "\n",
    "num_epochs = 100\n",
    "\n",
    "for epoch in range(num_epochs):\n",
    "    model.train()\n",
    "    train_loss = 0.0\n",
    "\n",
    "    for inputs, targets in train_loader:\n",
    "        inputs = [inp.float() for inp in inputs]\n",
    "        targets = targets.float()\n",
    "\n",
    "        optimizer.zero_grad()\n",
    "        outputs = model(inputs)\n",
    "        loss = criterion(outputs, targets)\n",
    "        loss.backward()\n",
    "        optimizer.step()\n",
    "        train_loss += loss.item() * targets.size(0)\n",
    "\n",
    "    avg_train_loss = train_loss / len(train_loader.dataset)\n",
    "    train_loss_epochs.append(avg_train_loss)\n",
    "\n",
    "    model.eval()\n",
    "    val_loss = 0.0\n",
    "    with torch.no_grad():\n",
    "        for inputs, targets in val_loader:\n",
    "            inputs = [inp.float() for inp in inputs]\n",
    "            targets = targets.float()\n",
    "\n",
    "            outputs = model(inputs)\n",
    "            loss = criterion(outputs, targets)\n",
    "            val_loss += loss.item() * targets.size(0)\n",
    "\n",
    "    avg_val_loss = val_loss / len(val_loader.dataset)\n",
    "    val_loss_epochs.append(avg_val_loss)\n",
    "\n",
    "    print(f\"Epoch {epoch+1}: Train MPJPE = {avg_train_loss:.4f}, Val MPJPE = {avg_val_loss:.4f}\")\n"
   ]
  },
  {
   "cell_type": "code",
   "execution_count": 13,
   "id": "d14e160c-abb0-499a-9704-1bf0d5b2fc1d",
   "metadata": {},
   "outputs": [
    {
     "name": "stdout",
     "output_type": "stream",
     "text": [
      "Test loss = 248.3677\n"
     ]
    }
   ],
   "source": [
    "model.eval()\n",
    "test_loss = 0.0\n",
    "with torch.no_grad():\n",
    "    for inputs, targets in test_loader:\n",
    "        outputs = model(inputs)\n",
    "        loss = criterion(outputs, targets)\n",
    "        test_loss += loss.item() * targets.size(0)\n",
    "test_loss /= len(test_loader.dataset)\n",
    "\n",
    "print(f\"Test loss = {test_loss:.4f}\")"
   ]
  },
  {
   "cell_type": "code",
   "execution_count": 14,
   "id": "cc4859f1-23f8-4258-88f1-52e73fe1f6c1",
   "metadata": {},
   "outputs": [],
   "source": [
    "def predict_single(model, inputs_list, device=\"cpu\"):\n",
    "    model.eval()\n",
    "    inputs = [torch.from_numpy(inp).float().unsqueeze(0).to(device) for inp in inputs_list]\n",
    "    \n",
    "    with torch.no_grad():\n",
    "        output = model(inputs) \n",
    "    \n",
    "    return output.squeeze(0).cpu().numpy()"
   ]
  },
  {
   "cell_type": "code",
   "execution_count": 15,
   "id": "05504998-252d-43f4-a2de-dc1094ee3dc3",
   "metadata": {},
   "outputs": [
    {
     "data": {
      "text/plain": [
       "[[6.90322208404541, 3.6994009017944336, -3.9581351280212402],\n",
       " [7.050997257232666, 1.9678819179534912, -4.278520107269287],\n",
       " [7.196775913238525, 0.25871431827545166, -4.5949249267578125],\n",
       " [6.4067840576171875, 3.712695360183716, -5.024971008300781],\n",
       " [6.647609710693359, 1.9436155557632446, -5.044170379638672],\n",
       " [6.8671674728393555, 0.3317227363586426, -5.061561107635498],\n",
       " [7.128551483154297, 5.347268104553223, -3.8196592330932617],\n",
       " [7.222786903381348, 4.209889888763428, -3.9270873069763184],\n",
       " [7.1465840339660645, 3.58955454826355, -3.8218801021575928],\n",
       " [6.4526262283325195, 5.434737682342529, -4.97758674621582],\n",
       " [6.611799716949463, 4.247878551483154, -5.248648166656494],\n",
       " [6.399296283721924, 3.629312753677368, -5.209601402282715]]"
      ]
     },
     "execution_count": 15,
     "metadata": {},
     "output_type": "execute_result"
    }
   ],
   "source": [
    "list(raw_output[test_seq_set[0]][0].values())"
   ]
  },
  {
   "cell_type": "code",
   "execution_count": 24,
   "id": "688109ed-9ebc-45a3-8ae6-28968d7d4588",
   "metadata": {},
   "outputs": [
    {
     "name": "stdout",
     "output_type": "stream",
     "text": [
      "p13s1\n",
      "[[-5.754866123199463, 3.6858901977539062, 0.6549561023712158], [-6.401845932006836, 1.9694781303405762, 0.5224403738975525], [-6.986943244934082, 0.41862165927886963, 0.4065919816493988], [-5.7305779457092285, 3.7524783611297607, -0.47242385149002075], [-5.2177653312683105, 2.0494837760925293, -0.2579916715621948], [-4.7344651222229, 0.4455302953720093, -0.05498836934566498], [-5.666282653808594, 5.544508457183838, 0.8203505277633667], [-5.094147682189941, 4.348757266998291, 0.7996770143508911], [-5.00649881362915, 3.715325355529785, 0.9646220803260803], [-5.731081485748291, 5.506358623504639, -0.5286824107170105], [-5.967196941375732, 4.210867404937744, -0.7475067973136902], [-6.439878940582275, 3.7694053649902344, -0.7983139157295227]]\n",
      "\n",
      "[[196.29334285485464, -1357.1098037805768, 1366.2956864838463], [-101.43117171972669, -1415.0201544862887, 1364.8816676007707], [136.41247750540236, -1416.1487942506633, 914.5312553433116], [-58.60279565289887, -1403.1274233444744, 912.6118902141045], [123.80239607679651, -1583.8194187035458, 520.3464133234542], [-47.628668140463695, -1343.2512374023665, 501.19069699879606], [113.08241007694923, -1716.0117506111658, 147.22650722723972], [-7.321150701436029, -1191.0642078210053, 106.84140567564575]]\n"
     ]
    }
   ],
   "source": [
    "test_seq = test_seq_set[2]\n",
    "print(test_seq)\n",
    "frame = 90\n",
    "\n",
    "bvh_sample_data = list(raw_output[test_seq][frame].values())\n",
    "triangulation_sample_all_data = triangulation_data[test_seq][frame]\n",
    "triangulation_sample_data = [triangulation_sample_all_data[int(j_idx)] for j_idx in selected_names.keys()]\n",
    "print(bvh_sample_data)\n",
    "print()\n",
    "print(triangulation_sample_data)"
   ]
  },
  {
   "cell_type": "code",
   "execution_count": 25,
   "id": "73cf4ecc-a65d-4e20-99f3-e508e82cb239",
   "metadata": {
    "scrolled": true
   },
   "outputs": [
    {
     "data": {
      "text/plain": [
       "[array([[0.25976196, 0.34975839],\n",
       "        [0.27138656, 0.34235561],\n",
       "        [0.25970855, 0.4894985 ],\n",
       "        [0.27523285, 0.4845911 ],\n",
       "        [0.23858868, 0.60478795],\n",
       "        [0.28982788, 0.59782326],\n",
       "        [0.22530504, 0.71428102],\n",
       "        [0.31458366, 0.7047382 ]]),\n",
       " array([[0.48766577, 0.34266758],\n",
       "        [0.51362717, 0.34259373],\n",
       "        [0.49272865, 0.41196632],\n",
       "        [0.50984919, 0.41417903],\n",
       "        [0.49356133, 0.47238064],\n",
       "        [0.50919151, 0.48196286],\n",
       "        [0.49419048, 0.5242644 ],\n",
       "        [0.5052135 , 0.54882699]]),\n",
       " array([[0.71461153, 0.30298537],\n",
       "        [0.74337846, 0.31044504],\n",
       "        [0.72207391, 0.43996572],\n",
       "        [0.73155892, 0.44400844],\n",
       "        [0.74701047, 0.55369776],\n",
       "        [0.71628714, 0.56404883],\n",
       "        [0.76746088, 0.6615833 ],\n",
       "        [0.68240309, 0.67281145]]),\n",
       " array([[0.54326481, 0.22371826],\n",
       "        [0.48629934, 0.22586517],\n",
       "        [0.53011179, 0.37698433],\n",
       "        [0.49396983, 0.37491387],\n",
       "        [0.5274775 , 0.51055837],\n",
       "        [0.49688035, 0.49852431],\n",
       "        [0.52633458, 0.63458067],\n",
       "        [0.50215274, 0.59655577]])]"
      ]
     },
     "execution_count": 25,
     "metadata": {},
     "output_type": "execute_result"
    }
   ],
   "source": [
    "img_width = 960\n",
    "img_height = 540\n",
    "\n",
    "mp_input_sample = []\n",
    "\n",
    "for c_idx in range(1, 5):\n",
    "    all_frames_for_camera = raw_input[test_seq][f\"c{c_idx}\"][str(frame)]\n",
    "    camera_mp_input_sample = []\n",
    "    \n",
    "    for point_idx, joint_name in selected_names.items(): \n",
    "        pixel_coords = all_frames_for_camera[int(point_idx)]\n",
    "        camera_mp_input_sample.append(pixel_coords)\n",
    "        # camera_mp_input_sample.append([pixel_coords[0]/img_width, pixel_coords[1]/img_height])\n",
    "\n",
    "    mp_input_sample.append(np.array(camera_mp_input_sample))\n",
    "    \n",
    "mp_input_sample"
   ]
  },
  {
   "cell_type": "code",
   "execution_count": 26,
   "id": "1a4b9737-6623-4a1e-be25-d3dd476309e0",
   "metadata": {},
   "outputs": [
    {
     "data": {
      "text/plain": [
       "array([[-1.3417856e+03,  1.3763340e+03,  3.0355396e+02],\n",
       "       [-1.3500962e+03,  1.3764052e+03, -2.8370758e+01],\n",
       "       [-1.3719615e+03,  8.9110822e+02,  2.4618607e+02],\n",
       "       [-1.3418656e+03,  8.8837372e+02,  1.2339056e-03],\n",
       "       [-1.5270353e+03,  5.1606238e+02,  2.1506093e+02],\n",
       "       [-1.2793655e+03,  4.8888281e+02,  4.0366589e+01],\n",
       "       [-1.5883527e+03,  1.3910687e+02,  1.8632570e+02],\n",
       "       [-1.0774917e+03,  1.3407024e+02,  7.7224625e+01]], dtype=float32)"
      ]
     },
     "execution_count": 26,
     "metadata": {},
     "output_type": "execute_result"
    }
   ],
   "source": [
    "predicted = predict_single(model, mp_input_sample, 'cpu')\n",
    "predicted"
   ]
  },
  {
   "cell_type": "code",
   "execution_count": 27,
   "id": "3d96e453-d8b5-4321-8409-a2d47635d0e3",
   "metadata": {},
   "outputs": [
    {
     "data": {
      "text/html": [
       "<iframe\n",
       "    scrolling=\"no\"\n",
       "    width=\"820px\"\n",
       "    height=\"820\"\n",
       "    src=\"iframe_figures/figure_27.html\"\n",
       "    frameborder=\"0\"\n",
       "    allowfullscreen\n",
       "></iframe>\n"
      ]
     },
     "metadata": {},
     "output_type": "display_data"
    }
   ],
   "source": [
    "import plotly.graph_objects as go\n",
    "import plotly.io as pio\n",
    "pio.renderers.default = 'iframe'\n",
    "\n",
    "SCALE_FACTOR = 255\n",
    "\n",
    "x = [vec[2]*SCALE_FACTOR for vec in bvh_sample_data]\n",
    "y = [vec[0]*SCALE_FACTOR for vec in bvh_sample_data]\n",
    "z = [vec[1]*SCALE_FACTOR for vec in bvh_sample_data]\n",
    "\n",
    "# x_t = [vec[0]/SCALE_FACTOR for vec in triangulation_sample_data]\n",
    "# y_t = [vec[1]/SCALE_FACTOR for vec in triangulation_sample_data]\n",
    "# z_t = [vec[2]/SCALE_FACTOR for vec in triangulation_sample_data]\n",
    "\n",
    "x_t = [vec[0] for vec in triangulation_sample_data]\n",
    "y_t = [vec[1] for vec in triangulation_sample_data]\n",
    "z_t = [vec[2] for vec in triangulation_sample_data]\n",
    "\n",
    "x_p = [vec[2] for vec in predicted]\n",
    "y_p = [vec[0] for vec in predicted]\n",
    "z_p = [vec[1] for vec in predicted]\n",
    "    \n",
    "fig = go.Figure(\n",
    "    data=[\n",
    "        go.Scatter3d(\n",
    "            x=x, y=y, z=z,\n",
    "            mode='markers',\n",
    "            marker=dict(size=5, color='blue'),\n",
    "            hoverinfo='text',\n",
    "            name='Joints BVH'),\n",
    "        go.Scatter3d(\n",
    "            x=x_t, y=y_t, z=z_t,\n",
    "            mode='markers',\n",
    "            marker=dict(size=5, color='red'),\n",
    "            hoverinfo='text',\n",
    "            name='Joints triangulation yolo'),\n",
    "        go.Scatter3d(\n",
    "            x=x_p, y=y_p, z=z_p,\n",
    "            mode='markers',\n",
    "            marker=dict(size=5, color='green'),\n",
    "            hoverinfo='text',\n",
    "            name='Predicted by NN'),\n",
    "        ]\n",
    ")\n",
    "\n",
    "fig.update_layout(scene=dict(\n",
    "    xaxis_title='X',\n",
    "    yaxis_title='Y',\n",
    "    zaxis_title='Z',\n",
    "    xaxis=dict(range=[-6000, 6000]),\n",
    "    yaxis=dict(range=[-6000, 6000]),\n",
    "    zaxis=dict(range=[-6000, 6000]),\n",
    "    aspectmode='cube', \n",
    "),\n",
    "title='3D joints plot from bvh file',\n",
    "width=800,\n",
    "height=800\n",
    ")\n",
    "\n",
    "fig.show()"
   ]
  },
  {
   "cell_type": "code",
   "execution_count": 20,
   "id": "64b03618-b979-4167-a109-df5e8fec9fc9",
   "metadata": {},
   "outputs": [],
   "source": [
    "torch.save(model.state_dict(), './models/custom_net_yolo_v1.pth')"
   ]
  },
  {
   "cell_type": "code",
   "execution_count": 29,
   "id": "f5152622-363e-444e-8ad1-c2f1a3416d7e",
   "metadata": {},
   "outputs": [
    {
     "data": {
      "image/png": "[encoded data removed]",
      "text/plain": [
       "<Figure size 640x480 with 1 Axes>"
      ]
     },
     "metadata": {},
     "output_type": "display_data"
    }
   ],
   "source": [
    "import matplotlib.pyplot as plt\n",
    "\n",
    "frame_num = [i for i in range(len(val_loss_epochs))]\n",
    "\n",
    "plt.plot(frame_num, train_loss_epochs, color='blue', label='Train loss')\n",
    "plt.plot(frame_num, val_loss_epochs, color='red', label='Validation loss')\n",
    "\n",
    "plt.title('Train and validation loss (MPJPE)')\n",
    "plt.legend()\n",
    "\n",
    "plt.xlabel('Epoch')\n",
    "plt.ylabel('MPJPE (mm)')\n",
    "plt.grid(True)\n",
    "\n",
    "plt.savefig('./plots/train_val_loss.png')\n",
    "\n",
    "plt.show()\n"
   ]
  },
  {
   "cell_type": "code",
   "execution_count": null,
   "id": "f4aae2f9-3d0e-460e-9915-827d167f42a2",
   "metadata": {},
   "outputs": [],
   "source": []
  }
 ],
 "metadata": {
  "kernelspec": {
   "display_name": "Python 3 (ipykernel)",
   "language": "python",
   "name": "python3"
  },
  "language_info": {
   "codemirror_mode": {
    "name": "ipython",
    "version": 3
   },
   "file_extension": ".py",
   "mimetype": "text/x-python",
   "name": "python",
   "nbconvert_exporter": "python",
   "pygments_lexer": "ipython3",
   "version": "3.10.7"
  }
 },
 "nbformat": 4,
 "nbformat_minor": 5
}
