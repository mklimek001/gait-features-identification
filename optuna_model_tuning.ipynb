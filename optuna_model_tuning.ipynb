{
 "cells": [
  {
   "cell_type": "code",
   "execution_count": 1,
   "id": "9310ab85-e16b-41ad-af02-d20945c7f573",
   "metadata": {},
   "outputs": [
    {
     "name": "stdout",
     "output_type": "stream",
     "text": [
      "CUDA available: True\n",
      "CUDA device: NVIDIA GeForce RTX 3050 Ti Laptop GPU\n"
     ]
    }
   ],
   "source": [
    "import torch\n",
    "import warnings\n",
    "\n",
    "# warnings.filterwarnings('ignore')\n",
    "print(f\"CUDA available: {torch.cuda.is_available()}\")\n",
    "print(f\"CUDA device: {torch.cuda.get_device_name(0)}\")\n",
    "\n",
    "device = torch.device(\"cuda\" if torch.cuda.is_available() else \"cpu\")"
   ]
  },
  {
   "cell_type": "code",
   "execution_count": 2,
   "id": "81fe0e6f-88c4-4593-8868-15a2d1a402c9",
   "metadata": {},
   "outputs": [],
   "source": [
    "# ! pip install ipywidgets\n",
    "# ! jupyter nbextension enable --py widgetsnbextension"
   ]
  },
  {
   "cell_type": "code",
   "execution_count": 3,
   "id": "e5523c60-36c5-4036-9527-3d36d67d4bc4",
   "metadata": {},
   "outputs": [],
   "source": [
    "from scripts.parsers import parse_sequences as parse_sequence_info\n",
    "\n",
    "file_path = 'gait3d\\\\ListOfSequences.txt'\n",
    "sequences = parse_sequence_info(file_path)"
   ]
  },
  {
   "cell_type": "code",
   "execution_count": 4,
   "id": "0c8e5b1b-7561-48db-9146-e9782a2f232d",
   "metadata": {},
   "outputs": [],
   "source": [
    "import json\n",
    "\n",
    "selected_names_file = \"./datasets/mediapipe/selected_joint_names.json\"\n",
    "input_data_file = \"./datasets/mediapipe/dataset_v2.json\"\n",
    "output_data_file = \"./datasets/mocap/dataset_v2.json\"\n",
    "triang_data_file = \"./datasets/mediapipe/triangulation.json\"\n",
    "\n",
    "with open(input_data_file, 'r') as file:\n",
    "    raw_input = json.load(file)\n",
    "\n",
    "with open(output_data_file, 'r') as file:\n",
    "    raw_output = json.load(file)\n",
    "\n",
    "with open(triang_data_file, 'r') as file:\n",
    "    triangulation_data = json.load(file)\n"
   ]
  },
  {
   "cell_type": "code",
   "execution_count": 5,
   "id": "fd6c489a-c230-4f87-8b73-457344e99e12",
   "metadata": {},
   "outputs": [
    {
     "data": {
      "text/plain": [
       "{'27': 'lfoot',\n",
       " '28': 'rfoot',\n",
       " '25': 'ltibia',\n",
       " '26': 'rtibia',\n",
       " '23': 'lfemur',\n",
       " '24': 'rfemur',\n",
       " '11': 'lhumerus',\n",
       " '12': 'rhumerus'}"
      ]
     },
     "execution_count": 5,
     "metadata": {},
     "output_type": "execute_result"
    }
   ],
   "source": [
    "with open(selected_names_file, 'r') as file:\n",
    "    selected_names = json.load(file)\n",
    "\n",
    "selected_names.pop('15')\n",
    "selected_names.pop('16')\n",
    "selected_names.pop('13')\n",
    "selected_names.pop('14')\n",
    "selected_names"
   ]
  },
  {
   "cell_type": "code",
   "execution_count": 6,
   "id": "309a9e4a-60fa-4cd6-99cb-b5445096327c",
   "metadata": {},
   "outputs": [
    {
     "name": "stdout",
     "output_type": "stream",
     "text": [
      "train: ['p13s1', 'p13s3', 'p1s1', 'p1s3', 'p14s1', 'p14s3', 'p28s1', 'p28s3', 'p5s1', 'p5s3', 'p24s1', 'p24s3', 'p31s1', 'p31s3', 'p22s1', 'p22s3', 'p23s1', 'p23s3', 'p15s1', 'p15s3', 'p4s1', 'p4s3', 'p19s1', 'p19s3', 'p30s1', 'p30s3', 'p16s1', 'p16s3', 'p18s1', 'p18s3', 'p32s1', 'p32s3', 'p26s1', 'p26s3', 'p3s1', 'p3s3', 'p17s1', 'p17s3', 'p29s1', 'p29s3', 'p9s1', 'p9s3', 'p27s1', 'p27s3', 'p20s1', 'p20s3', 'p6s1', 'p6s3', 'p10s1', 'p10s3', 'p12s1', 'p12s3', 'p30s5', 'p30s7', 'p31s5', 'p31s7']\n",
      "valid: ['p11s1', 'p11s3', 'p25s1', 'p25s3', 'p7s1', 'p7s3', 'p26s5', 'p26s7', 'p28s5', 'p28s7']\n",
      "test: ['p8s1', 'p8s3', 'p21s1', 'p21s3', 'p2s1', 'p2s3', 'p27s5', 'p27s7', 'p29s5', 'p29s7']\n"
     ]
    }
   ],
   "source": [
    "from utils.torch_train_utils import get_train_valid_test_set, MoCapInputDataset\n",
    "from torch.utils.data import DataLoader\n",
    "\n",
    "train_seq_set, valid_seq_set, test_seq_set = get_train_valid_test_set(sequences, 42)\n",
    "\n",
    "print(f\"train: {train_seq_set}\")\n",
    "print(f\"valid: {valid_seq_set}\")\n",
    "print(f\"test: {test_seq_set}\")\n",
    "\n",
    "train_ds = MoCapInputDataset(train_seq_set, sequences, selected_names, raw_input, raw_output)\n",
    "valid_ds = MoCapInputDataset(valid_seq_set, sequences, selected_names, raw_input, raw_output)\n",
    "test_ds = MoCapInputDataset(test_seq_set, sequences, selected_names, raw_input, raw_output)\n",
    "\n",
    "train_loader = DataLoader(train_ds, batch_size=32, shuffle=True)\n",
    "val_loader = DataLoader(valid_ds, batch_size=32, shuffle=False)\n",
    "test_loader = DataLoader(test_ds, batch_size=32, shuffle=False)"
   ]
  },
  {
   "cell_type": "code",
   "execution_count": 13,
   "id": "93e7045c-e416-4bff-ac14-3b39c63bf5cc",
   "metadata": {},
   "outputs": [],
   "source": [
    "import torch\n",
    "import torch.nn as nn\n",
    "import torch.nn.functional as F\n",
    "\n",
    "\n",
    "class CustomNetForOptuna(nn.Module):\n",
    "    def __init__(self, dropout=0.2, activation_name=\"relu\"):\n",
    "        super(CustomNetForOptuna, self).__init__()\n",
    "        \n",
    "        # to try different activation functions\n",
    "        activations = {\n",
    "            \"relu\": nn.ReLU(),\n",
    "            \"leaky_relu\": nn.LeakyReLU(),\n",
    "            \"gelu\": nn.GELU(),\n",
    "        }\n",
    "        self.activation = activations[activation_name]\n",
    "\n",
    "        self.conv1d1 = [\n",
    "            nn.Conv1d(in_channels=2, out_channels=8, kernel_size=2, padding=1) for _ in range(4) \n",
    "        ]\n",
    "        self.conv1d2 = [\n",
    "            nn.Conv1d(in_channels=8, out_channels=1, kernel_size=2) for _ in range(4)\n",
    "        ]\n",
    "        \n",
    "        self.bn1 = nn.BatchNorm1d(32)\n",
    "        self.fc1 = nn.Linear(32, 48)\n",
    "        self.dropout1 = nn.Dropout(p=dropout)\n",
    "        self.bn2 = nn.BatchNorm1d(48)\n",
    "        self.fc2 = nn.Linear(48, 32)\n",
    "        self.dropout2 = nn.Dropout(p=dropout)\n",
    "        self.bn3 = nn.BatchNorm1d(32)\n",
    "        self.fc3 = nn.Linear(32, 24)\n",
    "\n",
    "    def forward(self, x):\n",
    "        conv_outs = []\n",
    "        for i, xi in enumerate(x):\n",
    "            xi = xi.permute(0, 2, 1)\n",
    "            conv = self.conv1d1[i](xi)\n",
    "            conv = self.conv1d2[i](conv)\n",
    "            conv = conv.squeeze(1)\n",
    "            conv_outs.append(conv)\n",
    "\n",
    "        concat = torch.cat(conv_outs, dim=1)\n",
    "        out = self.bn1(concat)\n",
    "        out = self.activation(self.bn2(self.fc1(out)))\n",
    "        out = self.dropout1(out)\n",
    "        out = self.activation(self.bn3(self.fc2(out)))\n",
    "        out = self.dropout2(out)\n",
    "        out = self.fc3(out)\n",
    "        return out.view(-1, 8, 3)\n"
   ]
  },
  {
   "cell_type": "code",
   "execution_count": 14,
   "id": "c8767493-0aa8-44e2-9a6b-71c589dcfe8a",
   "metadata": {},
   "outputs": [],
   "source": [
    "import optuna\n",
    "from torch.optim import AdamW\n",
    "\n",
    "from utils.torch_train_utils import MPJPE\n",
    "\n",
    "\n",
    "def objective(trial):\n",
    "    lr = trial.suggest_float(\"lr\", 1e-5, 1e-2, log=True)\n",
    "    weight_decay = trial.suggest_float(\"weight_decay\", 1e-6, 1e-2, log=True)\n",
    "    dropout = trial.suggest_float(\"dropout\", 0.0, 0.5)\n",
    "    batch_size = trial.suggest_categorical(\"batch_size\", [16, 32, 64, 128])\n",
    "    activation = trial.suggest_categorical(\"activation\", [\"relu\", \"leaky_relu\", \"gelu\"])\n",
    "\n",
    "    train_loader =  DataLoader(train_ds, batch_size=batch_size, shuffle=True)\n",
    "    val_loader = DataLoader(valid_ds, batch_size=batch_size)\n",
    "\n",
    "    model = CustomNetForOptuna(dropout=dropout, activation_name=activation)\n",
    "    criterion = MPJPE()\n",
    "    optimizer = torch.optim.AdamW(model.parameters(), lr=lr, weight_decay=weight_decay)\n",
    "\n",
    "    for epoch in range(20):\n",
    "        model.train()\n",
    "        for inputs, targets in train_loader:\n",
    "            inputs = [x for x in inputs]\n",
    "            targets = targets\n",
    "\n",
    "            outputs = model(inputs)\n",
    "            loss = criterion(outputs, targets)\n",
    "\n",
    "            optimizer.zero_grad()\n",
    "            loss.backward()\n",
    "            optimizer.step()\n",
    "\n",
    "    model.eval()\n",
    "    val_loss = 0\n",
    "    with torch.no_grad():\n",
    "        for inputs, targets in val_loader:\n",
    "            inputs = [x for x in inputs]\n",
    "            targets = targets\n",
    "            preds = model(inputs)\n",
    "            val_loss += criterion(preds, targets).item()\n",
    "\n",
    "    return val_loss / len(val_loader)\n"
   ]
  },
  {
   "cell_type": "code",
   "execution_count": 15,
   "id": "1dfabca8-b04d-4f21-80eb-3ddf667eb533",
   "metadata": {},
   "outputs": [
    {
     "name": "stderr",
     "output_type": "stream",
     "text": [
      "[I 2025-06-11 00:12:19,982] A new study created in memory with name: no-name-0c882922-6062-451e-ae71-cbde05c75528\n",
      "[I 2025-06-11 00:12:27,285] Trial 0 finished with value: 519.2392944335937 and parameters: {'lr': 0.005671031230736875, 'weight_decay': 0.0004168259711955452, 'dropout': 0.354801880574658, 'batch_size': 128, 'activation': 'relu'}. Best is trial 0 with value: 519.2392944335937.\n",
      "[I 2025-06-11 00:13:01,164] Trial 1 finished with value: 285.81169204711915 and parameters: {'lr': 0.0027999724229229063, 'weight_decay': 0.001801357679958648, 'dropout': 0.2756488153051272, 'batch_size': 16, 'activation': 'relu'}. Best is trial 1 with value: 285.81169204711915.\n",
      "[I 2025-06-11 00:13:19,886] Trial 2 finished with value: 1681.4529998779296 and parameters: {'lr': 3.090879261047814e-05, 'weight_decay': 0.0016022937029121318, 'dropout': 0.38444282116442574, 'batch_size': 32, 'activation': 'leaky_relu'}. Best is trial 1 with value: 285.81169204711915.\n",
      "[I 2025-06-11 00:13:27,678] Trial 3 finished with value: 1588.310205078125 and parameters: {'lr': 0.001313587382935904, 'weight_decay': 2.4010230432693105e-06, 'dropout': 0.4035807940354811, 'batch_size': 128, 'activation': 'leaky_relu'}. Best is trial 1 with value: 285.81169204711915.\n",
      "[I 2025-06-11 00:14:00,545] Trial 4 finished with value: 1676.1809524536134 and parameters: {'lr': 4.177587627385335e-05, 'weight_decay': 0.00033380109242465023, 'dropout': 0.41858067178754826, 'batch_size': 16, 'activation': 'relu'}. Best is trial 1 with value: 285.81169204711915.\n",
      "[I 2025-06-11 00:14:32,999] Trial 5 finished with value: 1681.9151901245118 and parameters: {'lr': 1.574502635587609e-05, 'weight_decay': 1.4285216101919502e-06, 'dropout': 0.3445997086416357, 'batch_size': 16, 'activation': 'relu'}. Best is trial 1 with value: 285.81169204711915.\n",
      "[I 2025-06-11 00:14:40,424] Trial 6 finished with value: 1683.248193359375 and parameters: {'lr': 1.3330898452931444e-05, 'weight_decay': 2.041077484069944e-05, 'dropout': 0.10214892858161506, 'batch_size': 128, 'activation': 'gelu'}. Best is trial 1 with value: 285.81169204711915.\n",
      "[I 2025-06-11 00:14:47,711] Trial 7 finished with value: 498.6992919921875 and parameters: {'lr': 0.005997365481042201, 'weight_decay': 0.00013574381409976516, 'dropout': 0.3304754778728859, 'batch_size': 128, 'activation': 'leaky_relu'}. Best is trial 1 with value: 285.81169204711915.\n",
      "[I 2025-06-11 00:15:21,535] Trial 8 finished with value: 1444.1214614868163 and parameters: {'lr': 0.0003337016769347711, 'weight_decay': 0.0008538769251033321, 'dropout': 0.14077268136710597, 'batch_size': 16, 'activation': 'gelu'}. Best is trial 1 with value: 285.81169204711915.\n",
      "[I 2025-06-11 00:15:40,051] Trial 9 finished with value: 1445.4143646240234 and parameters: {'lr': 0.0006051161457476943, 'weight_decay': 0.0021389237608060102, 'dropout': 0.20258666053095936, 'batch_size': 32, 'activation': 'relu'}. Best is trial 1 with value: 285.81169204711915.\n",
      "[I 2025-06-11 00:15:51,071] Trial 10 finished with value: 938.2464965820312 and parameters: {'lr': 0.002118758344467324, 'weight_decay': 0.00973067062698054, 'dropout': 0.029277487512172906, 'batch_size': 64, 'activation': 'relu'}. Best is trial 1 with value: 285.81169204711915.\n",
      "[I 2025-06-11 00:16:02,273] Trial 11 finished with value: 218.41561737060547 and parameters: {'lr': 0.008466440728315757, 'weight_decay': 4.048857552020079e-05, 'dropout': 0.25582411566437124, 'batch_size': 64, 'activation': 'leaky_relu'}. Best is trial 11 with value: 218.41561737060547.\n",
      "[I 2025-06-11 00:16:13,397] Trial 12 finished with value: 224.9326629638672 and parameters: {'lr': 0.00969411224486053, 'weight_decay': 2.385747471312079e-05, 'dropout': 0.26364444513686136, 'batch_size': 64, 'activation': 'leaky_relu'}. Best is trial 11 with value: 218.41561737060547.\n",
      "[I 2025-06-11 00:16:24,453] Trial 13 finished with value: 246.20350341796876 and parameters: {'lr': 0.009297976711343126, 'weight_decay': 1.984982067130906e-05, 'dropout': 0.2409028103718533, 'batch_size': 64, 'activation': 'leaky_relu'}. Best is trial 11 with value: 218.41561737060547.\n",
      "[I 2025-06-11 00:16:35,602] Trial 14 finished with value: 1675.1354370117188 and parameters: {'lr': 0.00015391112362623708, 'weight_decay': 2.3075148723021506e-05, 'dropout': 0.48881858552657503, 'batch_size': 64, 'activation': 'leaky_relu'}. Best is trial 11 with value: 218.41561737060547.\n",
      "[I 2025-06-11 00:16:46,830] Trial 15 finished with value: 1507.6473876953125 and parameters: {'lr': 0.0009356451538566505, 'weight_decay': 4.7678317331107675e-06, 'dropout': 0.17465359329285618, 'batch_size': 64, 'activation': 'leaky_relu'}. Best is trial 11 with value: 218.41561737060547.\n",
      "[I 2025-06-11 00:16:57,938] Trial 16 finished with value: 560.1552276611328 and parameters: {'lr': 0.0031459196889913454, 'weight_decay': 5.560052824770752e-05, 'dropout': 0.2787323507534305, 'batch_size': 64, 'activation': 'leaky_relu'}. Best is trial 11 with value: 218.41561737060547.\n",
      "[I 2025-06-11 00:17:08,881] Trial 17 finished with value: 1673.3221313476563 and parameters: {'lr': 0.00016966621315065073, 'weight_decay': 6.979398142314452e-06, 'dropout': 0.07974903045885229, 'batch_size': 64, 'activation': 'leaky_relu'}. Best is trial 11 with value: 218.41561737060547.\n",
      "[I 2025-06-11 00:17:20,049] Trial 18 finished with value: 221.90823974609376 and parameters: {'lr': 0.00870021558728325, 'weight_decay': 9.021471665986595e-05, 'dropout': 0.2263878388954201, 'batch_size': 64, 'activation': 'gelu'}. Best is trial 11 with value: 218.41561737060547.\n",
      "[I 2025-06-11 00:17:31,219] Trial 19 finished with value: 258.3413589477539 and parameters: {'lr': 0.004242948573756893, 'weight_decay': 0.00012079429301308216, 'dropout': 0.2019622458150946, 'batch_size': 64, 'activation': 'gelu'}. Best is trial 11 with value: 218.41561737060547.\n",
      "[I 2025-06-11 00:17:50,454] Trial 20 finished with value: 559.5413970947266 and parameters: {'lr': 0.001518868642608897, 'weight_decay': 5.806876974561016e-05, 'dropout': 0.3054424814900797, 'batch_size': 32, 'activation': 'gelu'}. Best is trial 11 with value: 218.41561737060547.\n",
      "[I 2025-06-11 00:18:01,875] Trial 21 finished with value: 225.63613739013672 and parameters: {'lr': 0.009686788154324348, 'weight_decay': 9.696673547581785e-06, 'dropout': 0.2474829287373482, 'batch_size': 64, 'activation': 'gelu'}. Best is trial 11 with value: 218.41561737060547.\n",
      "[I 2025-06-11 00:18:12,999] Trial 22 finished with value: 217.67692108154296 and parameters: {'lr': 0.008981519079783163, 'weight_decay': 4.792043919562032e-05, 'dropout': 0.2235527349501633, 'batch_size': 64, 'activation': 'gelu'}. Best is trial 22 with value: 217.67692108154296.\n",
      "[I 2025-06-11 00:18:24,141] Trial 23 finished with value: 275.6503204345703 and parameters: {'lr': 0.003811410616012197, 'weight_decay': 5.9898399754682964e-05, 'dropout': 0.1588364774726191, 'batch_size': 64, 'activation': 'gelu'}. Best is trial 22 with value: 217.67692108154296.\n",
      "[I 2025-06-11 00:18:35,155] Trial 24 finished with value: 277.3927734375 and parameters: {'lr': 0.005884255087666364, 'weight_decay': 0.0001853655794173275, 'dropout': 0.21204755356301752, 'batch_size': 64, 'activation': 'gelu'}. Best is trial 22 with value: 217.67692108154296.\n",
      "[I 2025-06-11 00:18:46,615] Trial 25 finished with value: 1581.4657348632813 and parameters: {'lr': 0.000680082460341453, 'weight_decay': 4.663841919729953e-05, 'dropout': 0.12072229291772296, 'batch_size': 64, 'activation': 'gelu'}. Best is trial 22 with value: 217.67692108154296.\n",
      "[I 2025-06-11 00:18:58,021] Trial 26 finished with value: 1028.362158203125 and parameters: {'lr': 0.0019582619669330907, 'weight_decay': 0.00029526708562567885, 'dropout': 0.3007800371991422, 'batch_size': 64, 'activation': 'gelu'}. Best is trial 22 with value: 217.67692108154296.\n",
      "[I 2025-06-11 00:19:09,573] Trial 27 finished with value: 217.38408660888672 and parameters: {'lr': 0.005589010994074508, 'weight_decay': 1.1906353862455155e-05, 'dropout': 0.2214033785244307, 'batch_size': 64, 'activation': 'gelu'}. Best is trial 27 with value: 217.38408660888672.\n",
      "[I 2025-06-11 00:19:28,767] Trial 28 finished with value: 244.9665313720703 and parameters: {'lr': 0.004718948568737359, 'weight_decay': 1.1160554795971752e-05, 'dropout': 0.17250677699751626, 'batch_size': 32, 'activation': 'gelu'}. Best is trial 27 with value: 217.38408660888672.\n",
      "[I 2025-06-11 00:19:36,168] Trial 29 finished with value: 481.86359252929685 and parameters: {'lr': 0.005669546601792242, 'weight_decay': 3.946956872554551e-06, 'dropout': 0.07331320120169221, 'batch_size': 128, 'activation': 'gelu'}. Best is trial 27 with value: 217.38408660888672.\n",
      "[I 2025-06-11 00:19:47,728] Trial 30 finished with value: 834.8298797607422 and parameters: {'lr': 0.002355254960784243, 'weight_decay': 1.12646139469198e-06, 'dropout': 0.31591832041074963, 'batch_size': 64, 'activation': 'gelu'}. Best is trial 27 with value: 217.38408660888672.\n",
      "[I 2025-06-11 00:19:59,514] Trial 31 finished with value: 225.31800537109376 and parameters: {'lr': 0.00675835036856968, 'weight_decay': 4.078755562195976e-05, 'dropout': 0.22605607685305862, 'batch_size': 64, 'activation': 'gelu'}. Best is trial 27 with value: 217.38408660888672.\n",
      "[I 2025-06-11 00:20:11,309] Trial 32 finished with value: 454.8192626953125 and parameters: {'lr': 0.0031463992576809966, 'weight_decay': 8.300794431685694e-05, 'dropout': 0.2773726449437276, 'batch_size': 64, 'activation': 'gelu'}. Best is trial 27 with value: 217.38408660888672.\n",
      "[I 2025-06-11 00:20:22,819] Trial 33 finished with value: 223.4639114379883 and parameters: {'lr': 0.007264958802797434, 'weight_decay': 3.077446409060073e-05, 'dropout': 0.2003142814352175, 'batch_size': 64, 'activation': 'gelu'}. Best is trial 27 with value: 217.38408660888672.\n",
      "[I 2025-06-11 00:20:34,262] Trial 34 finished with value: 272.87184143066406 and parameters: {'lr': 0.004147435107142073, 'weight_decay': 1.2790855537772285e-05, 'dropout': 0.3692024568131226, 'batch_size': 64, 'activation': 'gelu'}. Best is trial 27 with value: 217.38408660888672.\n",
      "[I 2025-06-11 00:21:07,192] Trial 35 finished with value: 281.5044746398926 and parameters: {'lr': 0.009600038402914448, 'weight_decay': 0.000764250057872983, 'dropout': 0.23544356687915607, 'batch_size': 16, 'activation': 'leaky_relu'}. Best is trial 27 with value: 217.38408660888672.\n",
      "[I 2025-06-11 00:21:26,406] Trial 36 finished with value: 890.1720947265625 and parameters: {'lr': 0.0011722203833294494, 'weight_decay': 0.00015809303895714455, 'dropout': 0.1818349635306346, 'batch_size': 32, 'activation': 'relu'}. Best is trial 27 with value: 217.38408660888672.\n",
      "[I 2025-06-11 00:21:34,007] Trial 37 finished with value: 1681.816943359375 and parameters: {'lr': 7.741650618127305e-05, 'weight_decay': 8.838814338213328e-05, 'dropout': 0.1353674351435188, 'batch_size': 128, 'activation': 'gelu'}. Best is trial 27 with value: 217.38408660888672.\n",
      "[I 2025-06-11 00:22:08,176] Trial 38 finished with value: 287.9115177154541 and parameters: {'lr': 0.002754746490125667, 'weight_decay': 2.6735146094732202e-06, 'dropout': 0.284309085822755, 'batch_size': 16, 'activation': 'gelu'}. Best is trial 27 with value: 217.38408660888672.\n",
      "[I 2025-06-11 00:22:19,147] Trial 39 finished with value: 219.5125244140625 and parameters: {'lr': 0.006945865971271697, 'weight_decay': 1.3935214531017143e-05, 'dropout': 0.3419085537683465, 'batch_size': 64, 'activation': 'relu'}. Best is trial 27 with value: 217.38408660888672.\n",
      "[I 2025-06-11 00:22:26,573] Trial 40 finished with value: 1543.7472900390626 and parameters: {'lr': 0.0016506325872005668, 'weight_decay': 6.430299890267405e-06, 'dropout': 0.43076901100688664, 'batch_size': 128, 'activation': 'relu'}. Best is trial 27 with value: 217.38408660888672.\n",
      "[I 2025-06-11 00:22:37,595] Trial 41 finished with value: 231.34540252685548 and parameters: {'lr': 0.006694663300623028, 'weight_decay': 1.551161235542462e-05, 'dropout': 0.33353497119283443, 'batch_size': 64, 'activation': 'relu'}. Best is trial 27 with value: 217.38408660888672.\n",
      "[I 2025-06-11 00:22:48,727] Trial 42 finished with value: 304.74827728271487 and parameters: {'lr': 0.004358062691637375, 'weight_decay': 3.432503386143378e-05, 'dropout': 0.3854713312914354, 'batch_size': 64, 'activation': 'relu'}. Best is trial 27 with value: 217.38408660888672.\n",
      "[I 2025-06-11 00:22:59,656] Trial 43 finished with value: 258.9463485717773 and parameters: {'lr': 0.007466467183258961, 'weight_decay': 0.00026359932576000176, 'dropout': 0.4544678805424165, 'batch_size': 64, 'activation': 'relu'}. Best is trial 27 with value: 217.38408660888672.\n",
      "[I 2025-06-11 00:23:10,770] Trial 44 finished with value: 1682.8713745117188 and parameters: {'lr': 2.3525052428521905e-05, 'weight_decay': 8.201798071596073e-06, 'dropout': 0.3573181907844639, 'batch_size': 64, 'activation': 'relu'}. Best is trial 27 with value: 217.38408660888672.\n",
      "[I 2025-06-11 00:23:43,628] Trial 45 finished with value: 270.65977516174314 and parameters: {'lr': 0.005173630229555058, 'weight_decay': 8.302149462347754e-05, 'dropout': 0.2613277363336946, 'batch_size': 16, 'activation': 'leaky_relu'}. Best is trial 27 with value: 217.38408660888672.\n",
      "[I 2025-06-11 00:23:54,930] Trial 46 finished with value: 463.5950042724609 and parameters: {'lr': 0.0031298280895639377, 'weight_decay': 1.744524645093027e-05, 'dropout': 0.22707671442675786, 'batch_size': 64, 'activation': 'relu'}. Best is trial 27 with value: 217.38408660888672.\n",
      "[I 2025-06-11 00:24:08,275] Trial 47 finished with value: 226.81240539550782 and parameters: {'lr': 0.007826961063195264, 'weight_decay': 0.0004922531090192988, 'dropout': 0.254737308224541, 'batch_size': 64, 'activation': 'leaky_relu'}. Best is trial 27 with value: 217.38408660888672.\n",
      "[I 2025-06-11 00:24:20,901] Trial 48 finished with value: 245.58773651123047 and parameters: {'lr': 0.005410342697889754, 'weight_decay': 2.316587374831179e-06, 'dropout': 0.29592558804662394, 'batch_size': 64, 'activation': 'gelu'}. Best is trial 27 with value: 217.38408660888672.\n",
      "[I 2025-06-11 00:24:40,126] Trial 49 finished with value: 1609.94912109375 and parameters: {'lr': 0.00031123304198507737, 'weight_decay': 2.758980063081601e-05, 'dropout': 0.18679492714406018, 'batch_size': 32, 'activation': 'leaky_relu'}. Best is trial 27 with value: 217.38408660888672.\n"
     ]
    },
    {
     "name": "stdout",
     "output_type": "stream",
     "text": [
      "Best trial: FrozenTrial(number=27, state=TrialState.COMPLETE, values=[217.38408660888672], datetime_start=datetime.datetime(2025, 6, 11, 0, 18, 58, 22171), datetime_complete=datetime.datetime(2025, 6, 11, 0, 19, 9, 572686), params={'lr': 0.005589010994074508, 'weight_decay': 1.1906353862455155e-05, 'dropout': 0.2214033785244307, 'batch_size': 64, 'activation': 'gelu'}, user_attrs={}, system_attrs={}, intermediate_values={}, distributions={'lr': FloatDistribution(high=0.01, log=True, low=1e-05, step=None), 'weight_decay': FloatDistribution(high=0.01, log=True, low=1e-06, step=None), 'dropout': FloatDistribution(high=0.5, log=False, low=0.0, step=None), 'batch_size': CategoricalDistribution(choices=(16, 32, 64, 128)), 'activation': CategoricalDistribution(choices=('relu', 'leaky_relu', 'gelu'))}, trial_id=27, value=None)\n",
      "Best params: {'lr': 0.005589010994074508, 'weight_decay': 1.1906353862455155e-05, 'dropout': 0.2214033785244307, 'batch_size': 64, 'activation': 'gelu'}\n"
     ]
    }
   ],
   "source": [
    "study = optuna.create_study(direction=\"minimize\")\n",
    "study.optimize(objective, n_trials=50)\n",
    "\n",
    "print(\"Best trial:\", study.best_trial)\n",
    "print(\"Best params:\", study.best_params)"
   ]
  },
  {
   "cell_type": "code",
   "execution_count": null,
   "id": "20696f6d-4a9d-420a-9cb2-1242f27f0011",
   "metadata": {},
   "outputs": [],
   "source": [
    "# Best params: {'lr': 0.005589010994074508, 'weight_decay': 1.1906353862455155e-05, 'dropout': 0.2214033785244307, 'batch_size': 64, 'activation': 'gelu'}"
   ]
  }
 ],
 "metadata": {
  "kernelspec": {
   "display_name": "Python 3 (ipykernel)",
   "language": "python",
   "name": "python3"
  },
  "language_info": {
   "codemirror_mode": {
    "name": "ipython",
    "version": 3
   },
   "file_extension": ".py",
   "mimetype": "text/x-python",
   "name": "python",
   "nbconvert_exporter": "python",
   "pygments_lexer": "ipython3",
   "version": "3.10.7"
  }
 },
 "nbformat": 4,
 "nbformat_minor": 5
}
