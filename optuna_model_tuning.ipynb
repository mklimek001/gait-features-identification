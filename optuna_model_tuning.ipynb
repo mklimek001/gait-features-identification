{
 "cells": [
  {
   "cell_type": "code",
   "execution_count": 1,
   "id": "9310ab85-e16b-41ad-af02-d20945c7f573",
   "metadata": {},
   "outputs": [
    {
     "name": "stdout",
     "output_type": "stream",
     "text": [
      "CUDA available: True\n",
      "CUDA device: NVIDIA GeForce RTX 3050 Ti Laptop GPU\n"
     ]
    }
   ],
   "source": [
    "import torch\n",
    "import warnings\n",
    "\n",
    "# warnings.filterwarnings('ignore')\n",
    "print(f\"CUDA available: {torch.cuda.is_available()}\")\n",
    "print(f\"CUDA device: {torch.cuda.get_device_name(0)}\")\n",
    "\n",
    "device = torch.device(\"cuda\" if torch.cuda.is_available() else \"cpu\")"
   ]
  },
  {
   "cell_type": "code",
   "execution_count": 2,
   "id": "81fe0e6f-88c4-4593-8868-15a2d1a402c9",
   "metadata": {},
   "outputs": [],
   "source": [
    "# ! pip install ipywidgets\n",
    "# ! jupyter nbextension enable --py widgetsnbextension"
   ]
  },
  {
   "cell_type": "code",
   "execution_count": 3,
   "id": "e5523c60-36c5-4036-9527-3d36d67d4bc4",
   "metadata": {},
   "outputs": [],
   "source": [
    "from scripts.parsers import parse_sequences as parse_sequence_info\n",
    "\n",
    "file_path = 'gait3d\\\\ListOfSequences.txt'\n",
    "sequences = parse_sequence_info(file_path)"
   ]
  },
  {
   "cell_type": "code",
   "execution_count": 4,
   "id": "0c8e5b1b-7561-48db-9146-e9782a2f232d",
   "metadata": {},
   "outputs": [],
   "source": [
    "import json\n",
    "\n",
    "selected_names_file = \"./datasets/yolo/selected_joint_names.json\"\n",
    "input_data_file = \"./datasets/yolo/dataset_v2.json\"\n",
    "output_data_file = \"./datasets/mocap/dataset_v2.json\"\n",
    "triang_data_file = \"./datasets/yolo/triangulation_v2.json\"\n",
    "\n",
    "with open(input_data_file, 'r') as file:\n",
    "    raw_input = json.load(file)\n",
    "\n",
    "with open(output_data_file, 'r') as file:\n",
    "    raw_output = json.load(file)\n",
    "\n",
    "with open(triang_data_file, 'r') as file:\n",
    "    triangulation_data = json.load(file)\n"
   ]
  },
  {
   "cell_type": "code",
   "execution_count": 5,
   "id": "fd6c489a-c230-4f87-8b73-457344e99e12",
   "metadata": {},
   "outputs": [
    {
     "data": {
      "text/plain": [
       "{'5': 'lhumerus',\n",
       " '6': 'rhumerus',\n",
       " '11': 'lfemur',\n",
       " '12': 'rfemur',\n",
       " '13': 'ltibia',\n",
       " '14': 'rtibia',\n",
       " '15': 'lfoot',\n",
       " '16': 'rfoot'}"
      ]
     },
     "execution_count": 5,
     "metadata": {},
     "output_type": "execute_result"
    }
   ],
   "source": [
    "with open(selected_names_file, 'r') as file:\n",
    "    selected_names = json.load(file)\n",
    "\n",
    "# selected_names.pop('15')\n",
    "# selected_names.pop('16')\n",
    "# selected_names.pop('13')\n",
    "# selected_names.pop('14')\n",
    "selected_names"
   ]
  },
  {
   "cell_type": "code",
   "execution_count": 6,
   "id": "309a9e4a-60fa-4cd6-99cb-b5445096327c",
   "metadata": {},
   "outputs": [
    {
     "name": "stdout",
     "output_type": "stream",
     "text": [
      "test sequences: ['p16s1', 'p16s3', 'p13s1', 'p13s3', 'p4s1', 'p4s3', 'p29s5', 'p29s7', 'p26s5', 'p26s7']\n",
      "valid sequences: ['p8s1', 'p8s3', 'p19s1', 'p19s3', 'p3s1', 'p3s3', 'p31s5', 'p31s7', 'p27s5', 'p27s7']\n",
      "train sequences: ['p29s1', 'p29s3', 'p17s1', 'p17s3', 'p25s1', 'p25s3', 'p18s1', 'p18s3', 'p10s1', 'p10s3', 'p30s1', 'p30s3', 'p28s1', 'p28s3', 'p14s1', 'p14s3', 'p21s1', 'p21s3', 'p23s1', 'p23s3', 'p31s1', 'p31s3', 'p7s1', 'p7s3', 'p6s1', 'p6s3', 'p15s1', 'p15s3', 'p12s1', 'p12s3', 'p1s1', 'p1s3', 'p11s1', 'p11s3', 'p32s1', 'p32s3', 'p5s1', 'p5s3', 'p20s1', 'p20s3', 'p27s1', 'p27s3', 'p22s1', 'p22s3', 'p26s1', 'p26s3', 'p24s1', 'p24s3', 'p9s1', 'p9s3', 'p2s1', 'p2s3', 'p30s5', 'p30s7', 'p28s5', 'p28s7']\n"
     ]
    }
   ],
   "source": [
    "from utils.torch_train_utils import get_train_valid_test_set, MoCapInputDataset\n",
    "from torch.utils.data import DataLoader\n",
    "\n",
    "with open(\"./datasets/train_test_split.json\", \"r\") as f:\n",
    "    train_test_split = json.load(f)\n",
    "\n",
    "train_seq_set = train_test_split[\"train\"]\n",
    "valid_seq_set = train_test_split[\"valid\"]\n",
    "test_seq_set = train_test_split[\"test\"]\n",
    "\n",
    "print(f\"test sequences: {test_seq_set}\")\n",
    "print(f\"valid sequences: {valid_seq_set}\")\n",
    "print(f\"train sequences: {train_seq_set}\")\n",
    "\n",
    "train_ds = MoCapInputDataset(train_seq_set, sequences, selected_names, raw_input, raw_output)\n",
    "valid_ds = MoCapInputDataset(valid_seq_set, sequences, selected_names, raw_input, raw_output)\n",
    "test_ds = MoCapInputDataset(test_seq_set, sequences, selected_names, raw_input, raw_output)\n",
    "\n",
    "train_loader = DataLoader(train_ds, batch_size=32, shuffle=True)\n",
    "val_loader = DataLoader(valid_ds, batch_size=32, shuffle=False)\n",
    "test_loader = DataLoader(test_ds, batch_size=32, shuffle=False)"
   ]
  },
  {
   "cell_type": "code",
   "execution_count": 7,
   "id": "93e7045c-e416-4bff-ac14-3b39c63bf5cc",
   "metadata": {},
   "outputs": [],
   "source": [
    "import torch\n",
    "import torch.nn as nn\n",
    "import torch.nn.functional as F\n",
    "\n",
    "\n",
    "class CustomNetForOptuna(nn.Module):\n",
    "    def __init__(self, dropout=0.2, activation_name=\"relu\"):\n",
    "        super(CustomNetForOptuna, self).__init__()\n",
    "        \n",
    "        # to try different activation functions\n",
    "        activations = {\n",
    "            \"relu\": nn.ReLU(),\n",
    "            \"leaky_relu\": nn.LeakyReLU(),\n",
    "            \"gelu\": nn.GELU(),\n",
    "        }\n",
    "        self.activation = activations[activation_name]\n",
    "\n",
    "        self.conv1d1 = [\n",
    "            nn.Conv1d(in_channels=2, out_channels=8, kernel_size=2, padding=1) for _ in range(4) \n",
    "        ]\n",
    "        self.conv1d2 = [\n",
    "            nn.Conv1d(in_channels=8, out_channels=1, kernel_size=2) for _ in range(4)\n",
    "        ]\n",
    "        \n",
    "        self.bn1 = nn.BatchNorm1d(32)\n",
    "        self.fc1 = nn.Linear(32, 48)\n",
    "        self.dropout1 = nn.Dropout(p=dropout)\n",
    "        self.bn2 = nn.BatchNorm1d(48)\n",
    "        self.fc2 = nn.Linear(48, 32)\n",
    "        self.dropout2 = nn.Dropout(p=dropout)\n",
    "        self.bn3 = nn.BatchNorm1d(32)\n",
    "        self.fc3 = nn.Linear(32, 24)\n",
    "\n",
    "    def forward(self, x):\n",
    "        conv_outs = []\n",
    "        for i, xi in enumerate(x):\n",
    "            xi = xi.permute(0, 2, 1)\n",
    "            conv = self.conv1d1[i](xi)\n",
    "            conv = self.conv1d2[i](conv)\n",
    "            conv = conv.squeeze(1)\n",
    "            conv_outs.append(conv)\n",
    "\n",
    "        concat = torch.cat(conv_outs, dim=1)\n",
    "        out = self.bn1(concat)\n",
    "        out = self.activation(self.bn2(self.fc1(out)))\n",
    "        out = self.dropout1(out)\n",
    "        out = self.activation(self.bn3(self.fc2(out)))\n",
    "        out = self.dropout2(out)\n",
    "        out = self.fc3(out)\n",
    "        return out.view(-1, 8, 3)\n"
   ]
  },
  {
   "cell_type": "code",
   "execution_count": 8,
   "id": "c8767493-0aa8-44e2-9a6b-71c589dcfe8a",
   "metadata": {},
   "outputs": [],
   "source": [
    "import optuna\n",
    "from torch.optim import AdamW\n",
    "\n",
    "from utils.torch_train_utils import MPJPE\n",
    "\n",
    "\n",
    "def objective(trial):\n",
    "    lr = trial.suggest_float(\"lr\", 1e-5, 1e-2, log=True)\n",
    "    weight_decay = trial.suggest_float(\"weight_decay\", 1e-6, 1e-2, log=True)\n",
    "    dropout = trial.suggest_float(\"dropout\", 0.0, 0.5)\n",
    "    batch_size = trial.suggest_categorical(\"batch_size\", [16, 32, 64, 128])\n",
    "    activation = trial.suggest_categorical(\"activation\", [\"relu\", \"leaky_relu\", \"gelu\"])\n",
    "\n",
    "    train_loader =  DataLoader(train_ds, batch_size=batch_size, shuffle=True)\n",
    "    val_loader = DataLoader(valid_ds, batch_size=batch_size)\n",
    "\n",
    "    model = CustomNetForOptuna(dropout=dropout, activation_name=activation)\n",
    "    criterion = MPJPE()\n",
    "    optimizer = torch.optim.AdamW(model.parameters(), lr=lr, weight_decay=weight_decay)\n",
    "\n",
    "    for epoch in range(20):\n",
    "        model.train()\n",
    "        for inputs, targets in train_loader:\n",
    "            inputs = [x for x in inputs]\n",
    "            targets = targets\n",
    "\n",
    "            outputs = model(inputs)\n",
    "            loss = criterion(outputs, targets)\n",
    "\n",
    "            optimizer.zero_grad()\n",
    "            loss.backward()\n",
    "            optimizer.step()\n",
    "\n",
    "    model.eval()\n",
    "    val_loss = 0\n",
    "    with torch.no_grad():\n",
    "        for inputs, targets in val_loader:\n",
    "            inputs = [x for x in inputs]\n",
    "            targets = targets\n",
    "            preds = model(inputs)\n",
    "            val_loss += criterion(preds, targets).item()\n",
    "\n",
    "    return val_loss / len(val_loader)\n"
   ]
  },
  {
   "cell_type": "code",
   "execution_count": 9,
   "id": "1dfabca8-b04d-4f21-80eb-3ddf667eb533",
   "metadata": {},
   "outputs": [
    {
     "name": "stderr",
     "output_type": "stream",
     "text": [
      "[I 2025-06-11 14:44:16,874] A new study created in memory with name: no-name-598d83e2-2d72-4098-a3bd-42b9dbb41219\n",
      "[I 2025-06-11 14:45:12,717] Trial 0 finished with value: 698.4949506928649 and parameters: {'lr': 0.0005353215669798367, 'weight_decay': 1.3551460681416512e-06, 'dropout': 0.2833371083229823, 'batch_size': 16, 'activation': 'leaky_relu'}. Best is trial 0 with value: 698.4949506928649.\n",
      "[I 2025-06-11 14:46:06,193] Trial 1 finished with value: 345.3385197120377 and parameters: {'lr': 0.009559834182734768, 'weight_decay': 3.053454638320827e-06, 'dropout': 0.10012291351859115, 'batch_size': 16, 'activation': 'relu'}. Best is trial 1 with value: 345.3385197120377.\n",
      "[I 2025-06-11 14:47:01,695] Trial 2 finished with value: 1657.2042244054094 and parameters: {'lr': 1.883512471023763e-05, 'weight_decay': 1.4858212771302758e-05, 'dropout': 0.10998052412329196, 'batch_size': 16, 'activation': 'gelu'}. Best is trial 1 with value: 345.3385197120377.\n",
      "[I 2025-06-11 14:47:13,609] Trial 3 finished with value: 904.9468994140625 and parameters: {'lr': 0.0026453628931144284, 'weight_decay': 0.002204317549163924, 'dropout': 0.25598573613327213, 'batch_size': 128, 'activation': 'relu'}. Best is trial 1 with value: 345.3385197120377.\n",
      "[I 2025-06-11 14:47:25,608] Trial 4 finished with value: 1657.6315795898438 and parameters: {'lr': 1.2225466311771505e-05, 'weight_decay': 0.0003482963002765194, 'dropout': 0.43575661843745217, 'batch_size': 128, 'activation': 'leaky_relu'}. Best is trial 1 with value: 345.3385197120377.\n",
      "[I 2025-06-11 14:47:56,536] Trial 5 finished with value: 1571.4868850708008 and parameters: {'lr': 0.0002441866126861157, 'weight_decay': 0.00014032437972006715, 'dropout': 0.44866989255055945, 'batch_size': 32, 'activation': 'gelu'}. Best is trial 1 with value: 345.3385197120377.\n",
      "[I 2025-06-11 14:48:14,995] Trial 6 finished with value: 169.74633140563964 and parameters: {'lr': 0.006368425169214278, 'weight_decay': 0.0006340336847511847, 'dropout': 0.1033937497054111, 'batch_size': 64, 'activation': 'gelu'}. Best is trial 6 with value: 169.74633140563964.\n",
      "[I 2025-06-11 14:48:26,977] Trial 7 finished with value: 182.6218734741211 and parameters: {'lr': 0.009989603639561773, 'weight_decay': 7.657687279325974e-06, 'dropout': 0.1749169502957364, 'batch_size': 128, 'activation': 'leaky_relu'}. Best is trial 6 with value: 169.74633140563964.\n",
      "[I 2025-06-11 14:49:20,739] Trial 8 finished with value: 303.4059554474263 and parameters: {'lr': 0.001956791116547399, 'weight_decay': 0.0003076112640691976, 'dropout': 0.22216272184687003, 'batch_size': 16, 'activation': 'leaky_relu'}. Best is trial 6 with value: 169.74633140563964.\n",
      "[I 2025-06-11 14:49:38,579] Trial 9 finished with value: 1608.3030395507812 and parameters: {'lr': 0.0003158446457399609, 'weight_decay': 0.0007780028975394572, 'dropout': 0.4622643898782583, 'batch_size': 64, 'activation': 'leaky_relu'}. Best is trial 6 with value: 169.74633140563964.\n",
      "[I 2025-06-11 14:49:56,676] Trial 10 finished with value: 1658.373760986328 and parameters: {'lr': 4.10701918606626e-05, 'weight_decay': 0.008062145419247529, 'dropout': 0.03880623121856508, 'batch_size': 64, 'activation': 'gelu'}. Best is trial 6 with value: 169.74633140563964.\n",
      "[I 2025-06-11 14:50:09,386] Trial 11 finished with value: 212.30791015625 and parameters: {'lr': 0.008961272174201786, 'weight_decay': 2.3586475142689615e-05, 'dropout': 0.1756783440570345, 'batch_size': 128, 'activation': 'gelu'}. Best is trial 6 with value: 169.74633140563964.\n",
      "[I 2025-06-11 14:50:27,875] Trial 12 finished with value: 317.9820037841797 and parameters: {'lr': 0.0024772133642580203, 'weight_decay': 2.763568676910089e-05, 'dropout': 0.03768547214372325, 'batch_size': 64, 'activation': 'gelu'}. Best is trial 6 with value: 169.74633140563964.\n",
      "[I 2025-06-11 14:50:57,933] Trial 13 finished with value: 640.8725372314453 and parameters: {'lr': 0.000965699789811889, 'weight_decay': 5.561822497321586e-06, 'dropout': 0.3120002596943843, 'batch_size': 32, 'activation': 'leaky_relu'}. Best is trial 6 with value: 169.74633140563964.\n",
      "[I 2025-06-11 14:51:15,612] Trial 14 finished with value: 213.65327987670898 and parameters: {'lr': 0.004716843056900841, 'weight_decay': 7.525345118891391e-05, 'dropout': 0.15114671305415228, 'batch_size': 64, 'activation': 'relu'}. Best is trial 6 with value: 169.74633140563964.\n",
      "[I 2025-06-11 14:51:27,346] Trial 15 finished with value: 1653.1612548828125 and parameters: {'lr': 0.0001235507463232302, 'weight_decay': 0.0023703910614460482, 'dropout': 0.007619544219490432, 'batch_size': 128, 'activation': 'leaky_relu'}. Best is trial 6 with value: 169.74633140563964.\n",
      "[I 2025-06-11 14:51:45,726] Trial 16 finished with value: 1238.190396118164 and parameters: {'lr': 0.001006084212903189, 'weight_decay': 7.874771187496933e-05, 'dropout': 0.35152184057004776, 'batch_size': 64, 'activation': 'gelu'}. Best is trial 6 with value: 169.74633140563964.\n",
      "[I 2025-06-11 14:51:57,664] Trial 17 finished with value: 274.94274139404297 and parameters: {'lr': 0.0048561941437255006, 'weight_decay': 6.940312036808774e-06, 'dropout': 0.19680948256049474, 'batch_size': 128, 'activation': 'leaky_relu'}. Best is trial 6 with value: 169.74633140563964.\n",
      "[I 2025-06-11 14:52:28,612] Trial 18 finished with value: 191.04256210327148 and parameters: {'lr': 0.0047500687596972605, 'weight_decay': 0.0012010125428888558, 'dropout': 0.11016902843054963, 'batch_size': 32, 'activation': 'gelu'}. Best is trial 6 with value: 169.74633140563964.\n",
      "[I 2025-06-11 14:52:40,145] Trial 19 finished with value: 1654.62255859375 and parameters: {'lr': 9.717899654602084e-05, 'weight_decay': 1.1244249266370427e-06, 'dropout': 0.35377081613582806, 'batch_size': 128, 'activation': 'relu'}. Best is trial 6 with value: 169.74633140563964.\n",
      "[I 2025-06-11 14:52:58,493] Trial 20 finished with value: 991.5693420410156 and parameters: {'lr': 0.0012917365956057953, 'weight_decay': 0.008245040527887992, 'dropout': 0.14065043293700416, 'batch_size': 64, 'activation': 'gelu'}. Best is trial 6 with value: 169.74633140563964.\n",
      "[I 2025-06-11 14:53:29,246] Trial 21 finished with value: 199.23829078674316 and parameters: {'lr': 0.005046812141459491, 'weight_decay': 0.0010201785884566962, 'dropout': 0.07785409752489575, 'batch_size': 32, 'activation': 'gelu'}. Best is trial 6 with value: 169.74633140563964.\n",
      "[I 2025-06-11 14:54:00,205] Trial 22 finished with value: 188.29126834869385 and parameters: {'lr': 0.008897497260566168, 'weight_decay': 0.0021955288694916523, 'dropout': 0.07271746366471227, 'batch_size': 32, 'activation': 'gelu'}. Best is trial 6 with value: 169.74633140563964.\n",
      "[I 2025-06-11 14:54:31,815] Trial 23 finished with value: 197.65862731933595 and parameters: {'lr': 0.008155104208385357, 'weight_decay': 0.0036820076762453698, 'dropout': 0.0645016748769085, 'batch_size': 32, 'activation': 'gelu'}. Best is trial 6 with value: 169.74633140563964.\n",
      "[I 2025-06-11 14:55:02,605] Trial 24 finished with value: 192.8476104736328 and parameters: {'lr': 0.00301072957773263, 'weight_decay': 0.00040175100762707654, 'dropout': 0.0002708334058474926, 'batch_size': 32, 'activation': 'gelu'}. Best is trial 6 with value: 169.74633140563964.\n",
      "[I 2025-06-11 14:55:32,276] Trial 25 finished with value: 186.99322929382325 and parameters: {'lr': 0.006148247505190372, 'weight_decay': 0.0002120338995107449, 'dropout': 0.14980392833137327, 'batch_size': 32, 'activation': 'leaky_relu'}. Best is trial 6 with value: 169.74633140563964.\n",
      "[I 2025-06-11 14:55:50,345] Trial 26 finished with value: 1513.3847412109376 and parameters: {'lr': 0.0005444994827302042, 'weight_decay': 4.920854865591568e-05, 'dropout': 0.20733268564373886, 'batch_size': 64, 'activation': 'leaky_relu'}. Best is trial 6 with value: 169.74633140563964.\n",
      "[I 2025-06-11 14:56:02,289] Trial 27 finished with value: 407.6585662841797 and parameters: {'lr': 0.004052046343238069, 'weight_decay': 0.00016562151926993306, 'dropout': 0.15579627354854872, 'batch_size': 128, 'activation': 'leaky_relu'}. Best is trial 6 with value: 169.74633140563964.\n",
      "[I 2025-06-11 14:56:14,531] Trial 28 finished with value: 1269.1278442382813 and parameters: {'lr': 0.0018301697100954102, 'weight_decay': 4.072175064723799e-05, 'dropout': 0.24864655646653416, 'batch_size': 128, 'activation': 'leaky_relu'}. Best is trial 6 with value: 169.74633140563964.\n",
      "[I 2025-06-11 14:57:08,450] Trial 29 finished with value: 576.6701718101018 and parameters: {'lr': 0.0005838306923015389, 'weight_decay': 2.974875195975999e-06, 'dropout': 0.13142065026409047, 'batch_size': 16, 'activation': 'leaky_relu'}. Best is trial 6 with value: 169.74633140563964.\n",
      "[I 2025-06-11 14:57:37,907] Trial 30 finished with value: 220.72668685913087 and parameters: {'lr': 0.006505677232842838, 'weight_decay': 0.00018459833467930395, 'dropout': 0.2932344362665894, 'batch_size': 32, 'activation': 'leaky_relu'}. Best is trial 6 with value: 169.74633140563964.\n",
      "[I 2025-06-11 14:58:08,840] Trial 31 finished with value: 177.66289386749267 and parameters: {'lr': 0.009247790628585521, 'weight_decay': 0.0007514754354623737, 'dropout': 0.06482867985563498, 'batch_size': 32, 'activation': 'gelu'}. Best is trial 6 with value: 169.74633140563964.\n",
      "[I 2025-06-11 14:58:39,034] Trial 32 finished with value: 222.34141693115234 and parameters: {'lr': 0.0035137812126386377, 'weight_decay': 0.0005326891561873291, 'dropout': 0.17166095312302287, 'batch_size': 32, 'activation': 'relu'}. Best is trial 6 with value: 169.74633140563964.\n",
      "[I 2025-06-11 14:59:09,321] Trial 33 finished with value: 196.64846153259276 and parameters: {'lr': 0.006337362503787161, 'weight_decay': 0.00022019576490046587, 'dropout': 0.10410279268199506, 'batch_size': 32, 'activation': 'leaky_relu'}. Best is trial 6 with value: 169.74633140563964.\n",
      "[I 2025-06-11 15:00:05,935] Trial 34 finished with value: 275.64604244956485 and parameters: {'lr': 0.008819502108871353, 'weight_decay': 0.0007064082095142361, 'dropout': 0.04542592413225057, 'batch_size': 16, 'activation': 'gelu'}. Best is trial 6 with value: 169.74633140563964.\n",
      "[I 2025-06-11 15:00:37,406] Trial 35 finished with value: 224.0445369720459 and parameters: {'lr': 0.00966370735209169, 'weight_decay': 0.0015785841450918728, 'dropout': 0.12578462800237206, 'batch_size': 32, 'activation': 'relu'}. Best is trial 6 with value: 169.74633140563964.\n",
      "[I 2025-06-11 15:00:57,699] Trial 36 finished with value: 846.738786315918 and parameters: {'lr': 0.0014788285598042298, 'weight_decay': 1.3805780713448312e-05, 'dropout': 0.23465676425605939, 'batch_size': 64, 'activation': 'leaky_relu'}. Best is trial 6 with value: 169.74633140563964.\n",
      "[I 2025-06-11 15:02:00,042] Trial 37 finished with value: 244.8758814365049 and parameters: {'lr': 0.0026465158146182447, 'weight_decay': 2.2379041872982494e-06, 'dropout': 0.18975279073684942, 'batch_size': 16, 'activation': 'gelu'}. Best is trial 6 with value: 169.74633140563964.\n",
      "[I 2025-06-11 15:02:13,655] Trial 38 finished with value: 218.21466979980468 and parameters: {'lr': 0.0066947750604978325, 'weight_decay': 0.00010045731847766421, 'dropout': 0.0921059306467421, 'batch_size': 128, 'activation': 'leaky_relu'}. Best is trial 6 with value: 169.74633140563964.\n",
      "[I 2025-06-11 15:02:46,637] Trial 39 finished with value: 224.33865623474122 and parameters: {'lr': 0.0034143627028991805, 'weight_decay': 0.0002876145779018235, 'dropout': 0.16653480835292245, 'batch_size': 32, 'activation': 'gelu'}. Best is trial 6 with value: 169.74633140563964.\n",
      "[I 2025-06-11 15:03:05,036] Trial 40 finished with value: 1659.2613220214844 and parameters: {'lr': 3.1010727326977694e-05, 'weight_decay': 1.042473241720537e-05, 'dropout': 0.2729006134639833, 'batch_size': 64, 'activation': 'leaky_relu'}. Best is trial 6 with value: 169.74633140563964.\n",
      "[I 2025-06-11 15:03:38,995] Trial 41 finished with value: 177.46437702178955 and parameters: {'lr': 0.009953291789059446, 'weight_decay': 0.003867181676048303, 'dropout': 0.06573597879787256, 'batch_size': 32, 'activation': 'gelu'}. Best is trial 6 with value: 169.74633140563964.\n",
      "[I 2025-06-11 15:04:10,890] Trial 42 finished with value: 181.64999713897706 and parameters: {'lr': 0.006705142061884524, 'weight_decay': 0.0029351978296527316, 'dropout': 0.022803778263795017, 'batch_size': 32, 'activation': 'gelu'}. Best is trial 6 with value: 169.74633140563964.\n",
      "[I 2025-06-11 15:04:42,633] Trial 43 finished with value: 184.93036460876465 and parameters: {'lr': 0.00207131699405659, 'weight_decay': 0.004621895453836485, 'dropout': 0.025890999650520233, 'batch_size': 32, 'activation': 'gelu'}. Best is trial 6 with value: 169.74633140563964.\n",
      "[I 2025-06-11 15:05:14,607] Trial 44 finished with value: 184.22011623382568 and parameters: {'lr': 0.009758590739265398, 'weight_decay': 0.004633254177417322, 'dropout': 0.053708285537272665, 'batch_size': 32, 'activation': 'gelu'}. Best is trial 6 with value: 169.74633140563964.\n",
      "[I 2025-06-11 15:05:45,899] Trial 45 finished with value: 269.3799819946289 and parameters: {'lr': 0.00609525167212186, 'weight_decay': 0.0030287577951978264, 'dropout': 0.49191200806888874, 'batch_size': 32, 'activation': 'gelu'}. Best is trial 6 with value: 169.74633140563964.\n",
      "[I 2025-06-11 15:05:58,683] Trial 46 finished with value: 1657.4896362304687 and parameters: {'lr': 1.0034947306675097e-05, 'weight_decay': 0.0016378231494771727, 'dropout': 0.08495690110402206, 'batch_size': 128, 'activation': 'gelu'}. Best is trial 6 with value: 169.74633140563964.\n",
      "[I 2025-06-11 15:06:17,135] Trial 47 finished with value: 1635.5653228759766 and parameters: {'lr': 0.00020146215912799433, 'weight_decay': 0.007074106074930677, 'dropout': 0.024174482906087952, 'batch_size': 64, 'activation': 'gelu'}. Best is trial 6 with value: 169.74633140563964.\n",
      "[I 2025-06-11 15:07:17,988] Trial 48 finished with value: 236.8019710492484 and parameters: {'lr': 0.0035511585018730457, 'weight_decay': 0.0007784481968384197, 'dropout': 0.11589529314425237, 'batch_size': 16, 'activation': 'gelu'}. Best is trial 6 with value: 169.74633140563964.\n",
      "[I 2025-06-11 15:07:49,031] Trial 49 finished with value: 180.6558168411255 and parameters: {'lr': 0.007061733469297251, 'weight_decay': 0.005959743027564428, 'dropout': 0.01608563977606961, 'batch_size': 32, 'activation': 'gelu'}. Best is trial 6 with value: 169.74633140563964.\n"
     ]
    },
    {
     "name": "stdout",
     "output_type": "stream",
     "text": [
      "Best trial: FrozenTrial(number=6, state=TrialState.COMPLETE, values=[169.74633140563964], datetime_start=datetime.datetime(2025, 6, 11, 14, 47, 56, 537339), datetime_complete=datetime.datetime(2025, 6, 11, 14, 48, 14, 995481), params={'lr': 0.006368425169214278, 'weight_decay': 0.0006340336847511847, 'dropout': 0.1033937497054111, 'batch_size': 64, 'activation': 'gelu'}, user_attrs={}, system_attrs={}, intermediate_values={}, distributions={'lr': FloatDistribution(high=0.01, log=True, low=1e-05, step=None), 'weight_decay': FloatDistribution(high=0.01, log=True, low=1e-06, step=None), 'dropout': FloatDistribution(high=0.5, log=False, low=0.0, step=None), 'batch_size': CategoricalDistribution(choices=(16, 32, 64, 128)), 'activation': CategoricalDistribution(choices=('relu', 'leaky_relu', 'gelu'))}, trial_id=6, value=None)\n",
      "Best params: {'lr': 0.006368425169214278, 'weight_decay': 0.0006340336847511847, 'dropout': 0.1033937497054111, 'batch_size': 64, 'activation': 'gelu'}\n"
     ]
    }
   ],
   "source": [
    "study = optuna.create_study(direction=\"minimize\")\n",
    "study.optimize(objective, n_trials=50)\n",
    "\n",
    "print(\"Best trial:\", study.best_trial)\n",
    "print(\"Best params:\", study.best_params)"
   ]
  },
  {
   "cell_type": "code",
   "execution_count": 10,
   "id": "20696f6d-4a9d-420a-9cb2-1242f27f0011",
   "metadata": {},
   "outputs": [],
   "source": [
    "# Best params: {'lr': 0.006368425169214278, 'weight_decay': 0.0006340336847511847, 'dropout': 0.1033937497054111, 'batch_size': 64, 'activation': 'gelu'}"
   ]
  }
 ],
 "metadata": {
  "kernelspec": {
   "display_name": "Python 3 (ipykernel)",
   "language": "python",
   "name": "python3"
  },
  "language_info": {
   "codemirror_mode": {
    "name": "ipython",
    "version": 3
   },
   "file_extension": ".py",
   "mimetype": "text/x-python",
   "name": "python",
   "nbconvert_exporter": "python",
   "pygments_lexer": "ipython3",
   "version": "3.10.7"
  }
 },
 "nbformat": 4,
 "nbformat_minor": 5
}
