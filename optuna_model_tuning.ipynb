{
 "cells": [
  {
   "cell_type": "code",
   "execution_count": 1,
   "id": "9310ab85-e16b-41ad-af02-d20945c7f573",
   "metadata": {},
   "outputs": [
    {
     "name": "stdout",
     "output_type": "stream",
     "text": [
      "CUDA available: True\n",
      "CUDA device: NVIDIA GeForce RTX 3050 Ti Laptop GPU\n"
     ]
    }
   ],
   "source": [
    "import torch\n",
    "import warnings\n",
    "\n",
    "# warnings.filterwarnings('ignore')\n",
    "print(f\"CUDA available: {torch.cuda.is_available()}\")\n",
    "print(f\"CUDA device: {torch.cuda.get_device_name(0)}\")\n",
    "\n",
    "device = torch.device(\"cuda\" if torch.cuda.is_available() else \"cpu\")"
   ]
  },
  {
   "cell_type": "code",
   "execution_count": 2,
   "id": "81fe0e6f-88c4-4593-8868-15a2d1a402c9",
   "metadata": {},
   "outputs": [],
   "source": [
    "# ! pip install ipywidgets\n",
    "# ! jupyter nbextension enable --py widgetsnbextension"
   ]
  },
  {
   "cell_type": "code",
   "execution_count": 3,
   "id": "e5523c60-36c5-4036-9527-3d36d67d4bc4",
   "metadata": {},
   "outputs": [],
   "source": [
    "from scripts.parsers import parse_sequences as parse_sequence_info\n",
    "\n",
    "file_path = 'gait3d\\\\ListOfSequences.txt'\n",
    "sequences = parse_sequence_info(file_path)"
   ]
  },
  {
   "cell_type": "code",
   "execution_count": 4,
   "id": "0c8e5b1b-7561-48db-9146-e9782a2f232d",
   "metadata": {},
   "outputs": [],
   "source": [
    "import json\n",
    "\n",
    "selected_names_file = \"./datasets/mediapipe/selected_joint_names.json\"\n",
    "input_data_file = \"./datasets/mediapipe/dataset_v2.json\"\n",
    "output_data_file = \"./datasets/mocap/dataset_v2.json\"\n",
    "triang_data_file = \"./datasets/mediapipe/triangulation.json\"\n",
    "\n",
    "with open(input_data_file, 'r') as file:\n",
    "    raw_input = json.load(file)\n",
    "\n",
    "with open(output_data_file, 'r') as file:\n",
    "    raw_output = json.load(file)\n",
    "\n",
    "with open(selected_names_file, 'r') as file:\n",
    "    selected_names = json.load(file)\n",
    "\n",
    "with open(triang_data_file, 'r') as file:\n",
    "    triangulation_data = json.load(file)\n"
   ]
  },
  {
   "cell_type": "code",
   "execution_count": 5,
   "id": "309a9e4a-60fa-4cd6-99cb-b5445096327c",
   "metadata": {},
   "outputs": [
    {
     "name": "stdout",
     "output_type": "stream",
     "text": [
      "train: ['p20s1', 'p20s3', 'p1s1', 'p1s3', 'p15s1', 'p15s3', 'p29s1', 'p29s3', 'p21s1', 'p21s3', 'p4s1', 'p4s3', 'p5s1', 'p5s3', 'p13s1', 'p13s3', 'p7s1', 'p7s3', 'p6s1', 'p6s3', 'p24s1', 'p24s3', 'p27s1', 'p27s3', 'p31s1', 'p31s3', 'p3s1', 'p3s3', 'p12s1', 'p12s3', 'p19s1', 'p19s3', 'p25s1', 'p25s3', 'p26s1', 'p26s3', 'p28s1', 'p28s3', 'p9s1', 'p9s3', 'p16s1', 'p16s3', 'p14s1', 'p14s3', 'p11s1', 'p11s3', 'p30s1', 'p30s3', 'p23s1', 'p23s3', 'p32s1', 'p32s3', 'p30s5', 'p30s7', 'p27s5', 'p27s7']\n",
      "valid: ['p22s1', 'p22s3', 'p10s1', 'p10s3', 'p2s1', 'p2s3', 'p31s5', 'p31s7', 'p26s5', 'p26s7']\n",
      "test: ['p17s1', 'p17s3', 'p18s1', 'p18s3', 'p8s1', 'p8s3', 'p29s5', 'p29s7', 'p28s5', 'p28s7']\n"
     ]
    }
   ],
   "source": [
    "from utils.torch_train_utils import get_train_valid_test_set, MoCapInputDataset\n",
    "from torch.utils.data import DataLoader\n",
    "\n",
    "train_seq_set, valid_seq_set, test_seq_set = get_train_valid_test_set(sequences, 42)\n",
    "\n",
    "print(f\"train: {train_seq_set}\")\n",
    "print(f\"valid: {valid_seq_set}\")\n",
    "print(f\"test: {test_seq_set}\")\n",
    "\n",
    "train_ds = MoCapInputDataset(train_seq_set, sequences, selected_names, raw_input, raw_output)\n",
    "valid_ds = MoCapInputDataset(valid_seq_set, sequences, selected_names, raw_input, raw_output)\n",
    "test_ds = MoCapInputDataset(test_seq_set, sequences, selected_names, raw_input, raw_output)\n",
    "\n",
    "train_loader = DataLoader(train_ds, batch_size=32, shuffle=True)\n",
    "val_loader = DataLoader(valid_ds, batch_size=32, shuffle=False)\n",
    "test_loader = DataLoader(test_ds, batch_size=32, shuffle=False)"
   ]
  },
  {
   "cell_type": "code",
   "execution_count": 6,
   "id": "93e7045c-e416-4bff-ac14-3b39c63bf5cc",
   "metadata": {},
   "outputs": [],
   "source": [
    "import torch\n",
    "import torch.nn as nn\n",
    "import torch.nn.functional as F\n",
    "\n",
    "\n",
    "class CustomNetForOptuna(nn.Module):\n",
    "    def __init__(self, dropout=0.2, activation_name=\"relu\"):\n",
    "        super(CustomNetForOptuna, self).__init__()\n",
    "        \n",
    "        # to try different activation functions\n",
    "        activations = {\n",
    "            \"relu\": nn.ReLU(),\n",
    "            \"leaky_relu\": nn.LeakyReLU(),\n",
    "            \"gelu\": nn.GELU(),\n",
    "        }\n",
    "        self.activation = activations[activation_name]\n",
    "\n",
    "        self.conv1d = nn.Conv1d(in_channels=2, out_channels=1, kernel_size=3)\n",
    "        self.fc1 = nn.Linear(40, 64)\n",
    "        self.dropout1 = nn.Dropout(p=dropout)\n",
    "        self.fc2 = nn.Linear(64, 72)\n",
    "        self.dropout2 = nn.Dropout(p=dropout)\n",
    "        self.fc3 = nn.Linear(72, 36)\n",
    "\n",
    "    def forward(self, x):\n",
    "        conv_outs = []\n",
    "        for xi in x:\n",
    "            xi = xi.permute(0, 2, 1)\n",
    "            conv = self.conv1d(xi)\n",
    "            conv = conv.squeeze(1)\n",
    "            conv_outs.append(conv)\n",
    "\n",
    "        concat = torch.cat(conv_outs, dim=1)\n",
    "        out = self.activation(self.fc1(concat))\n",
    "        out = self.dropout1(out)\n",
    "        out = self.activation(self.fc2(out))\n",
    "        out = self.dropout2(out)\n",
    "        out = self.fc3(out)\n",
    "        return out.view(-1, 12, 3)\n"
   ]
  },
  {
   "cell_type": "code",
   "execution_count": 7,
   "id": "c8767493-0aa8-44e2-9a6b-71c589dcfe8a",
   "metadata": {},
   "outputs": [],
   "source": [
    "import optuna\n",
    "from torch.optim import AdamW\n",
    "\n",
    "from utils.torch_train_utils import MPJPE\n",
    "\n",
    "\n",
    "def objective(trial):\n",
    "    lr = trial.suggest_float(\"lr\", 1e-5, 1e-2, log=True)\n",
    "    weight_decay = trial.suggest_float(\"weight_decay\", 1e-6, 1e-2, log=True)\n",
    "    dropout = trial.suggest_float(\"dropout\", 0.0, 0.5)\n",
    "    batch_size = trial.suggest_categorical(\"batch_size\", [16, 32, 64, 128])\n",
    "    activation = trial.suggest_categorical(\"activation\", [\"relu\", \"leaky_relu\", \"gelu\"])\n",
    "\n",
    "    train_loader =  DataLoader(train_ds, batch_size=batch_size, shuffle=True)\n",
    "    val_loader = DataLoader(valid_ds, batch_size=batch_size)\n",
    "\n",
    "    model = CustomNetForOptuna(dropout=dropout, activation_name=activation).to(device)\n",
    "    criterion = MPJPE()\n",
    "    optimizer = torch.optim.AdamW(model.parameters(), lr=lr, weight_decay=weight_decay)\n",
    "\n",
    "    for epoch in range(20):\n",
    "        model.train()\n",
    "        for inputs, targets in train_loader:\n",
    "            inputs = [x.to(device) for x in inputs]\n",
    "            targets = targets.to(device)\n",
    "\n",
    "            outputs = model(inputs)\n",
    "            loss = criterion(outputs, targets)\n",
    "\n",
    "            optimizer.zero_grad()\n",
    "            loss.backward()\n",
    "            optimizer.step()\n",
    "\n",
    "    model.eval()\n",
    "    val_loss = 0\n",
    "    with torch.no_grad():\n",
    "        for inputs, targets in val_loader:\n",
    "            inputs = [x.to(device) for x in inputs]\n",
    "            targets = targets.to(device)\n",
    "            preds = model(inputs)\n",
    "            val_loss += criterion(preds, targets).item()\n",
    "\n",
    "    return val_loss / len(val_loader)\n"
   ]
  },
  {
   "cell_type": "code",
   "execution_count": 8,
   "id": "1dfabca8-b04d-4f21-80eb-3ddf667eb533",
   "metadata": {},
   "outputs": [
    {
     "name": "stderr",
     "output_type": "stream",
     "text": [
      "[I 2025-06-07 17:54:35,534] A new study created in memory with name: no-name-a3b9e414-eaa9-4e8e-a213-5c70bccda28d\n",
      "[I 2025-06-07 17:54:44,343] Trial 0 finished with value: 1722.0520542689733 and parameters: {'lr': 6.325744088571908e-05, 'weight_decay': 0.005183769749336176, 'dropout': 0.3759799746694386, 'batch_size': 128, 'activation': 'gelu'}. Best is trial 0 with value: 1722.0520542689733.\n",
      "[I 2025-06-07 17:54:53,174] Trial 1 finished with value: 1631.8333565848213 and parameters: {'lr': 5.176451101374985e-05, 'weight_decay': 3.310522468519888e-05, 'dropout': 0.18557910904062763, 'batch_size': 64, 'activation': 'relu'}. Best is trial 1 with value: 1631.8333565848213.\n",
      "[I 2025-06-07 17:54:59,157] Trial 2 finished with value: 1724.222412109375 and parameters: {'lr': 6.224579275218354e-05, 'weight_decay': 1.0495681986208866e-05, 'dropout': 0.2797584077161857, 'batch_size': 128, 'activation': 'leaky_relu'}. Best is trial 1 with value: 1631.8333565848213.\n",
      "[I 2025-06-07 17:55:11,238] Trial 3 finished with value: 228.73084313528878 and parameters: {'lr': 0.00013449684928543647, 'weight_decay': 0.0013187147956342858, 'dropout': 0.09767194316428629, 'batch_size': 32, 'activation': 'leaky_relu'}. Best is trial 3 with value: 228.73084313528878.\n",
      "[I 2025-06-07 17:55:32,274] Trial 4 finished with value: 361.81751653497867 and parameters: {'lr': 0.0008785951994816311, 'weight_decay': 6.960554745583556e-06, 'dropout': 0.4649934570912906, 'batch_size': 16, 'activation': 'relu'}. Best is trial 3 with value: 228.73084313528878.\n",
      "[I 2025-06-07 17:55:37,920] Trial 5 finished with value: 307.3339582170759 and parameters: {'lr': 0.0032111702587707125, 'weight_decay': 0.0013283894592909782, 'dropout': 0.16707369161503355, 'batch_size': 128, 'activation': 'relu'}. Best is trial 3 with value: 228.73084313528878.\n",
      "[I 2025-06-07 17:55:49,765] Trial 6 finished with value: 1687.789306640625 and parameters: {'lr': 2.626263040346265e-05, 'weight_decay': 1.421424335578536e-05, 'dropout': 0.2516338732146139, 'batch_size': 32, 'activation': 'relu'}. Best is trial 3 with value: 228.73084313528878.\n",
      "[I 2025-06-07 17:55:55,448] Trial 7 finished with value: 1403.0892508370537 and parameters: {'lr': 0.000280012106011332, 'weight_decay': 2.28612659883797e-06, 'dropout': 0.0526025917493243, 'batch_size': 128, 'activation': 'gelu'}. Best is trial 3 with value: 228.73084313528878.\n",
      "[I 2025-06-07 17:56:01,157] Trial 8 finished with value: 1397.5161830357142 and parameters: {'lr': 0.0010647399986548145, 'weight_decay': 9.98331212642175e-05, 'dropout': 0.36745321167560435, 'batch_size': 128, 'activation': 'leaky_relu'}. Best is trial 3 with value: 228.73084313528878.\n",
      "[I 2025-06-07 17:56:09,379] Trial 9 finished with value: 1571.4876578194755 and parameters: {'lr': 5.9618454884588246e-05, 'weight_decay': 1.080008227479302e-06, 'dropout': 0.46844889286744845, 'batch_size': 64, 'activation': 'relu'}. Best is trial 3 with value: 228.73084313528878.\n",
      "[I 2025-06-07 17:56:21,246] Trial 10 finished with value: 1397.9113006591797 and parameters: {'lr': 0.00029882268608755864, 'weight_decay': 0.0005261903084388337, 'dropout': 0.02140985513960658, 'batch_size': 32, 'activation': 'leaky_relu'}. Best is trial 3 with value: 228.73084313528878.\n",
      "[I 2025-06-07 17:56:33,164] Trial 11 finished with value: 210.18837928771973 and parameters: {'lr': 0.007946839226620482, 'weight_decay': 0.0018062203951136064, 'dropout': 0.11865364555769799, 'batch_size': 32, 'activation': 'leaky_relu'}. Best is trial 11 with value: 210.18837928771973.\n",
      "[I 2025-06-07 17:56:44,973] Trial 12 finished with value: 212.21221651349748 and parameters: {'lr': 0.008791558461565622, 'weight_decay': 0.007927984112753169, 'dropout': 0.109659577101179, 'batch_size': 32, 'activation': 'leaky_relu'}. Best is trial 11 with value: 210.18837928771973.\n",
      "[I 2025-06-07 17:56:57,528] Trial 13 finished with value: 237.86626979282923 and parameters: {'lr': 0.009872522414313816, 'weight_decay': 0.0068887236327599835, 'dropout': 0.11951479405599327, 'batch_size': 32, 'activation': 'leaky_relu'}. Best is trial 11 with value: 210.18837928771973.\n",
      "[I 2025-06-07 17:57:10,010] Trial 14 finished with value: 224.7931900024414 and parameters: {'lr': 0.007887545869938093, 'weight_decay': 0.0004007722460712794, 'dropout': 0.16181223707258338, 'batch_size': 32, 'activation': 'leaky_relu'}. Best is trial 11 with value: 210.18837928771973.\n",
      "[I 2025-06-07 17:57:31,395] Trial 15 finished with value: 214.6776662653143 and parameters: {'lr': 0.002414502133645915, 'weight_decay': 0.008378233726567434, 'dropout': 0.09708318199257278, 'batch_size': 16, 'activation': 'leaky_relu'}. Best is trial 11 with value: 210.18837928771973.\n",
      "[I 2025-06-07 17:57:43,781] Trial 16 finished with value: 210.7479842049735 and parameters: {'lr': 0.003684528951130055, 'weight_decay': 0.0021345956424867734, 'dropout': 0.006581218567237271, 'batch_size': 32, 'activation': 'leaky_relu'}. Best is trial 11 with value: 210.18837928771973.\n",
      "[I 2025-06-07 17:57:55,985] Trial 17 finished with value: 220.453430720738 and parameters: {'lr': 0.002703510276119519, 'weight_decay': 0.0017205561085164775, 'dropout': 0.03010597793238229, 'batch_size': 32, 'activation': 'gelu'}. Best is trial 11 with value: 210.18837928771973.\n",
      "[I 2025-06-07 17:58:08,449] Trial 18 finished with value: 211.34399223327637 and parameters: {'lr': 0.0008260228274927204, 'weight_decay': 0.0002006326648150034, 'dropout': 0.0027494133388940734, 'batch_size': 32, 'activation': 'leaky_relu'}. Best is trial 11 with value: 210.18837928771973.\n",
      "[I 2025-06-07 17:58:30,121] Trial 19 finished with value: 222.1205949263139 and parameters: {'lr': 0.004288018081363629, 'weight_decay': 0.0021372257768112165, 'dropout': 0.19960433867428315, 'batch_size': 16, 'activation': 'leaky_relu'}. Best is trial 11 with value: 210.18837928771973.\n",
      "[I 2025-06-07 17:58:38,331] Trial 20 finished with value: 250.06009456089564 and parameters: {'lr': 0.0015016490393282786, 'weight_decay': 7.631478249763445e-05, 'dropout': 0.2977517693744113, 'batch_size': 64, 'activation': 'gelu'}. Best is trial 11 with value: 210.18837928771973.\n",
      "[I 2025-06-07 17:58:50,606] Trial 21 finished with value: 227.2573574611119 and parameters: {'lr': 0.0005843455220539523, 'weight_decay': 0.00044191984528551, 'dropout': 0.05916016323666606, 'batch_size': 32, 'activation': 'leaky_relu'}. Best is trial 11 with value: 210.18837928771973.\n",
      "[I 2025-06-07 17:59:02,576] Trial 22 finished with value: 210.58407511029924 and parameters: {'lr': 0.0051356788372295325, 'weight_decay': 0.00023323663265615327, 'dropout': 0.0023897301290939327, 'batch_size': 32, 'activation': 'leaky_relu'}. Best is trial 11 with value: 210.18837928771973.\n",
      "[I 2025-06-07 17:59:14,499] Trial 23 finished with value: 210.74546868460519 and parameters: {'lr': 0.005351828863112962, 'weight_decay': 0.0035579808134717024, 'dropout': 0.07072203010763906, 'batch_size': 32, 'activation': 'leaky_relu'}. Best is trial 11 with value: 210.18837928771973.\n",
      "[I 2025-06-07 17:59:26,310] Trial 24 finished with value: 215.22014999389648 and parameters: {'lr': 0.005516615856776922, 'weight_decay': 0.0008301668732929605, 'dropout': 0.06659346743230814, 'batch_size': 32, 'activation': 'leaky_relu'}. Best is trial 11 with value: 210.18837928771973.\n",
      "[I 2025-06-07 17:59:38,082] Trial 25 finished with value: 226.86799948556083 and parameters: {'lr': 0.0016401723209369505, 'weight_decay': 0.0037911686611780053, 'dropout': 0.13893648643279444, 'batch_size': 32, 'activation': 'leaky_relu'}. Best is trial 11 with value: 210.18837928771973.\n",
      "[I 2025-06-07 17:59:49,819] Trial 26 finished with value: 219.56675774710519 and parameters: {'lr': 0.005728149327067513, 'weight_decay': 0.00015178905702902364, 'dropout': 0.07395627737617587, 'batch_size': 32, 'activation': 'leaky_relu'}. Best is trial 11 with value: 210.18837928771973.\n",
      "[I 2025-06-07 18:00:01,567] Trial 27 finished with value: 221.4510018484933 and parameters: {'lr': 0.002028264203979319, 'weight_decay': 0.00025781737145317695, 'dropout': 0.209038133565022, 'batch_size': 32, 'activation': 'leaky_relu'}. Best is trial 11 with value: 210.18837928771973.\n",
      "[I 2025-06-07 18:00:22,362] Trial 28 finished with value: 240.49012562144887 and parameters: {'lr': 0.0004978541422220149, 'weight_decay': 0.0035600601210352416, 'dropout': 0.04339421873708364, 'batch_size': 16, 'activation': 'gelu'}. Best is trial 11 with value: 210.18837928771973.\n",
      "[I 2025-06-07 18:00:30,429] Trial 29 finished with value: 229.20455496651786 and parameters: {'lr': 0.0055197016408294625, 'weight_decay': 0.003886589321304747, 'dropout': 0.134533866979869, 'batch_size': 64, 'activation': 'leaky_relu'}. Best is trial 11 with value: 210.18837928771973.\n",
      "[I 2025-06-07 18:00:42,231] Trial 30 finished with value: 1750.0613403320312 and parameters: {'lr': 1.2420047611319085e-05, 'weight_decay': 3.915708376747936e-05, 'dropout': 0.228957407285929, 'batch_size': 32, 'activation': 'gelu'}. Best is trial 11 with value: 210.18837928771973.\n",
      "[I 2025-06-07 18:00:54,050] Trial 31 finished with value: 211.52412360055106 and parameters: {'lr': 0.0037892681504425275, 'weight_decay': 0.002524818327041332, 'dropout': 0.008212088150872243, 'batch_size': 32, 'activation': 'leaky_relu'}. Best is trial 11 with value: 210.18837928771973.\n",
      "[I 2025-06-07 18:01:05,831] Trial 32 finished with value: 207.70555468967981 and parameters: {'lr': 0.00451515585385859, 'weight_decay': 0.0008427797098477449, 'dropout': 0.001824874675845258, 'batch_size': 32, 'activation': 'leaky_relu'}. Best is trial 32 with value: 207.70555468967981.\n",
      "[I 2025-06-07 18:01:17,562] Trial 33 finished with value: 210.5840448651995 and parameters: {'lr': 0.0067363261386478475, 'weight_decay': 0.0007473770589102901, 'dropout': 0.08002934117722306, 'batch_size': 32, 'activation': 'leaky_relu'}. Best is trial 32 with value: 207.70555468967981.\n",
      "[I 2025-06-07 18:01:29,286] Trial 34 finished with value: 1419.7804456438337 and parameters: {'lr': 0.0001300824064058056, 'weight_decay': 0.0007801573166329882, 'dropout': 0.09114639393742863, 'batch_size': 32, 'activation': 'leaky_relu'}. Best is trial 32 with value: 207.70555468967981.\n",
      "[I 2025-06-07 18:01:37,374] Trial 35 finished with value: 215.3986598423549 and parameters: {'lr': 0.007424551689303448, 'weight_decay': 0.000762787788815667, 'dropout': 0.03787110042591633, 'batch_size': 64, 'activation': 'leaky_relu'}. Best is trial 32 with value: 207.70555468967981.\n",
      "[I 2025-06-07 18:01:43,436] Trial 36 finished with value: 1389.5696847098213 and parameters: {'lr': 0.0013324698345823763, 'weight_decay': 0.0002577918945605543, 'dropout': 0.3243464272194899, 'batch_size': 128, 'activation': 'relu'}. Best is trial 32 with value: 207.70555468967981.\n",
      "[I 2025-06-07 18:01:55,484] Trial 37 finished with value: 219.08739743913924 and parameters: {'lr': 0.002514824833905954, 'weight_decay': 0.0010913542712621216, 'dropout': 0.1670032434294234, 'batch_size': 32, 'activation': 'leaky_relu'}. Best is trial 32 with value: 207.70555468967981.\n",
      "[I 2025-06-07 18:02:07,522] Trial 38 finished with value: 1399.2465831211634 and parameters: {'lr': 0.0001537276077325863, 'weight_decay': 6.0039256136528503e-05, 'dropout': 0.08397283563982462, 'batch_size': 32, 'activation': 'relu'}. Best is trial 32 with value: 207.70555468967981.\n",
      "[I 2025-06-07 18:02:28,467] Trial 39 finished with value: 214.21247114701706 and parameters: {'lr': 0.0035593463422507747, 'weight_decay': 0.00016412566649213215, 'dropout': 0.041356609471623645, 'batch_size': 16, 'activation': 'leaky_relu'}. Best is trial 32 with value: 207.70555468967981.\n",
      "[I 2025-06-07 18:02:34,076] Trial 40 finished with value: 213.75131007603235 and parameters: {'lr': 0.00984445979241195, 'weight_decay': 0.00032823241615830625, 'dropout': 0.13266194271715914, 'batch_size': 128, 'activation': 'leaky_relu'}. Best is trial 32 with value: 207.70555468967981.\n",
      "[I 2025-06-07 18:02:45,915] Trial 41 finished with value: 204.29559544154577 and parameters: {'lr': 0.006407985111501236, 'weight_decay': 0.0013501611613751037, 'dropout': 0.06229150786728434, 'batch_size': 32, 'activation': 'leaky_relu'}. Best is trial 41 with value: 204.29559544154577.\n",
      "[I 2025-06-07 18:02:57,713] Trial 42 finished with value: 211.68441009521484 and parameters: {'lr': 0.006504556065083861, 'weight_decay': 0.0006321242750932549, 'dropout': 0.02444207479345971, 'batch_size': 32, 'activation': 'leaky_relu'}. Best is trial 41 with value: 204.29559544154577.\n",
      "[I 2025-06-07 18:03:09,460] Trial 43 finished with value: 212.703245980399 and parameters: {'lr': 0.004534517542854683, 'weight_decay': 0.001067625532722135, 'dropout': 0.05292791045964845, 'batch_size': 32, 'activation': 'leaky_relu'}. Best is trial 41 with value: 204.29559544154577.\n",
      "[I 2025-06-07 18:03:21,194] Trial 44 finished with value: 209.28760528564453 and parameters: {'lr': 0.003051597592999204, 'weight_decay': 0.0015702986939292373, 'dropout': 0.00034954546803576524, 'batch_size': 32, 'activation': 'relu'}. Best is trial 41 with value: 204.29559544154577.\n",
      "[I 2025-06-07 18:03:32,997] Trial 45 finished with value: 288.95046288626537 and parameters: {'lr': 0.0018985303246726523, 'weight_decay': 0.001491767529152613, 'dropout': 0.4935395523657762, 'batch_size': 32, 'activation': 'relu'}. Best is trial 41 with value: 204.29559544154577.\n",
      "[I 2025-06-07 18:03:44,764] Trial 46 finished with value: 254.45033400399345 and parameters: {'lr': 0.0028925354137672313, 'weight_decay': 0.005303754063166221, 'dropout': 0.10915455068346466, 'batch_size': 32, 'activation': 'relu'}. Best is trial 41 with value: 204.29559544154577.\n",
      "[I 2025-06-07 18:03:50,414] Trial 47 finished with value: 229.91348920549666 and parameters: {'lr': 0.007649081414980966, 'weight_decay': 0.0013825141714617485, 'dropout': 0.026495672742267166, 'batch_size': 128, 'activation': 'relu'}. Best is trial 41 with value: 204.29559544154577.\n",
      "[I 2025-06-07 18:04:02,308] Trial 48 finished with value: 222.98695264543807 and parameters: {'lr': 0.009922930090822367, 'weight_decay': 0.002675629594771297, 'dropout': 0.15430838418419934, 'batch_size': 32, 'activation': 'relu'}. Best is trial 41 with value: 204.29559544154577.\n",
      "[I 2025-06-07 18:04:10,344] Trial 49 finished with value: 232.01905495779855 and parameters: {'lr': 0.0011956492852087156, 'weight_decay': 0.0005110126243919307, 'dropout': 0.09312617724175003, 'batch_size': 64, 'activation': 'relu'}. Best is trial 41 with value: 204.29559544154577.\n"
     ]
    },
    {
     "name": "stdout",
     "output_type": "stream",
     "text": [
      "Best trial: FrozenTrial(number=41, state=TrialState.COMPLETE, values=[204.29559544154577], datetime_start=datetime.datetime(2025, 6, 7, 18, 2, 34, 77739), datetime_complete=datetime.datetime(2025, 6, 7, 18, 2, 45, 915739), params={'lr': 0.006407985111501236, 'weight_decay': 0.0013501611613751037, 'dropout': 0.06229150786728434, 'batch_size': 32, 'activation': 'leaky_relu'}, user_attrs={}, system_attrs={}, intermediate_values={}, distributions={'lr': FloatDistribution(high=0.01, log=True, low=1e-05, step=None), 'weight_decay': FloatDistribution(high=0.01, log=True, low=1e-06, step=None), 'dropout': FloatDistribution(high=0.5, log=False, low=0.0, step=None), 'batch_size': CategoricalDistribution(choices=(16, 32, 64, 128)), 'activation': CategoricalDistribution(choices=('relu', 'leaky_relu', 'gelu'))}, trial_id=41, value=None)\n",
      "Best params: {'lr': 0.006407985111501236, 'weight_decay': 0.0013501611613751037, 'dropout': 0.06229150786728434, 'batch_size': 32, 'activation': 'leaky_relu'}\n"
     ]
    }
   ],
   "source": [
    "study = optuna.create_study(direction=\"minimize\")\n",
    "study.optimize(objective, n_trials=50)\n",
    "\n",
    "print(\"Best trial:\", study.best_trial)\n",
    "print(\"Best params:\", study.best_params)"
   ]
  },
  {
   "cell_type": "code",
   "execution_count": 9,
   "id": "20696f6d-4a9d-420a-9cb2-1242f27f0011",
   "metadata": {},
   "outputs": [],
   "source": [
    "# Best params: {'lr': 0.006407985111501236, 'weight_decay': 0.0013501611613751037, 'dropout': 0.06229150786728434, 'batch_size': 32, 'activation': 'leaky_relu'}"
   ]
  }
 ],
 "metadata": {
  "kernelspec": {
   "display_name": "Python 3 (ipykernel)",
   "language": "python",
   "name": "python3"
  },
  "language_info": {
   "codemirror_mode": {
    "name": "ipython",
    "version": 3
   },
   "file_extension": ".py",
   "mimetype": "text/x-python",
   "name": "python",
   "nbconvert_exporter": "python",
   "pygments_lexer": "ipython3",
   "version": "3.10.7"
  }
 },
 "nbformat": 4,
 "nbformat_minor": 5
}
