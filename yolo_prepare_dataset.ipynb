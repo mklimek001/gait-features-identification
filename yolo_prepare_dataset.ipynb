{
 "cells": [
  {
   "cell_type": "code",
   "execution_count": 1,
   "id": "65567ea4-2ed6-4921-b4b3-1b92076a8882",
   "metadata": {},
   "outputs": [],
   "source": [
    "# ! pip install ultralytics"
   ]
  },
  {
   "cell_type": "code",
   "execution_count": 2,
   "id": "ffba4dc9-79ff-4cd8-9648-df545a531a9b",
   "metadata": {},
   "outputs": [],
   "source": [
    "from utils.multicamera_tools import parse_camera_xml, triangulate_poses\n",
    "from utils.video_tools import get_camera_calibration_files, get_video_files\n",
    "from scripts.frame_iterator import video_frame_iterator\n",
    "from scripts.parsers import parse_sequences as parse_sequence_info\n",
    "import numpy as np\n",
    "import bvhio\n",
    "import warnings\n",
    "\n",
    "warnings.filterwarnings('ignore')\n",
    "\n",
    "file_path = 'gait3d\\\\ListOfSequences.txt'\n",
    "sequences = parse_sequence_info(file_path)"
   ]
  },
  {
   "cell_type": "code",
   "execution_count": 3,
   "id": "8a5b9ef0-268f-4fd0-bfb3-8993381219ba",
   "metadata": {},
   "outputs": [],
   "source": [
    "from ultralytics import YOLO\n",
    "\n",
    "# model = YOLO(\"yolo11n-pose.pt\")\n",
    "model = YOLO(\"yolo11x-pose.pt\")"
   ]
  },
  {
   "cell_type": "code",
   "execution_count": 4,
   "id": "c597ebe8-1c18-4b4e-aeff-bb8cfd5a1dc2",
   "metadata": {},
   "outputs": [
    {
     "data": {
      "text/plain": [
       "{5: 'lhumerus',\n",
       " 6: 'rhumerus',\n",
       " 11: 'lfemur',\n",
       " 12: 'rfemur',\n",
       " 13: 'ltibia',\n",
       " 14: 'rtibia',\n",
       " 15: 'lfoot',\n",
       " 16: 'rfoot'}"
      ]
     },
     "execution_count": 4,
     "metadata": {},
     "output_type": "execute_result"
    }
   ],
   "source": [
    "selected_joint_names = {\n",
    "    5: 'lhumerus',\n",
    "    6: 'rhumerus',\n",
    "    11: 'lfemur',\n",
    "    12: 'rfemur',\n",
    "    13: 'ltibia',\n",
    "    14: 'rtibia',\n",
    "    15: 'lfoot',\n",
    "    16: 'rfoot'\n",
    "}\n",
    "\n",
    "selected_joint_names"
   ]
  },
  {
   "cell_type": "code",
   "execution_count": 5,
   "id": "2202d45f-e9a3-422b-b3ae-1bdb80bafcc6",
   "metadata": {
    "scrolled": true
   },
   "outputs": [],
   "source": [
    "FRAME_WIDTH = 960\n",
    "FRAME_HEIGHT = 540\n",
    "\n",
    "for i in range(1, 5):\n",
    "    results = model.predict(\n",
    "        source=f'./gait3d/Sequences/p5s1/Images/c{i}_0195.avi',\n",
    "        show=False, # do not display during processing\n",
    "        save=False, # save annotated video\n",
    "        project='sample_vids',\n",
    "        name='yolo11', \n",
    "        # exist_ok=True,\n",
    "        verbose=False, \n",
    "        stream=True\n",
    "    )\n",
    "\n",
    "    for result in results:\n",
    "        if not len(result.keypoints.xyn) == 1:\n",
    "            xy_n == [[0, 0] for _ in range(17)]\n",
    "        xy_n = result.keypoints.xyn[0].cpu().numpy()\n",
    "        xy_abs = xy_n * [FRAME_WIDTH, FRAME_HEIGHT]\n",
    "    \n",
    "        # print(f\"{xy_n = }\")\n",
    "        # print(f\"{xy_abs }\")\n",
    "        # break"
   ]
  },
  {
   "cell_type": "code",
   "execution_count": 6,
   "id": "a844d756-80b0-488c-b214-923efaf88f41",
   "metadata": {
    "scrolled": true
   },
   "outputs": [],
   "source": [
    "FRAME_WIDTH = 960\n",
    "FRAME_HEIGHT = 540\n",
    "\n",
    "for result in results:\n",
    "    xy_n = result.keypoints.xy_n[0].cpu().numpy()  # normalized\n",
    "    xy_abs = xy_n * [FRAME_WIDTH, FRAME_HEIGHT]\n",
    "\n",
    "    print(f\"{xy_n = }\")\n",
    "    print(f\"{xy_abs }\")\n",
    "    break"
   ]
  },
  {
   "cell_type": "code",
   "execution_count": 7,
   "id": "0b901597-5184-4656-927d-fe40430e6cc7",
   "metadata": {},
   "outputs": [
    {
     "data": {
      "text/plain": [
       "2"
      ]
     },
     "execution_count": 7,
     "metadata": {},
     "output_type": "execute_result"
    }
   ],
   "source": [
    "len(xy_n[0])"
   ]
  },
  {
   "cell_type": "code",
   "execution_count": 14,
   "id": "33cb42de-3deb-4cf8-aa85-129e4b3d0483",
   "metadata": {},
   "outputs": [
    {
     "data": {
      "text/plain": [
       "['p26s6',\n",
       " 'p26s7',\n",
       " 'p26s8',\n",
       " 'p26s9',\n",
       " 'p26s10',\n",
       " 'p27s1',\n",
       " 'p27s2',\n",
       " 'p27s3',\n",
       " 'p27s4',\n",
       " 'p27s5',\n",
       " 'p27s6',\n",
       " 'p27s7',\n",
       " 'p27s8',\n",
       " 'p27s9',\n",
       " 'p27s10',\n",
       " 'p28s1',\n",
       " 'p28s2',\n",
       " 'p28s3',\n",
       " 'p28s4',\n",
       " 'p28s5',\n",
       " 'p28s6',\n",
       " 'p28s7',\n",
       " 'p28s8',\n",
       " 'p28s9',\n",
       " 'p28s10',\n",
       " 'p29s1',\n",
       " 'p29s2',\n",
       " 'p29s3',\n",
       " 'p29s4',\n",
       " 'p29s5',\n",
       " 'p29s6',\n",
       " 'p29s7',\n",
       " 'p29s8',\n",
       " 'p29s9',\n",
       " 'p29s10',\n",
       " 'p30s1',\n",
       " 'p30s2',\n",
       " 'p30s3',\n",
       " 'p30s4',\n",
       " 'p30s5',\n",
       " 'p30s6',\n",
       " 'p30s7',\n",
       " 'p30s8',\n",
       " 'p30s9',\n",
       " 'p30s10',\n",
       " 'p31s1',\n",
       " 'p31s2',\n",
       " 'p31s3',\n",
       " 'p31s4',\n",
       " 'p31s5',\n",
       " 'p31s6',\n",
       " 'p31s7',\n",
       " 'p31s8',\n",
       " 'p31s9',\n",
       " 'p31s10',\n",
       " 'p32s1',\n",
       " 'p32s2',\n",
       " 'p32s3',\n",
       " 'p32s4',\n",
       " 'p32s9',\n",
       " 'p32s10']"
      ]
     },
     "execution_count": 14,
     "metadata": {},
     "output_type": "execute_result"
    }
   ],
   "source": [
    "list(sequences.keys())[105:]"
   ]
  },
  {
   "cell_type": "code",
   "execution_count": 15,
   "id": "365567fa-be08-41dd-8acb-272f890cbc67",
   "metadata": {},
   "outputs": [
    {
     "name": "stdout",
     "output_type": "stream",
     "text": [
      "p26s6 | p26s7 | p26s8 | p26s9 | p26s10 | p27s1 | p27s2 | p27s3 | p27s4 | p27s5 | p27s6 | p27s7 | p27s8 | p27s9 | p27s10 | p28s1 | p28s2 | p28s3 | p28s4 | p28s5 | p28s6 | p28s7 | p28s8 | p28s9 | p28s10 | p29s1 | p29s2 | p29s3 | p29s4 | p29s5 | p29s6 | p29s7 | p29s8 | p29s9 | p29s10 | p30s1 | p30s2 | p30s3 | p30s4 | p30s5 | p30s6 | p30s7 | p30s8 | p30s9 | p30s10 | p31s1 | p31s2 | p31s3 | p31s4 | p31s5 | p31s6 | p31s7 | p31s8 | p31s9 | p31s10 | p32s1 | p32s2 | p32s3 | p32s4 | p32s9 | p32s10 | "
     ]
    }
   ],
   "source": [
    "VIDEO_FPS = 25\n",
    "MOCAP_FPS = 100\n",
    "FRAME_TIME = 1000/VIDEO_FPS\n",
    "FRAME_WIDTH = 960\n",
    "FRAME_HEIGHT = 540\n",
    "YOLO_LANDMARKS_NUM = 17\n",
    "\n",
    "yolo_selection = {}\n",
    "yolo_triangulation = {}\n",
    "\n",
    "for seq_key in list(sequences.keys())[105:]:\n",
    "    print(seq_key, end=\" | \")\n",
    "    if sequences[seq_key]['MoCap_data']:\n",
    "        video_files = get_video_files(seq_key)\n",
    "        max_frames = sequences[seq_key]['number_of_frames']\n",
    "                \n",
    "        camera_files_paths = get_camera_calibration_files(seq_key)\n",
    "        cameras_params = [parse_camera_xml(camera_path) for camera_path in camera_files_paths]\n",
    "    \n",
    "        predicted_for_seq = {f\"c{i+1}\": {} for i in range(4)}\n",
    "        camera_landmarks_found = [[True, True, True, True] for j in range(max_frames)]\n",
    "        \n",
    "        combined_cameras_with_landmarks = []\n",
    "        combined_triangulation_results = []\n",
    "        \n",
    "        for c_idx, c_file in enumerate(video_files):\n",
    "            # print(c_idx + 1, c_file)\n",
    "            results = model.predict(\n",
    "                source=c_file,\n",
    "                show=False, # do not display during processing\n",
    "                save=False, # do not save annotated video\n",
    "                project='sample_vids',\n",
    "                name='yolo11', \n",
    "                verbose=False, \n",
    "                stream=True\n",
    "            )\n",
    "\n",
    "            \n",
    "            for f_idx, result in enumerate(results):\n",
    "                if len(result.keypoints.xyn) == 1 and len(result.keypoints.xyn[0] == YOLO_LANDMARKS_NUM):\n",
    "                    xy_n = result.keypoints.xyn[0].cpu().numpy().tolist()\n",
    "                    \n",
    "                    for important_joint in selected_joint_names.keys():\n",
    "                        if xy_n[important_joint] == [0, 0]:\n",
    "                            xy_n == [[None, None] for _ in range(17)]\n",
    "                            camera_landmarks_found[f_idx][c_idx] = False\n",
    "                            # print(seq_key, c_idx, f_idx, selected_joint_names[important_joint])\n",
    "                            break\n",
    "\n",
    "                else:\n",
    "                    xy_n == [[None, None] for _ in range(17)]\n",
    "                    camera_landmarks_found[f_idx][c_idx] = False\n",
    "                    # print(seq_key, c_idx, f_idx, len(result.keypoints.xyn))\n",
    "\n",
    "                predicted_for_seq[f\"c{c_idx+1}\"][f_idx] = xy_n\n",
    "\n",
    "        yolo_selection[seq_key] = predicted_for_seq\n",
    "\n",
    "        for f_idx in range(max_frames):\n",
    "            found_landmarks_cameras_idx = ([camera_i for camera_i, camera_l_found in \n",
    "                                            enumerate(camera_landmarks_found[f_idx])\n",
    "                                            if camera_l_found])\n",
    "            \n",
    "            selected_cameras_params = [cameras_params[camera_i] for camera_i in found_landmarks_cameras_idx]\n",
    "            found_2d_points = np.array([np.array(predicted_for_seq[f\"c{camera_i+1}\"][f_idx]) * [FRAME_WIDTH, FRAME_HEIGHT] for camera_i in found_landmarks_cameras_idx])\n",
    "            triangulation_result = triangulate_poses(selected_cameras_params, found_2d_points)\n",
    "            combined_triangulation_results.append(triangulation_result[0].tolist())\n",
    "\n",
    "        yolo_triangulation[seq_key] = combined_triangulation_results\n"
   ]
  },
  {
   "cell_type": "code",
   "execution_count": 18,
   "id": "58eb64aa-2ce7-4210-a330-c1a185fbb237",
   "metadata": {},
   "outputs": [],
   "source": [
    "with open(\"./datasets/yolo/dataset.json\", 'r') as file:\n",
    "    yolo_selection_prev = json.load(file)\n",
    "\n",
    "with open(\"./datasets/yolo/triangulation.json\", 'r') as file:\n",
    "    yolo_triangulation_prev = json.load(file)\n",
    "\n",
    "yolo_selection_prev.update(yolo_selection)\n",
    "yolo_triangulation_prev.update(yolo_triangulation)"
   ]
  },
  {
   "cell_type": "code",
   "execution_count": 19,
   "id": "e70fc667-fbfa-4929-a269-510fb2759f3d",
   "metadata": {},
   "outputs": [],
   "source": [
    "import json\n",
    "\n",
    "with open(\"./datasets/yolo/dataset_v2.json\", \"w\") as f:\n",
    "    json.dump(yolo_selection_prev, f, indent=4)\n",
    "\n",
    "with open(\"./datasets/yolo/triangulation_v2.json\", \"w\") as f:\n",
    "    json.dump(yolo_triangulation_prev, f, indent=4)\n",
    "    \n",
    "with open(\"./datasets/yolo/selected_joint_names.json\", \"w\") as f:\n",
    "    json.dump(selected_joint_names, f, indent=4)"
   ]
  },
  {
   "cell_type": "code",
   "execution_count": null,
   "id": "fa7b0693-9982-4e1b-b4e3-389db8be0873",
   "metadata": {},
   "outputs": [],
   "source": []
  }
 ],
 "metadata": {
  "kernelspec": {
   "display_name": "Python 3 (ipykernel)",
   "language": "python",
   "name": "python3"
  },
  "language_info": {
   "codemirror_mode": {
    "name": "ipython",
    "version": 3
   },
   "file_extension": ".py",
   "mimetype": "text/x-python",
   "name": "python",
   "nbconvert_exporter": "python",
   "pygments_lexer": "ipython3",
   "version": "3.10.7"
  }
 },
 "nbformat": 4,
 "nbformat_minor": 5
}
