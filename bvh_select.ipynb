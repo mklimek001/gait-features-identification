{
 "cells": [
  {
   "cell_type": "code",
   "execution_count": 1,
   "id": "2bc96e5c-b165-47a5-8b9f-8d64ab02dbcc",
   "metadata": {},
   "outputs": [],
   "source": [
    "import bvhio\n",
    "from scripts.parsers import parse_sequences as parse_sequence_info\n",
    "\n",
    "file_path = 'gait3d\\\\ListOfSequences.txt'\n",
    "sequences = parse_sequence_info(file_path)"
   ]
  },
  {
   "cell_type": "code",
   "execution_count": 2,
   "id": "66bb903e-2048-4d16-8836-3b52db8061b9",
   "metadata": {},
   "outputs": [
    {
     "data": {
      "text/plain": [
       "dict_keys(['p1s1', 'p1s2', 'p1s3', 'p1s4', 'p2s1', 'p2s2', 'p2s3', 'p2s4', 'p3s1', 'p3s2', 'p3s3', 'p3s4', 'p4s1', 'p4s2', 'p4s3', 'p4s4', 'p5s1', 'p5s2', 'p5s3', 'p5s4', 'p6s2', 'p6s4', 'p7s1', 'p7s2', 'p7s3', 'p7s4', 'p8s1', 'p8s2', 'p8s3', 'p8s4', 'p9s1', 'p9s2', 'p9s3', 'p9s4', 'p10s1', 'p10s2', 'p10s3', 'p10s4', 'p11s1', 'p11s2', 'p11s3', 'p11s4', 'p12s1', 'p12s3', 'p13s1', 'p13s2', 'p13s3', 'p13s4', 'p14s1', 'p14s2', 'p14s3', 'p14s4', 'p15s1', 'p15s2', 'p15s3', 'p15s4', 'p16s1', 'p16s2', 'p16s3', 'p16s4', 'p17s1', 'p17s2', 'p17s3', 'p17s4', 'p18s2', 'p18s4', 'p19s1', 'p19s2', 'p19s3', 'p19s4', 'p20s1', 'p20s2', 'p20s3', 'p20s4', 'p21s1', 'p21s2', 'p21s3', 'p21s4', 'p22s1', 'p22s2', 'p22s3', 'p22s4', 'p23s1', 'p23s2', 'p23s3', 'p23s4', 'p24s1', 'p24s2', 'p24s3', 'p24s4', 'p25s1', 'p25s2', 'p25s3', 'p25s4', 'p26s1', 'p26s2', 'p26s3', 'p26s4', 'p26s5', 'p26s6', 'p26s7', 'p26s8', 'p26s9', 'p26s10', 'p27s1', 'p27s2', 'p27s3', 'p27s4', 'p27s5', 'p27s6', 'p27s7', 'p27s8', 'p27s9', 'p27s10', 'p28s1', 'p28s2', 'p28s3', 'p28s4', 'p28s5', 'p28s6', 'p28s7', 'p28s8', 'p28s9', 'p28s10', 'p29s1', 'p29s2', 'p29s3', 'p29s4', 'p29s5', 'p29s6', 'p29s7', 'p29s8', 'p29s9', 'p29s10', 'p30s1', 'p30s2', 'p30s3', 'p30s4', 'p30s5', 'p30s6', 'p30s7', 'p30s8', 'p30s9', 'p30s10', 'p31s1', 'p31s2', 'p31s3', 'p31s4', 'p31s5', 'p31s6', 'p31s7', 'p31s8', 'p31s9', 'p31s10', 'p32s1', 'p32s2', 'p32s3', 'p32s4', 'p32s9', 'p32s10'])"
      ]
     },
     "execution_count": 2,
     "metadata": {},
     "output_type": "execute_result"
    }
   ],
   "source": [
    "sequences.keys()"
   ]
  },
  {
   "cell_type": "code",
   "execution_count": 3,
   "id": "5851a818-682a-4f6f-bdb5-79de4234e45f",
   "metadata": {},
   "outputs": [
    {
     "name": "stdout",
     "output_type": "stream",
     "text": [
      "[vec3( 0, 0, 0 ), vec3( 10.1274, 3.67873, -0.507528 ), vec3( 10.1274, 3.67873, -0.507528 ), vec3( 10.12, 3.55562, 0.0225303 ), vec3( 10.4053, 1.76512, -0.0605312 ), vec3( 10.6494, 0.233125, -0.1318 ), vec3( 10.1662, 0.0741395, -0.149785 ), vec3( 10.1274, 3.67873, -0.507528 ), vec3( 10.1184, 3.53436, -1.01204 ), vec3( 10.2696, 1.69863, -0.88615 ), vec3( 10.4542, 0.134998, -0.797215 ), vec3( 9.96441, 0.125422, -0.7832 ), vec3( 10.1274, 3.67873, -0.507528 ), vec3( 10.0702, 4.13393, -0.493691 ), vec3( 10.1472, 4.58983, -0.454936 ), vec3( 10.2084, 5.06841, -0.43863 ), vec3( 10.1999, 5.43216, -0.458411 ), vec3( 10.1056, 5.78063, -0.456718 ), vec3( 10.2084, 5.06841, -0.43863 ), vec3( 10.18, 5.26782, 0.140298 ), vec3( 10.3266, 4.08049, 0.145656 ), vec3( 10.2412, 3.45026, 0.192791 ), vec3( 10.1985, 3.13515, 0.216358 ), vec3( 10.2084, 5.06841, -0.43863 ), vec3( 10.1236, 5.24797, -0.975423 ), vec3( 10.3345, 3.98203, -1.08963 ), vec3( 10.1668, 3.38646, -1.14344 ), vec3( 10.0829, 3.08867, -1.17034 )]\n"
     ]
    }
   ],
   "source": [
    "VIDEO_FPS = 25\n",
    "MOCAP_FPS = 100\n",
    "STEP = int(MOCAP_FPS/VIDEO_FPS)\n",
    "FRAME_TIME = 1000/VIDEO_FPS\n",
    "SEQ_KEY = \"p1s1\"\n",
    "\n",
    "bvh_file_path = f'gait3d/Sequences/{SEQ_KEY}/MoCap/{SEQ_KEY}.bvh'\n",
    "\n",
    "root = bvhio.readAsHierarchy(bvh_file_path)\n",
    "\n",
    "restPose=bvhio.Transform(scale=1)\n",
    "root = bvhio.Joint('Root', restPose=bvhio.Transform(scale=1)).attach(root)\n",
    "\n",
    "step = int(MOCAP_FPS/VIDEO_FPS)\n",
    "start_frame = sequences[SEQ_KEY]['start_frame'] * step + sequences[SEQ_KEY]['frame_offset']\n",
    "end_frame = start_frame + sequences[SEQ_KEY]['number_of_frames'] * step\n",
    "\n",
    "position_bvh = [joint.PositionWorld for (joint, index, depth) in root.loadPose(start_frame).layout()]\n",
    "print(position_bvh)"
   ]
  },
  {
   "cell_type": "code",
   "execution_count": 5,
   "id": "43b4003c-1798-46ff-9ebe-bb603bedf575",
   "metadata": {
    "scrolled": true
   },
   "outputs": [
    {
     "name": "stdout",
     "output_type": "stream",
     "text": [
      "vec3(            0,            0,            0 ) Root\n",
      "vec3(      10.1274,      3.67873,    -0.507528 ) root\n",
      "vec3(      10.1274,      3.67873,    -0.507528 ) lhipjoint\n",
      "vec3(        10.12,      3.55562,    0.0225303 ) lfemur\n",
      "vec3(      10.4053,      1.76512,   -0.0605312 ) ltibia\n",
      "vec3(      10.6494,     0.233125,      -0.1318 ) lfoot\n",
      "vec3(      10.1662,    0.0741395,    -0.149785 ) ltoes\n",
      "vec3(      10.1274,      3.67873,    -0.507528 ) rhipjoint\n",
      "vec3(      10.1184,      3.53436,     -1.01204 ) rfemur\n",
      "vec3(      10.2696,      1.69863,     -0.88615 ) rtibia\n",
      "vec3(      10.4542,     0.134998,    -0.797215 ) rfoot\n",
      "vec3(      9.96441,     0.125422,      -0.7832 ) rtoes\n",
      "vec3(      10.1274,      3.67873,    -0.507528 ) lowerback\n",
      "vec3(      10.0702,      4.13393,    -0.493691 ) upperback\n",
      "vec3(      10.1472,      4.58983,    -0.454936 ) thorax\n",
      "vec3(      10.2084,      5.06841,     -0.43863 ) lowerneck\n",
      "vec3(      10.1999,      5.43216,    -0.458411 ) upperneck\n",
      "vec3(      10.1056,      5.78063,    -0.456718 ) head\n",
      "vec3(      10.2084,      5.06841,     -0.43863 ) lshoulderjoint\n",
      "vec3(        10.18,      5.26782,     0.140298 ) lhumerus\n",
      "vec3(      10.3266,      4.08049,     0.145656 ) lradius\n",
      "vec3(      10.2412,      3.45026,     0.192791 ) lwrist\n",
      "vec3(      10.1985,      3.13515,     0.216358 ) lhand\n",
      "vec3(      10.2084,      5.06841,     -0.43863 ) rshoulderjoint\n",
      "vec3(      10.1236,      5.24797,    -0.975423 ) rhumerus\n",
      "vec3(      10.3345,      3.98203,     -1.08963 ) rradius\n",
      "vec3(      10.1668,      3.38646,     -1.14344 ) rwrist\n",
      "vec3(      10.0829,      3.08867,     -1.17034 ) rhand\n"
     ]
    }
   ],
   "source": [
    "for (joint, index, depth) in root.layout():\n",
    "    print(f'{position_bvh[index]} {joint.Name}')"
   ]
  },
  {
   "cell_type": "code",
   "execution_count": 3,
   "id": "9b1cc2d6-fc24-496a-bba9-3cf7d12fdccf",
   "metadata": {},
   "outputs": [
    {
     "data": {
      "text/plain": [
       "['lfoot',\n",
       " 'rfoot',\n",
       " 'ltibia',\n",
       " 'rtibia',\n",
       " 'lfemur',\n",
       " 'rfemur',\n",
       " 'lhumerus',\n",
       " 'rhumerus',\n",
       " 'lradius',\n",
       " 'rradius',\n",
       " 'lwrist',\n",
       " 'rwrist']"
      ]
     },
     "execution_count": 3,
     "metadata": {},
     "output_type": "execute_result"
    }
   ],
   "source": [
    "selected_joint_names = ([\"lfoot\", \"rfoot\", \n",
    "                         \"ltibia\", \"rtibia\", \n",
    "                         \"lfemur\", \"rfemur\",\n",
    "                         \"lhumerus\", \"rhumerus\",\n",
    "                         \"lradius\", \"rradius\",\n",
    "                         \"lwrist\", \"rwrist\",])\n",
    "selected_joint_names"
   ]
  },
  {
   "cell_type": "code",
   "execution_count": 6,
   "id": "c104f2dd-7076-4673-9b30-f7b3ddc35588",
   "metadata": {},
   "outputs": [
    {
     "name": "stdout",
     "output_type": "stream",
     "text": [
      "p1s1 | p1s2 | p1s3 | p1s4 | p2s1 | p2s2 | p2s3 | p2s4 | p3s1 | p3s2 | p3s3 | p3s4 | p4s1 | p4s2 | p4s3 | p4s4 | p5s1 | p5s2 | p5s3 | p5s4 | p6s2 | p6s4 | p7s1 | p7s2 | p7s3 | p7s4 | p8s1 | p8s2 | p8s3 | p8s4 | p9s1 | p9s2 | p9s3 | p9s4 | p10s1 | p10s2 | p10s3 | p10s4 | p11s1 | p11s2 | p11s3 | p11s4 | p12s1 | p12s3 | p13s1 | p13s2 | p13s3 | p13s4 | p14s1 | p14s2 | p14s3 | p14s4 | p15s1 | p15s2 | p15s3 | p15s4 | p16s1 | p16s2 | p16s3 | p16s4 | p17s1 | p17s2 | p17s3 | p17s4 | p18s2 | p18s4 | p19s1 | p19s2 | p19s3 | p19s4 | p20s1 | p20s2 | p20s3 | p20s4 | p21s1 | p21s2 | p21s3 | p21s4 | p22s1 | p22s2 | p22s3 | p22s4 | p23s1 | p23s2 | p23s3 | p23s4 | p24s1 | p24s2 | p24s3 | p24s4 | p25s1 | p25s2 | p25s3 | p25s4 | p26s1 | p26s2 | p26s3 | p26s4 | p26s5 | p26s6 | p26s7 | p26s8 | p26s9 | p26s10 | p27s1 | p27s2 | p27s3 | p27s4 | p27s5 | p27s6 | p27s7 | p27s8 | p27s9 | p27s10 | p28s1 | p28s2 | p28s3 | p28s4 | p28s5 | p28s6 | p28s7 | p28s8 | p28s9 | p28s10 | p29s1 | p29s2 | p29s3 | p29s4 | p29s5 | p29s6 | p29s7 | p29s8 | p29s9 | p29s10 | p30s1 | p30s2 | p30s3 | p30s4 | p30s5 | p30s6 | p30s7 | p30s8 | p30s9 | p30s10 | p31s1 | p31s2 | p31s3 | p31s4 | p31s5 | p31s6 | p31s7 | p31s8 | p31s9 | p31s10 | p32s1 | p32s2 | p32s3 | p32s4 | p32s9 | p32s10 | "
     ]
    }
   ],
   "source": [
    "import numpy as np\n",
    "\n",
    "VIDEO_FPS = 25\n",
    "MOCAP_FPS = 100\n",
    "STEP = int(MOCAP_FPS/VIDEO_FPS)\n",
    "FRAME_TIME = 1000/VIDEO_FPS\n",
    "\n",
    "bvh_selection = {}\n",
    "\n",
    "for seq_key in sequences.keys():\n",
    "    print(seq_key, end=\" | \")\n",
    "    if sequences[seq_key]['MoCap_data']:\n",
    "        bvh_file_path = f'gait3d/Sequences/{seq_key}/MoCap/{seq_key}.bvh'\n",
    "        root = bvhio.readAsHierarchy(bvh_file_path)\n",
    "        restPose = bvhio.Transform(scale=1)\n",
    "        root = bvhio.Joint('Root', restPose=bvhio.Transform(scale=1)).attach(root)\n",
    "        \n",
    "        start_frame = sequences[seq_key]['start_frame'] \n",
    "        frame_offset = sequences[seq_key]['frame_offset']\n",
    "        number_of_frames = sequences[seq_key]['number_of_frames']\n",
    "        \n",
    "        sequence_frames_pos = []\n",
    "        \n",
    "        for frame_idx in range(number_of_frames):\n",
    "            pose = root.loadPose(start_frame + frame_idx * STEP + frame_offset).layout()\n",
    "            position_bvh = [joint.PositionWorld for (joint, index, depth) in pose]\n",
    "            \n",
    "            frame_joint_pos = {}\n",
    "            \n",
    "            for joint, index, depth in root.layout():\n",
    "                if joint.Name in selected_joint_names:\n",
    "                    frame_joint_pos[joint.Name] = tuple(joint.PositionWorld)\n",
    "    \n",
    "            sequence_frames_pos.append(frame_joint_pos)\n",
    "    \n",
    "        bvh_selection[seq_key] = sequence_frames_pos"
   ]
  },
  {
   "cell_type": "code",
   "execution_count": 7,
   "id": "da8054f5-f1e8-4e94-8722-da35c3ac21f7",
   "metadata": {
    "scrolled": true
   },
   "outputs": [],
   "source": [
    "import json\n",
    "\n",
    "with open(\"./datasets/mocap/dataset.json\", \"w\") as f:\n",
    "    json.dump(bvh_selection, f, indent=4)"
   ]
  },
  {
   "cell_type": "code",
   "execution_count": null,
   "id": "35221586-4189-4782-8f0c-8ddd94ebc171",
   "metadata": {},
   "outputs": [],
   "source": []
  }
 ],
 "metadata": {
  "kernelspec": {
   "display_name": "Python 3 (ipykernel)",
   "language": "python",
   "name": "python3"
  },
  "language_info": {
   "codemirror_mode": {
    "name": "ipython",
    "version": 3
   },
   "file_extension": ".py",
   "mimetype": "text/x-python",
   "name": "python",
   "nbconvert_exporter": "python",
   "pygments_lexer": "ipython3",
   "version": "3.10.7"
  }
 },
 "nbformat": 4,
 "nbformat_minor": 5
}
