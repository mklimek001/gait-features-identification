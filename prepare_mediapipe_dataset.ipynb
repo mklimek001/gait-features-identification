{
 "cells": [
  {
   "cell_type": "code",
   "execution_count": 1,
   "id": "8df15c5a-4278-45bd-a032-b83a802de770",
   "metadata": {},
   "outputs": [],
   "source": [
    "from utils.multicamera_tools import parse_camera_xml, triangulate_poses\n",
    "from utils.video_tools import get_camera_calibration_files, get_video_files\n",
    "from utils.mediapipe_estimator import MediaPipeEstimator\n",
    "from scripts.frame_iterator import video_frame_iterator\n",
    "from scripts.parsers import parse_sequences as parse_sequence_info\n",
    "import numpy as np\n",
    "import bvhio\n",
    "import warnings\n",
    "\n",
    "warnings.filterwarnings('ignore')\n",
    "\n",
    "file_path = 'gait3d\\\\ListOfSequences.txt'\n",
    "sequences = parse_sequence_info(file_path)"
   ]
  },
  {
   "cell_type": "code",
   "execution_count": 2,
   "id": "d8584092-eb8e-45ea-afaa-d934c98a552b",
   "metadata": {},
   "outputs": [
    {
     "data": {
      "text/plain": [
       "{27: 'lfoot',\n",
       " 28: 'rfoot',\n",
       " 25: 'ltibia',\n",
       " 26: 'rtibia',\n",
       " 23: 'lfemur',\n",
       " 24: 'rfemur',\n",
       " 11: 'lhumerus',\n",
       " 12: 'rhumerus',\n",
       " 13: 'lradius',\n",
       " 14: 'rradius',\n",
       " 15: 'lwrist',\n",
       " 16: 'rwrist'}"
      ]
     },
     "execution_count": 2,
     "metadata": {},
     "output_type": "execute_result"
    }
   ],
   "source": [
    "selected_joint_names = {27 : \"lfoot\", \n",
    "                        28 : \"rfoot\", \n",
    "                        25 : \"ltibia\", \n",
    "                        26 : \"rtibia\", \n",
    "                        23 : \"lfemur\", \n",
    "                        24 : \"rfemur\",\n",
    "                        11 : \"lhumerus\", \n",
    "                        12 : \"rhumerus\",\n",
    "                        13 : \"lradius\", \n",
    "                        14 : \"rradius\",\n",
    "                        15 : \"lwrist\", \n",
    "                        16 : \"rwrist\",}\n",
    "selected_joint_names"
   ]
  },
  {
   "cell_type": "code",
   "execution_count": 3,
   "id": "fb67b594-ae54-4182-ace2-17f3359bc3da",
   "metadata": {
    "scrolled": true
   },
   "outputs": [
    {
     "name": "stdout",
     "output_type": "stream",
     "text": [
      "p1s1 | p1s2 | p1s3 | p1s4 | p2s1 | p2s2 | p2s3 | p2s4 | p3s1 | p3s2 | p3s3 | p3s4 | p4s1 | p4s2 | p4s3 | p4s4 | p5s1 | p5s2 | p5s3 | p5s4 | p6s1 | p6s2 | p6s3 | p6s4 | p7s1 | p7s2 | p7s3 | p7s4 | p8s1 | p8s2 | p8s3 | p8s4 | p9s1 | p9s2 | p9s3 | p9s4 | p10s1 | p10s2 | p10s3 | p10s4 | p11s1 | p11s2 | p11s3 | p11s4 | p12s1 | p12s2 | p12s3 | p12s4 | p13s1 | p13s2 | p13s3 | p13s4 | p14s1 | p14s2 | p14s3 | p14s4 | p15s1 | p15s2 | p15s3 | p15s4 | p16s1 | p16s2 | p16s3 | p16s4 | p17s1 | p17s2 | p17s3 | p17s4 | p18s1 | p18s2 | p18s3 | p18s4 | p19s1 | p19s2 | p19s3 | p19s4 | p20s1 | p20s2 | p20s3 | p20s4 | p21s1 | p21s2 | p21s3 | p21s4 | p22s1 | p22s2 | p22s3 | p22s4 | p23s1 | p23s2 | p23s3 | p23s4 | p24s1 | p24s2 | p24s3 | p24s4 | p25s1 | p25s2 | p25s3 | p25s4 | p26s1 | p26s2 | p26s3 | p26s4 | p26s5 | p26s6 | p26s7 | p26s8 | p26s9 | p26s10 | p27s1 | p27s2 | p27s3 | p27s4 | p27s5 | p27s6 | p27s7 | p27s8 | p27s9 | p27s10 | p28s1 | p28s2 | p28s3 | p28s4 | p28s5 | p28s6 | p28s7 | p28s8 | p28s9 | p28s10 | p29s1 | p29s2 | p29s3 | p29s4 | p29s5 | p29s6 | p29s7 | p29s8 | p29s9 | p29s10 | p30s1 | p30s2 | p30s3 | p30s4 | p30s5 | p30s6 | p30s7 | p30s8 | p30s9 | p30s10 | p31s1 | p31s2 | p31s3 | p31s4 | p31s5 | p31s6 | p31s7 | p31s8 | p31s9 | p31s10 | p32s1 | p32s2 | p32s3 | p32s4 | p32s9 | p32s10 | "
     ]
    }
   ],
   "source": [
    "VIDEO_FPS = 25\n",
    "MOCAP_FPS = 100\n",
    "FRAME_TIME = 1000/VIDEO_FPS\n",
    "MP_LANDMARKS_NUM = 33\n",
    "\n",
    "mediapipe_selection = {}\n",
    "mediapipe_triangulation = {}\n",
    "\n",
    "for seq_key in sequences.keys():\n",
    "    print(seq_key, end=\" | \")\n",
    "    if sequences[seq_key]['MoCap_data']:\n",
    "        video_files = get_video_files(seq_key)\n",
    "        frames_iterator = [video_frame_iterator(avi_file) for avi_file in video_files]\n",
    "        mp_estimators = [MediaPipeEstimator() for _ in range(4)]\n",
    "        \n",
    "        camera_files_paths = get_camera_calibration_files(seq_key)\n",
    "        cameras_params = [parse_camera_xml(camera_path) for camera_path in camera_files_paths]\n",
    "    \n",
    "        predicted_for_seq = {f\"c{i+1}\": {} for i in range(4)}\n",
    "        \n",
    "        combined_cameras_with_landmarks = []\n",
    "        combined_triangulation_results = []\n",
    "        \n",
    "        max_frames = sequences[seq_key]['number_of_frames']\n",
    "        \n",
    "        for frame_i in range(max_frames):\n",
    "            cameras_with_landmarks = [True for _ in range(4)]\n",
    "            \n",
    "            for camera_ind, (f_iterator, mp_estimator) in enumerate(zip(frames_iterator, mp_estimators)):\n",
    "                frame_ts, frame = next(f_iterator)\n",
    "                norm, pixels = mp_estimator.predict_for_frame_to_dataset(frame_i, frame)\n",
    "                # print(camera_ind, norm)\n",
    "                # print(camera_ind, pixels)\n",
    "                if pixels == [(None, None) for _ in range(MP_LANDMARKS_NUM)]:\n",
    "                    cameras_with_landmarks[camera_ind] = False\n",
    "        \n",
    "                predicted_for_seq[f\"c{camera_ind+1}\"][frame_i] = norm\n",
    "            \n",
    "            combined_cameras_with_landmarks.append(cameras_with_landmarks)\n",
    "\n",
    "        mediapipe_selection[seq_key] = predicted_for_seq\n",
    "\n",
    "        \n",
    "        for frame_i in range(max_frames):\n",
    "            found_landmarks_cameras_idx = ([camera_i for camera_i, camera_l_found in \n",
    "                                            enumerate(combined_cameras_with_landmarks[frame_i])\n",
    "                                            if camera_l_found])\n",
    "            \n",
    "            selected_cameras_params = [cameras_params[camera_i] for camera_i in found_landmarks_cameras_idx]\n",
    "            found_2d_points = np.array([predicted_for_seq[f\"c{camera_i+1}\"][frame_i] for camera_i in found_landmarks_cameras_idx])\n",
    "            triangulation_result = triangulate_poses(selected_cameras_params, found_2d_points)\n",
    "            combined_triangulation_results.append(triangulation_result[0].tolist())\n",
    "\n",
    "        mediapipe_triangulation[seq_key] = combined_triangulation_results\n"
   ]
  },
  {
   "cell_type": "code",
   "execution_count": 4,
   "id": "94a0b737-949f-4289-9aaa-e989f3bd91de",
   "metadata": {},
   "outputs": [],
   "source": [
    "import json\n",
    "\n",
    "with open(\"./datasets/mediapipe/dataset_v2.json\", \"w\") as f:\n",
    "    json.dump(mediapipe_selection, f, indent=4)"
   ]
  },
  {
   "cell_type": "code",
   "execution_count": 5,
   "id": "8cf110be-54e6-499b-add9-9bfa8baac258",
   "metadata": {},
   "outputs": [],
   "source": [
    "import json\n",
    "\n",
    "with open(\"./datasets/mediapipe/triangulation_v2.json\", \"w\") as f:\n",
    "    json.dump(mediapipe_triangulation, f, indent=4)"
   ]
  },
  {
   "cell_type": "code",
   "execution_count": 6,
   "id": "9a6974a0-d78a-4564-8ae3-8b38811e7aeb",
   "metadata": {},
   "outputs": [],
   "source": [
    "with open(\"./datasets/mediapipe/selected_joint_names.json\", \"w\") as f:\n",
    "    json.dump(selected_joint_names, f, indent=4)"
   ]
  },
  {
   "cell_type": "code",
   "execution_count": null,
   "id": "2aea7e56-f248-4d67-9b70-98efe43c7989",
   "metadata": {},
   "outputs": [],
   "source": []
  }
 ],
 "metadata": {
  "kernelspec": {
   "display_name": "Python 3 (ipykernel)",
   "language": "python",
   "name": "python3"
  },
  "language_info": {
   "codemirror_mode": {
    "name": "ipython",
    "version": 3
   },
   "file_extension": ".py",
   "mimetype": "text/x-python",
   "name": "python",
   "nbconvert_exporter": "python",
   "pygments_lexer": "ipython3",
   "version": "3.10.7"
  }
 },
 "nbformat": 4,
 "nbformat_minor": 5
}
